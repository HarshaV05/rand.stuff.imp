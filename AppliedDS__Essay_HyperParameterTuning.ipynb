{
  "nbformat": 4,
  "nbformat_minor": 0,
  "metadata": {
    "colab": {
      "name": "AppliedDS_ Essay_HyperParameterTuning.ipynb",
      "provenance": [],
      "collapsed_sections": [],
      "toc_visible": true,
      "mount_file_id": "1laMlEFSuZZM5zCSyvlREatKkRe5mVCWi",
      "authorship_tag": "ABX9TyNmxKEa/8WUDYYRIHo+/JFp",
      "include_colab_link": true
    },
    "kernelspec": {
      "name": "python3",
      "display_name": "Python 3"
    },
    "accelerator": "TPU",
    "widgets": {
      "application/vnd.jupyter.widget-state+json": {
        "3faf21fd8b2d4e0a97ab576f8cc05cb7": {
          "model_module": "@jupyter-widgets/controls",
          "model_name": "HBoxModel",
          "state": {
            "_view_name": "HBoxView",
            "_dom_classes": [],
            "_model_name": "HBoxModel",
            "_view_module": "@jupyter-widgets/controls",
            "_model_module_version": "1.5.0",
            "_view_count": null,
            "_view_module_version": "1.5.0",
            "box_style": "",
            "layout": "IPY_MODEL_b8593adac6e8432a99848e408ac484d4",
            "_model_module": "@jupyter-widgets/controls",
            "children": [
              "IPY_MODEL_7ac3c5fdffc945f3aa7cfc92bccc171e",
              "IPY_MODEL_1dd94e19020043ec8ca866706ce6db22"
            ]
          }
        },
        "b8593adac6e8432a99848e408ac484d4": {
          "model_module": "@jupyter-widgets/base",
          "model_name": "LayoutModel",
          "state": {
            "_view_name": "LayoutView",
            "grid_template_rows": null,
            "right": null,
            "justify_content": null,
            "_view_module": "@jupyter-widgets/base",
            "overflow": null,
            "_model_module_version": "1.2.0",
            "_view_count": null,
            "flex_flow": null,
            "width": null,
            "min_width": null,
            "border": null,
            "align_items": null,
            "bottom": null,
            "_model_module": "@jupyter-widgets/base",
            "top": null,
            "grid_column": null,
            "overflow_y": null,
            "overflow_x": null,
            "grid_auto_flow": null,
            "grid_area": null,
            "grid_template_columns": null,
            "flex": null,
            "_model_name": "LayoutModel",
            "justify_items": null,
            "grid_row": null,
            "max_height": null,
            "align_content": null,
            "visibility": null,
            "align_self": null,
            "height": null,
            "min_height": null,
            "padding": null,
            "grid_auto_rows": null,
            "grid_gap": null,
            "max_width": null,
            "order": null,
            "_view_module_version": "1.2.0",
            "grid_template_areas": null,
            "object_position": null,
            "object_fit": null,
            "grid_auto_columns": null,
            "margin": null,
            "display": null,
            "left": null
          }
        },
        "7ac3c5fdffc945f3aa7cfc92bccc171e": {
          "model_module": "@jupyter-widgets/controls",
          "model_name": "IntProgressModel",
          "state": {
            "_view_name": "ProgressView",
            "style": "IPY_MODEL_122ef238572e4e5286f1ba89f8531e86",
            "_dom_classes": [],
            "description": "Optimization Progress: 100%",
            "_model_name": "IntProgressModel",
            "bar_style": "",
            "max": 84,
            "_view_module": "@jupyter-widgets/controls",
            "_model_module_version": "1.5.0",
            "value": 84,
            "_view_count": null,
            "_view_module_version": "1.5.0",
            "orientation": "horizontal",
            "min": 0,
            "description_tooltip": null,
            "_model_module": "@jupyter-widgets/controls",
            "layout": "IPY_MODEL_d46606fc88444492b901dca4fd538876"
          }
        },
        "1dd94e19020043ec8ca866706ce6db22": {
          "model_module": "@jupyter-widgets/controls",
          "model_name": "HTMLModel",
          "state": {
            "_view_name": "HTMLView",
            "style": "IPY_MODEL_2ed637f5518b48cfbf155eccbec10de2",
            "_dom_classes": [],
            "description": "",
            "_model_name": "HTMLModel",
            "placeholder": "​",
            "_view_module": "@jupyter-widgets/controls",
            "_model_module_version": "1.5.0",
            "value": " 84/84 [10:10&lt;00:00,  7.22s/pipeline]",
            "_view_count": null,
            "_view_module_version": "1.5.0",
            "description_tooltip": null,
            "_model_module": "@jupyter-widgets/controls",
            "layout": "IPY_MODEL_b75aa54bbc224503bbc97ded46767a75"
          }
        },
        "122ef238572e4e5286f1ba89f8531e86": {
          "model_module": "@jupyter-widgets/controls",
          "model_name": "ProgressStyleModel",
          "state": {
            "_view_name": "StyleView",
            "_model_name": "ProgressStyleModel",
            "description_width": "initial",
            "_view_module": "@jupyter-widgets/base",
            "_model_module_version": "1.5.0",
            "_view_count": null,
            "_view_module_version": "1.2.0",
            "bar_color": null,
            "_model_module": "@jupyter-widgets/controls"
          }
        },
        "d46606fc88444492b901dca4fd538876": {
          "model_module": "@jupyter-widgets/base",
          "model_name": "LayoutModel",
          "state": {
            "_view_name": "LayoutView",
            "grid_template_rows": null,
            "right": null,
            "justify_content": null,
            "_view_module": "@jupyter-widgets/base",
            "overflow": null,
            "_model_module_version": "1.2.0",
            "_view_count": null,
            "flex_flow": null,
            "width": null,
            "min_width": null,
            "border": null,
            "align_items": null,
            "bottom": null,
            "_model_module": "@jupyter-widgets/base",
            "top": null,
            "grid_column": null,
            "overflow_y": null,
            "overflow_x": null,
            "grid_auto_flow": null,
            "grid_area": null,
            "grid_template_columns": null,
            "flex": null,
            "_model_name": "LayoutModel",
            "justify_items": null,
            "grid_row": null,
            "max_height": null,
            "align_content": null,
            "visibility": null,
            "align_self": null,
            "height": null,
            "min_height": null,
            "padding": null,
            "grid_auto_rows": null,
            "grid_gap": null,
            "max_width": null,
            "order": null,
            "_view_module_version": "1.2.0",
            "grid_template_areas": null,
            "object_position": null,
            "object_fit": null,
            "grid_auto_columns": null,
            "margin": null,
            "display": null,
            "left": null
          }
        },
        "2ed637f5518b48cfbf155eccbec10de2": {
          "model_module": "@jupyter-widgets/controls",
          "model_name": "DescriptionStyleModel",
          "state": {
            "_view_name": "StyleView",
            "_model_name": "DescriptionStyleModel",
            "description_width": "",
            "_view_module": "@jupyter-widgets/base",
            "_model_module_version": "1.5.0",
            "_view_count": null,
            "_view_module_version": "1.2.0",
            "_model_module": "@jupyter-widgets/controls"
          }
        },
        "b75aa54bbc224503bbc97ded46767a75": {
          "model_module": "@jupyter-widgets/base",
          "model_name": "LayoutModel",
          "state": {
            "_view_name": "LayoutView",
            "grid_template_rows": null,
            "right": null,
            "justify_content": null,
            "_view_module": "@jupyter-widgets/base",
            "overflow": null,
            "_model_module_version": "1.2.0",
            "_view_count": null,
            "flex_flow": null,
            "width": null,
            "min_width": null,
            "border": null,
            "align_items": null,
            "bottom": null,
            "_model_module": "@jupyter-widgets/base",
            "top": null,
            "grid_column": null,
            "overflow_y": null,
            "overflow_x": null,
            "grid_auto_flow": null,
            "grid_area": null,
            "grid_template_columns": null,
            "flex": null,
            "_model_name": "LayoutModel",
            "justify_items": null,
            "grid_row": null,
            "max_height": null,
            "align_content": null,
            "visibility": null,
            "align_self": null,
            "height": null,
            "min_height": null,
            "padding": null,
            "grid_auto_rows": null,
            "grid_gap": null,
            "max_width": null,
            "order": null,
            "_view_module_version": "1.2.0",
            "grid_template_areas": null,
            "object_position": null,
            "object_fit": null,
            "grid_auto_columns": null,
            "margin": null,
            "display": null,
            "left": null
          }
        }
      }
    }
  },
  "cells": [
    {
      "cell_type": "markdown",
      "metadata": {
        "id": "view-in-github",
        "colab_type": "text"
      },
      "source": [
        "<a href=\"https://colab.research.google.com/github/HarshaV05/rand.stuff.imp/blob/B1/AppliedDS__Essay_HyperParameterTuning.ipynb\" target=\"_parent\"><img src=\"https://colab.research.google.com/assets/colab-badge.svg\" alt=\"Open In Colab\"/></a>"
      ]
    },
    {
      "cell_type": "code",
      "metadata": {
        "id": "G7vrF8lk2ldX",
        "colab_type": "code",
        "colab": {}
      },
      "source": [
        "import pandas as pd\n",
        "import numpy as np\n",
        "from matplotlib.pyplot import figure\n",
        "import seaborn as sns\n",
        "from sklearn.preprocessing import StandardScaler\n",
        "from sklearn.model_selection import train_test_split\n",
        "from sklearn.metrics import classification_report,confusion_matrix\n",
        "from sklearn.ensemble import RandomForestClassifier\n",
        "from sklearn.metrics import accuracy_score\n",
        "from sklearn.model_selection import cross_val_score"
      ],
      "execution_count": 0,
      "outputs": []
    },
    {
      "cell_type": "code",
      "metadata": {
        "id": "ZC5r57uI26Yt",
        "colab_type": "code",
        "outputId": "37666da6-5c41-41ee-bd3b-cc460037228f",
        "colab": {
          "base_uri": "https://localhost:8080/",
          "height": 195
        }
      },
      "source": [
        "df = pd.read_excel('drive/My Drive/creditcard_minimised.xlsx')\n",
        "df.head()"
      ],
      "execution_count": 2,
      "outputs": [
        {
          "output_type": "execute_result",
          "data": {
            "text/html": [
              "<div>\n",
              "<style scoped>\n",
              "    .dataframe tbody tr th:only-of-type {\n",
              "        vertical-align: middle;\n",
              "    }\n",
              "\n",
              "    .dataframe tbody tr th {\n",
              "        vertical-align: top;\n",
              "    }\n",
              "\n",
              "    .dataframe thead th {\n",
              "        text-align: right;\n",
              "    }\n",
              "</style>\n",
              "<table border=\"1\" class=\"dataframe\">\n",
              "  <thead>\n",
              "    <tr style=\"text-align: right;\">\n",
              "      <th></th>\n",
              "      <th>V6</th>\n",
              "      <th>V9</th>\n",
              "      <th>V12</th>\n",
              "      <th>V17</th>\n",
              "      <th>Class</th>\n",
              "    </tr>\n",
              "  </thead>\n",
              "  <tbody>\n",
              "    <tr>\n",
              "      <th>0</th>\n",
              "      <td>0.462388</td>\n",
              "      <td>0.363787</td>\n",
              "      <td>-0.617801</td>\n",
              "      <td>0.207971</td>\n",
              "      <td>0</td>\n",
              "    </tr>\n",
              "    <tr>\n",
              "      <th>1</th>\n",
              "      <td>-0.082361</td>\n",
              "      <td>-0.255425</td>\n",
              "      <td>1.065235</td>\n",
              "      <td>-0.114805</td>\n",
              "      <td>0</td>\n",
              "    </tr>\n",
              "    <tr>\n",
              "      <th>2</th>\n",
              "      <td>1.800499</td>\n",
              "      <td>-1.514654</td>\n",
              "      <td>0.066084</td>\n",
              "      <td>1.109969</td>\n",
              "      <td>0</td>\n",
              "    </tr>\n",
              "    <tr>\n",
              "      <th>3</th>\n",
              "      <td>1.247203</td>\n",
              "      <td>-1.387024</td>\n",
              "      <td>0.178228</td>\n",
              "      <td>-0.684093</td>\n",
              "      <td>0</td>\n",
              "    </tr>\n",
              "    <tr>\n",
              "      <th>4</th>\n",
              "      <td>0.095921</td>\n",
              "      <td>0.817739</td>\n",
              "      <td>0.538196</td>\n",
              "      <td>-0.237033</td>\n",
              "      <td>0</td>\n",
              "    </tr>\n",
              "  </tbody>\n",
              "</table>\n",
              "</div>"
            ],
            "text/plain": [
              "         V6        V9       V12       V17  Class\n",
              "0  0.462388  0.363787 -0.617801  0.207971      0\n",
              "1 -0.082361 -0.255425  1.065235 -0.114805      0\n",
              "2  1.800499 -1.514654  0.066084  1.109969      0\n",
              "3  1.247203 -1.387024  0.178228 -0.684093      0\n",
              "4  0.095921  0.817739  0.538196 -0.237033      0"
            ]
          },
          "metadata": {
            "tags": []
          },
          "execution_count": 2
        }
      ]
    },
    {
      "cell_type": "code",
      "metadata": {
        "id": "2yo9wdXo3H3s",
        "colab_type": "code",
        "outputId": "f033fe4b-ecc8-41ba-8c22-7f267d607367",
        "colab": {
          "base_uri": "https://localhost:8080/",
          "height": 34
        }
      },
      "source": [
        "df.shape"
      ],
      "execution_count": 3,
      "outputs": [
        {
          "output_type": "execute_result",
          "data": {
            "text/plain": [
              "(284807, 5)"
            ]
          },
          "metadata": {
            "tags": []
          },
          "execution_count": 3
        }
      ]
    },
    {
      "cell_type": "code",
      "metadata": {
        "id": "mbHs4Gn63oY2",
        "colab_type": "code",
        "outputId": "c32eb7aa-7706-4287-d4d4-efaedd731dd4",
        "colab": {
          "base_uri": "https://localhost:8080/",
          "height": 34
        }
      },
      "source": [
        "# Fraudlent\n",
        "df[df['Class']==1].shape"
      ],
      "execution_count": 4,
      "outputs": [
        {
          "output_type": "execute_result",
          "data": {
            "text/plain": [
              "(492, 5)"
            ]
          },
          "metadata": {
            "tags": []
          },
          "execution_count": 4
        }
      ]
    },
    {
      "cell_type": "code",
      "metadata": {
        "id": "1keS3s353tzQ",
        "colab_type": "code",
        "outputId": "7e5c1ed0-64ee-4280-c14d-7393d2b8e3bd",
        "colab": {
          "base_uri": "https://localhost:8080/",
          "height": 34
        }
      },
      "source": [
        "# Non-fraud \n",
        "df[df['Class']==0].shape"
      ],
      "execution_count": 5,
      "outputs": [
        {
          "output_type": "execute_result",
          "data": {
            "text/plain": [
              "(284315, 5)"
            ]
          },
          "metadata": {
            "tags": []
          },
          "execution_count": 5
        }
      ]
    },
    {
      "cell_type": "code",
      "metadata": {
        "id": "FuhXMliN3OqN",
        "colab_type": "code",
        "outputId": "b44af45e-b52b-4423-a665-bce88b6d5304",
        "colab": {
          "base_uri": "https://localhost:8080/",
          "height": 67
        }
      },
      "source": [
        "#Reducing the size of dataset to make the process faster.\n",
        "# Equal instances of classes is used as the data is greatly imbalanced\n",
        "df2 = df[df.Class == 1][0:400]\n",
        "print(df2.shape)\n",
        "df3 = df[df.Class == 0][0:400]\n",
        "print(df3.shape)\n",
        "\n",
        "df = df2.append(df3, ignore_index=True)\n",
        "#df4.head()\n",
        "df.shape"
      ],
      "execution_count": 6,
      "outputs": [
        {
          "output_type": "stream",
          "text": [
            "(400, 5)\n",
            "(400, 5)\n"
          ],
          "name": "stdout"
        },
        {
          "output_type": "execute_result",
          "data": {
            "text/plain": [
              "(800, 5)"
            ]
          },
          "metadata": {
            "tags": []
          },
          "execution_count": 6
        }
      ]
    },
    {
      "cell_type": "code",
      "metadata": {
        "id": "AcyGefWA36xS",
        "colab_type": "code",
        "colab": {}
      },
      "source": [
        "X = df.drop(['Class'], axis = 1).values\n",
        "Y = df['Class']\n",
        "\n",
        "X = StandardScaler().fit_transform(X)\n",
        "\n",
        "X_Train, X_Test, Y_Train, Y_Test = train_test_split(X, Y, test_size = 0.30, random_state = 101)"
      ],
      "execution_count": 0,
      "outputs": []
    },
    {
      "cell_type": "code",
      "metadata": {
        "id": "x5mypFeC4E3W",
        "colab_type": "code",
        "outputId": "0a7faa6b-4d93-4789-c1a4-6f3c398f79be",
        "colab": {
          "base_uri": "https://localhost:8080/",
          "height": 202
        }
      },
      "source": [
        "#Base model accuracy with default values:\n",
        "\n",
        "model = RandomForestClassifier(random_state= 101).fit(X_Train,Y_Train)\n",
        "predictionforest = model.predict(X_Test)\n",
        "print(confusion_matrix(Y_Test,predictionforest))\n",
        "print(classification_report(Y_Test,predictionforest))\n",
        "acc1 = accuracy_score(Y_Test,predictionforest)"
      ],
      "execution_count": 8,
      "outputs": [
        {
          "output_type": "stream",
          "text": [
            "[[115   1]\n",
            " [  6 118]]\n",
            "              precision    recall  f1-score   support\n",
            "\n",
            "           0       0.95      0.99      0.97       116\n",
            "           1       0.99      0.95      0.97       124\n",
            "\n",
            "    accuracy                           0.97       240\n",
            "   macro avg       0.97      0.97      0.97       240\n",
            "weighted avg       0.97      0.97      0.97       240\n",
            "\n"
          ],
          "name": "stdout"
        }
      ]
    },
    {
      "cell_type": "code",
      "metadata": {
        "id": "i4_CYFCU4MwF",
        "colab_type": "code",
        "outputId": "9f7dfbcd-d0c7-4a1b-b27b-8096cccc7e37",
        "colab": {
          "base_uri": "https://localhost:8080/",
          "height": 202
        }
      },
      "source": [
        "# Manual search:\n",
        "\n",
        "model = RandomForestClassifier(n_estimators=10, random_state= 101).fit(X_Train,Y_Train)\n",
        "predictionforest = model.predict(X_Test)\n",
        "print(confusion_matrix(Y_Test,predictionforest))\n",
        "print(classification_report(Y_Test,predictionforest))\n",
        "acc2 = accuracy_score(Y_Test,predictionforest)"
      ],
      "execution_count": 9,
      "outputs": [
        {
          "output_type": "stream",
          "text": [
            "[[112   4]\n",
            " [  8 116]]\n",
            "              precision    recall  f1-score   support\n",
            "\n",
            "           0       0.93      0.97      0.95       116\n",
            "           1       0.97      0.94      0.95       124\n",
            "\n",
            "    accuracy                           0.95       240\n",
            "   macro avg       0.95      0.95      0.95       240\n",
            "weighted avg       0.95      0.95      0.95       240\n",
            "\n"
          ],
          "name": "stdout"
        }
      ]
    },
    {
      "cell_type": "code",
      "metadata": {
        "id": "Kk0nqC-K4pt4",
        "colab_type": "code",
        "outputId": "6bc6bfda-268f-4eb7-9aa4-3e984e538d4c",
        "colab": {
          "base_uri": "https://localhost:8080/",
          "height": 235
        }
      },
      "source": [
        "# Random Search\n",
        "from sklearn.model_selection import RandomizedSearchCV\n",
        "\n",
        "random_search = {'criterion': ['entropy', 'gini'],\n",
        "               'max_depth': list(np.linspace(10, 1200, 10, dtype = int)) + [None],\n",
        "               'max_features': ['auto', 'sqrt','log2', None],\n",
        "               'min_samples_leaf': [4, 6, 8, 12],\n",
        "               'min_samples_split': [5, 7, 10, 14],\n",
        "               'n_estimators': list(np.linspace(151, 1200, 10, dtype = int))}\n",
        "\n",
        "clf = RandomForestClassifier()\n",
        "model = RandomizedSearchCV(estimator = clf, param_distributions = random_search, n_iter = 80, \n",
        "                               cv = 4, verbose= 5, random_state= 101, n_jobs = -1)\n",
        "model.fit(X_Train,Y_Train)\n",
        "\n",
        "model.best_params_"
      ],
      "execution_count": 11,
      "outputs": [
        {
          "output_type": "stream",
          "text": [
            "Fitting 4 folds for each of 80 candidates, totalling 320 fits\n"
          ],
          "name": "stdout"
        },
        {
          "output_type": "stream",
          "text": [
            "[Parallel(n_jobs=-1)]: Using backend LokyBackend with 2 concurrent workers.\n",
            "[Parallel(n_jobs=-1)]: Done  14 tasks      | elapsed:   12.6s\n",
            "[Parallel(n_jobs=-1)]: Done  68 tasks      | elapsed:   57.1s\n",
            "[Parallel(n_jobs=-1)]: Done 158 tasks      | elapsed:  2.3min\n",
            "[Parallel(n_jobs=-1)]: Done 284 tasks      | elapsed:  4.6min\n",
            "[Parallel(n_jobs=-1)]: Done 320 out of 320 | elapsed:  5.3min finished\n"
          ],
          "name": "stderr"
        },
        {
          "output_type": "execute_result",
          "data": {
            "text/plain": [
              "{'criterion': 'entropy',\n",
              " 'max_depth': 142,\n",
              " 'max_features': 'log2',\n",
              " 'min_samples_leaf': 4,\n",
              " 'min_samples_split': 7,\n",
              " 'n_estimators': 500}"
            ]
          },
          "metadata": {
            "tags": []
          },
          "execution_count": 11
        }
      ]
    },
    {
      "cell_type": "code",
      "metadata": {
        "id": "_RWK-U925Bxm",
        "colab_type": "code",
        "outputId": "06ca5baf-7e98-44a3-c6aa-b762ba07d065",
        "colab": {
          "base_uri": "https://localhost:8080/",
          "height": 202
        }
      },
      "source": [
        "predictionforest = model.best_estimator_.predict(X_Test)\n",
        "print(confusion_matrix(Y_Test,predictionforest))\n",
        "print(classification_report(Y_Test,predictionforest))\n",
        "acc3 = accuracy_score(Y_Test,predictionforest)"
      ],
      "execution_count": 12,
      "outputs": [
        {
          "output_type": "stream",
          "text": [
            "[[115   1]\n",
            " [  7 117]]\n",
            "              precision    recall  f1-score   support\n",
            "\n",
            "           0       0.94      0.99      0.97       116\n",
            "           1       0.99      0.94      0.97       124\n",
            "\n",
            "    accuracy                           0.97       240\n",
            "   macro avg       0.97      0.97      0.97       240\n",
            "weighted avg       0.97      0.97      0.97       240\n",
            "\n"
          ],
          "name": "stdout"
        }
      ]
    },
    {
      "cell_type": "code",
      "metadata": {
        "id": "hl5aPFxX5cXb",
        "colab_type": "code",
        "outputId": "b25ced97-b9ac-48ac-b4ba-80fd93acfa09",
        "colab": {
          "base_uri": "https://localhost:8080/",
          "height": 521
        }
      },
      "source": [
        "# Grid search\n",
        "\n",
        "from sklearn.model_selection import GridSearchCV\n",
        "\n",
        "grid_search = {\n",
        "    'criterion': [model.best_params_['criterion']],\n",
        "    'max_depth': [model.best_params_['max_depth']],\n",
        "    'max_features': [model.best_params_['max_features']],\n",
        "    'min_samples_leaf': [model.best_params_['min_samples_leaf'] - 2, \n",
        "                         model.best_params_['min_samples_leaf'], \n",
        "                         model.best_params_['min_samples_leaf'] + 2],\n",
        "    'min_samples_split': [model.best_params_['min_samples_split'] - 3, \n",
        "                          model.best_params_['min_samples_split'], \n",
        "                          model.best_params_['min_samples_split'] + 3],\n",
        "    'n_estimators': [model.best_params_['n_estimators'] - 150, model.best_params_['n_estimators'] - 100, \n",
        "                     model.best_params_['n_estimators'], \n",
        "                     model.best_params_['n_estimators'] + 100, model.best_params_['n_estimators'] + 150]\n",
        "}\n",
        "\n",
        "clf = RandomForestClassifier()\n",
        "model = GridSearchCV(estimator = clf, param_grid = grid_search, \n",
        "                               cv = 4, verbose= 5, n_jobs = -1)\n",
        "model.fit(X_Train,Y_Train)"
      ],
      "execution_count": 13,
      "outputs": [
        {
          "output_type": "stream",
          "text": [
            "Fitting 4 folds for each of 45 candidates, totalling 180 fits\n"
          ],
          "name": "stdout"
        },
        {
          "output_type": "stream",
          "text": [
            "[Parallel(n_jobs=-1)]: Using backend LokyBackend with 2 concurrent workers.\n",
            "[Parallel(n_jobs=-1)]: Done  14 tasks      | elapsed:    9.5s\n",
            "[Parallel(n_jobs=-1)]: Done  68 tasks      | elapsed:   50.4s\n",
            "[Parallel(n_jobs=-1)]: Done 158 tasks      | elapsed:  2.0min\n",
            "[Parallel(n_jobs=-1)]: Done 180 out of 180 | elapsed:  2.3min finished\n"
          ],
          "name": "stderr"
        },
        {
          "output_type": "execute_result",
          "data": {
            "text/plain": [
              "GridSearchCV(cv=4, error_score=nan,\n",
              "             estimator=RandomForestClassifier(bootstrap=True, ccp_alpha=0.0,\n",
              "                                              class_weight=None,\n",
              "                                              criterion='gini', max_depth=None,\n",
              "                                              max_features='auto',\n",
              "                                              max_leaf_nodes=None,\n",
              "                                              max_samples=None,\n",
              "                                              min_impurity_decrease=0.0,\n",
              "                                              min_impurity_split=None,\n",
              "                                              min_samples_leaf=1,\n",
              "                                              min_samples_split=2,\n",
              "                                              min_weight_fraction_leaf=0.0,\n",
              "                                              n_estimators=100, n_jobs=None,\n",
              "                                              oob_score=False,\n",
              "                                              random_state=None, verbose=0,\n",
              "                                              warm_start=False),\n",
              "             iid='deprecated', n_jobs=-1,\n",
              "             param_grid={'criterion': ['entropy'], 'max_depth': [142],\n",
              "                         'max_features': ['log2'],\n",
              "                         'min_samples_leaf': [2, 4, 6],\n",
              "                         'min_samples_split': [4, 7, 10],\n",
              "                         'n_estimators': [350, 400, 500, 600, 650]},\n",
              "             pre_dispatch='2*n_jobs', refit=True, return_train_score=False,\n",
              "             scoring=None, verbose=5)"
            ]
          },
          "metadata": {
            "tags": []
          },
          "execution_count": 13
        }
      ]
    },
    {
      "cell_type": "code",
      "metadata": {
        "id": "TT_FAtcJ6OTW",
        "colab_type": "code",
        "outputId": "922c2757-1e16-4073-9954-82d6a36e37bd",
        "colab": {
          "base_uri": "https://localhost:8080/",
          "height": 202
        }
      },
      "source": [
        "predictionforest = model.best_estimator_.predict(X_Test)\n",
        "print(confusion_matrix(Y_Test,predictionforest))\n",
        "print(classification_report(Y_Test,predictionforest))\n",
        "acc4 = accuracy_score(Y_Test,predictionforest)"
      ],
      "execution_count": 14,
      "outputs": [
        {
          "output_type": "stream",
          "text": [
            "[[115   1]\n",
            " [  6 118]]\n",
            "              precision    recall  f1-score   support\n",
            "\n",
            "           0       0.95      0.99      0.97       116\n",
            "           1       0.99      0.95      0.97       124\n",
            "\n",
            "    accuracy                           0.97       240\n",
            "   macro avg       0.97      0.97      0.97       240\n",
            "weighted avg       0.97      0.97      0.97       240\n",
            "\n"
          ],
          "name": "stdout"
        }
      ]
    },
    {
      "cell_type": "code",
      "metadata": {
        "id": "FaD0P-9l6l96",
        "colab_type": "code",
        "colab": {}
      },
      "source": [
        "# Bayesian optimization:\n",
        "\n",
        "from hyperopt import hp, fmin, tpe, STATUS_OK, Trials\n",
        "from sklearn.metrics import accuracy_score"
      ],
      "execution_count": 0,
      "outputs": []
    },
    {
      "cell_type": "code",
      "metadata": {
        "id": "72EySjGi7RnP",
        "colab_type": "code",
        "colab": {}
      },
      "source": [
        "space = {'criterion': hp.choice('criterion', ['entropy', 'gini']),\n",
        "        'max_depth': hp.quniform('max_depth', 10, 1200, 10),\n",
        "        'max_features': hp.choice('max_features', ['auto', 'sqrt','log2', None]),\n",
        "        'min_samples_leaf': hp.uniform ('min_samples_leaf', 0, 0.5),\n",
        "        'min_samples_split' : hp.uniform ('min_samples_split', 0, 1),\n",
        "        'n_estimators' : hp.choice('n_estimators', [10, 50, 300, 750, 1200])\n",
        "    }"
      ],
      "execution_count": 0,
      "outputs": []
    },
    {
      "cell_type": "code",
      "metadata": {
        "id": "5hS2SGNa7T-Q",
        "colab_type": "code",
        "colab": {}
      },
      "source": [
        "def objective(space):\n",
        "    model = RandomForestClassifier(criterion = space['criterion'], max_depth = space['max_depth'],\n",
        "                                 max_features = space['max_features'],\n",
        "                                 min_samples_leaf = space['min_samples_leaf'],\n",
        "                                 min_samples_split = space['min_samples_split'],\n",
        "                                 n_estimators = space['n_estimators'], \n",
        "                                 )\n",
        "    \n",
        "    accuracy = cross_val_score(model, X_Train, Y_Train, cv = 4).mean()\n",
        "\n",
        "    # We aim to maximize accuracy, therefore we return it as a negative value\n",
        "    return {'loss': -accuracy, 'status': STATUS_OK }"
      ],
      "execution_count": 0,
      "outputs": []
    },
    {
      "cell_type": "code",
      "metadata": {
        "id": "S75x1fuA7YOT",
        "colab_type": "code",
        "outputId": "88d80dff-921d-420b-e03b-abe1fe8b192f",
        "colab": {
          "base_uri": "https://localhost:8080/",
          "height": 134
        }
      },
      "source": [
        "trials = Trials()\n",
        "best = fmin(fn= objective,\n",
        "            space= space,\n",
        "            algo= tpe.suggest,\n",
        "            max_evals = 80,\n",
        "            trials= trials)\n",
        "best\n"
      ],
      "execution_count": 18,
      "outputs": [
        {
          "output_type": "stream",
          "text": [
            "100%|██████████| 80/80 [04:39<00:00,  3.49s/it, best loss: -0.9357142857142857]\n"
          ],
          "name": "stdout"
        },
        {
          "output_type": "execute_result",
          "data": {
            "text/plain": [
              "{'criterion': 0,\n",
              " 'max_depth': 250.0,\n",
              " 'max_features': 2,\n",
              " 'min_samples_leaf': 0.019261019218744242,\n",
              " 'min_samples_split': 0.05167787872482571,\n",
              " 'n_estimators': 3}"
            ]
          },
          "metadata": {
            "tags": []
          },
          "execution_count": 18
        }
      ]
    },
    {
      "cell_type": "code",
      "metadata": {
        "id": "tEqQKLox7a_f",
        "colab_type": "code",
        "outputId": "711532fb-9dae-41bd-a35d-3c69be9a10bd",
        "colab": {
          "base_uri": "https://localhost:8080/",
          "height": 962
        }
      },
      "source": [
        "import matplotlib.pyplot as plt\n",
        "\n",
        "parameters = ['criterion', 'max_depth', 'max_features', 'min_samples_leaf', 'min_samples_split',\n",
        "              'n_estimators']\n",
        "f, axes = plt.subplots(nrows=3, ncols=2, figsize=(15,10))\n",
        "f.tight_layout()\n",
        "cmap = plt.cm.jet\n",
        "for i, val in enumerate(parameters):\n",
        "    print(i, val)\n",
        "    xs = np.array([t['misc']['vals'][val] for t in trials.trials]).ravel()\n",
        "    ys = [-t['result']['loss'] for t in trials.trials]\n",
        "    xs, ys = zip(*sorted(zip(xs, ys)))\n",
        "    ys = np.array(ys)\n",
        "    axes[i//2,i%2].scatter(xs, ys, s=20, linewidth=0.01, alpha=0.5, c=cmap(float(i)/len(parameters)))\n",
        "    axes[i//2,i%2].set_title(val)"
      ],
      "execution_count": 19,
      "outputs": [
        {
          "output_type": "stream",
          "text": [
            "'c' argument looks like a single numeric RGB or RGBA sequence, which should be avoided as value-mapping will have precedence in case its length matches with 'x' & 'y'.  Please use a 2-D array with a single row if you really want to specify the same RGB or RGBA value for all points.\n",
            "'c' argument looks like a single numeric RGB or RGBA sequence, which should be avoided as value-mapping will have precedence in case its length matches with 'x' & 'y'.  Please use a 2-D array with a single row if you really want to specify the same RGB or RGBA value for all points.\n",
            "'c' argument looks like a single numeric RGB or RGBA sequence, which should be avoided as value-mapping will have precedence in case its length matches with 'x' & 'y'.  Please use a 2-D array with a single row if you really want to specify the same RGB or RGBA value for all points.\n",
            "'c' argument looks like a single numeric RGB or RGBA sequence, which should be avoided as value-mapping will have precedence in case its length matches with 'x' & 'y'.  Please use a 2-D array with a single row if you really want to specify the same RGB or RGBA value for all points.\n",
            "'c' argument looks like a single numeric RGB or RGBA sequence, which should be avoided as value-mapping will have precedence in case its length matches with 'x' & 'y'.  Please use a 2-D array with a single row if you really want to specify the same RGB or RGBA value for all points.\n",
            "'c' argument looks like a single numeric RGB or RGBA sequence, which should be avoided as value-mapping will have precedence in case its length matches with 'x' & 'y'.  Please use a 2-D array with a single row if you really want to specify the same RGB or RGBA value for all points.\n"
          ],
          "name": "stderr"
        },
        {
          "output_type": "stream",
          "text": [
            "0 criterion\n",
            "1 max_depth\n",
            "2 max_features\n",
            "3 min_samples_leaf\n",
            "4 min_samples_split\n",
            "5 n_estimators\n"
          ],
          "name": "stdout"
        },
        {
          "output_type": "display_data",
          "data": {
            "image/png": "[encoded data removed]",
            "text/plain": [
              "<Figure size 1080x720 with 6 Axes>"
            ]
          },
          "metadata": {
            "tags": []
          }
        }
      ]
    },
    {
      "cell_type": "code",
      "metadata": {
        "id": "FSq-zyFq7qoP",
        "colab_type": "code",
        "outputId": "9fec4e1b-beba-4088-9844-351aa0eb48af",
        "colab": {
          "base_uri": "https://localhost:8080/",
          "height": 67
        }
      },
      "source": [
        "crit = {0: 'entropy', 1: 'gini'}\n",
        "feat = {0: 'auto', 1: 'sqrt', 2: 'log2', 3: None}\n",
        "est = {0: 10, 1: 50, 2: 300, 3: 750, 4: 1200}\n",
        "\n",
        "print(crit[best['criterion']])\n",
        "print(feat[best['max_features']])\n",
        "print(est[best['n_estimators']])"
      ],
      "execution_count": 20,
      "outputs": [
        {
          "output_type": "stream",
          "text": [
            "entropy\n",
            "log2\n",
            "750\n"
          ],
          "name": "stdout"
        }
      ]
    },
    {
      "cell_type": "code",
      "metadata": {
        "id": "fTJuz7uR7vtk",
        "colab_type": "code",
        "outputId": "f85cce9b-f503-4a74-8e65-a2619922f916",
        "colab": {
          "base_uri": "https://localhost:8080/",
          "height": 202
        }
      },
      "source": [
        "trainedforest = RandomForestClassifier(criterion = crit[best['criterion']], max_depth = best['max_depth'], \n",
        "                                       max_features = feat[best['max_features']], \n",
        "                                       min_samples_leaf = best['min_samples_leaf'], \n",
        "                                       min_samples_split = best['min_samples_split'], \n",
        "                                       n_estimators = est[best['n_estimators']]).fit(X_Train,Y_Train)\n",
        "predictionforest = trainedforest.predict(X_Test)\n",
        "print(confusion_matrix(Y_Test,predictionforest))\n",
        "print(classification_report(Y_Test,predictionforest))\n",
        "acc5 = accuracy_score(Y_Test,predictionforest)"
      ],
      "execution_count": 21,
      "outputs": [
        {
          "output_type": "stream",
          "text": [
            "[[114   2]\n",
            " [  8 116]]\n",
            "              precision    recall  f1-score   support\n",
            "\n",
            "           0       0.93      0.98      0.96       116\n",
            "           1       0.98      0.94      0.96       124\n",
            "\n",
            "    accuracy                           0.96       240\n",
            "   macro avg       0.96      0.96      0.96       240\n",
            "weighted avg       0.96      0.96      0.96       240\n",
            "\n"
          ],
          "name": "stdout"
        }
      ]
    },
    {
      "cell_type": "code",
      "metadata": {
        "id": "_uUDWAvF7_GS",
        "colab_type": "code",
        "colab": {}
      },
      "source": [
        "parameters = {'criterion': ['entropy', 'gini'],\n",
        "               'max_depth': list(np.linspace(10, 1200, 10, dtype = int)) + [None],\n",
        "               'max_features': ['auto', 'sqrt','log2', None],\n",
        "               'min_samples_leaf': [4, 12],\n",
        "               'min_samples_split': [5, 10],\n",
        "               'n_estimators': list(np.linspace(151, 1200, 10, dtype = int))}"
      ],
      "execution_count": 0,
      "outputs": []
    },
    {
      "cell_type": "code",
      "metadata": {
        "id": "eoo8RJDu8-Lr",
        "colab_type": "code",
        "outputId": "d7879d87-ee80-47d1-d8b8-4b1a68135c90",
        "colab": {
          "base_uri": "https://localhost:8080/",
          "height": 1000,
          "referenced_widgets": [
            "3faf21fd8b2d4e0a97ab576f8cc05cb7",
            "b8593adac6e8432a99848e408ac484d4",
            "7ac3c5fdffc945f3aa7cfc92bccc171e",
            "1dd94e19020043ec8ca866706ce6db22",
            "122ef238572e4e5286f1ba89f8531e86",
            "d46606fc88444492b901dca4fd538876",
            "2ed637f5518b48cfbf155eccbec10de2",
            "b75aa54bbc224503bbc97ded46767a75"
          ]
        }
      },
      "source": [
        "# Genetic algorithms:\n",
        "\n",
        "!pip install TPOT\n",
        "from tpot import TPOTClassifier\n",
        "from deap.gp import Primitive\n",
        "\n",
        "\n",
        "tpot_classifier = TPOTClassifier(generations= 5, population_size= 24, offspring_size= 12,\n",
        "                                 verbosity= 2, early_stop= 12,\n",
        "                                 config_dict={'sklearn.ensemble.RandomForestClassifier': parameters}, \n",
        "                                 cv = 4, scoring = 'accuracy')\n",
        "tpot_classifier.fit(X_Train,Y_Train)"
      ],
      "execution_count": 24,
      "outputs": [
        {
          "output_type": "stream",
          "text": [
            "Requirement already satisfied: TPOT in /usr/local/lib/python3.6/dist-packages (0.11.1)\n",
            "Requirement already satisfied: update-checker>=0.16 in /usr/local/lib/python3.6/dist-packages (from TPOT) (0.16)\n",
            "Requirement already satisfied: tqdm>=4.36.1 in /usr/local/lib/python3.6/dist-packages (from TPOT) (4.38.0)\n",
            "Requirement already satisfied: scikit-learn>=0.22.0 in /usr/local/lib/python3.6/dist-packages (from TPOT) (0.22.2.post1)\n",
            "Requirement already satisfied: deap>=1.2 in /usr/local/lib/python3.6/dist-packages (from TPOT) (1.3.1)\n",
            "Requirement already satisfied: scipy>=1.3.1 in /usr/local/lib/python3.6/dist-packages (from TPOT) (1.4.1)\n",
            "Requirement already satisfied: joblib>=0.13.2 in /usr/local/lib/python3.6/dist-packages (from TPOT) (0.14.1)\n",
            "Requirement already satisfied: numpy>=1.16.3 in /usr/local/lib/python3.6/dist-packages (from TPOT) (1.18.2)\n",
            "Requirement already satisfied: pandas>=0.24.2 in /usr/local/lib/python3.6/dist-packages (from TPOT) (0.25.3)\n",
            "Requirement already satisfied: stopit>=1.1.1 in /usr/local/lib/python3.6/dist-packages (from TPOT) (1.1.2)\n",
            "Requirement already satisfied: requests>=2.3.0 in /usr/local/lib/python3.6/dist-packages (from update-checker>=0.16->TPOT) (2.21.0)\n",
            "Requirement already satisfied: pytz>=2017.2 in /usr/local/lib/python3.6/dist-packages (from pandas>=0.24.2->TPOT) (2018.9)\n",
            "Requirement already satisfied: python-dateutil>=2.6.1 in /usr/local/lib/python3.6/dist-packages (from pandas>=0.24.2->TPOT) (2.8.1)\n",
            "Requirement already satisfied: certifi>=2017.4.17 in /usr/local/lib/python3.6/dist-packages (from requests>=2.3.0->update-checker>=0.16->TPOT) (2019.11.28)\n",
            "Requirement already satisfied: idna<2.9,>=2.5 in /usr/local/lib/python3.6/dist-packages (from requests>=2.3.0->update-checker>=0.16->TPOT) (2.8)\n",
            "Requirement already satisfied: chardet<3.1.0,>=3.0.2 in /usr/local/lib/python3.6/dist-packages (from requests>=2.3.0->update-checker>=0.16->TPOT) (3.0.4)\n",
            "Requirement already satisfied: urllib3<1.25,>=1.21.1 in /usr/local/lib/python3.6/dist-packages (from requests>=2.3.0->update-checker>=0.16->TPOT) (1.24.3)\n",
            "Requirement already satisfied: six>=1.5 in /usr/local/lib/python3.6/dist-packages (from python-dateutil>=2.6.1->pandas>=0.24.2->TPOT) (1.12.0)\n"
          ],
          "name": "stdout"
        },
        {
          "output_type": "display_data",
          "data": {
            "application/vnd.jupyter.widget-view+json": {
              "model_id": "3faf21fd8b2d4e0a97ab576f8cc05cb7",
              "version_minor": 0,
              "version_major": 2
            },
            "text/plain": [
              "HBox(children=(IntProgress(value=0, description='Optimization Progress', max=84, style=ProgressStyle(descripti…"
            ]
          },
          "metadata": {
            "tags": []
          }
        },
        {
          "output_type": "stream",
          "text": [
            "Generation 1 - Current best internal CV score: 0.9375\n",
            "Generation 2 - Current best internal CV score: 0.9410714285714286\n",
            "Generation 3 - Current best internal CV score: 0.9410714285714286\n",
            "Generation 4 - Current best internal CV score: 0.9410714285714286\n",
            "Generation 5 - Current best internal CV score: 0.9410714285714286\n",
            "\n",
            "Best pipeline: RandomForestClassifier(RandomForestClassifier(RandomForestClassifier(input_matrix, criterion=gini, max_depth=406, max_features=auto, min_samples_leaf=12, min_samples_split=5, n_estimators=617), criterion=entropy, max_depth=274, max_features=auto, min_samples_leaf=4, min_samples_split=10, n_estimators=1200), criterion=entropy, max_depth=671, max_features=auto, min_samples_leaf=4, min_samples_split=5, n_estimators=617)\n"
          ],
          "name": "stdout"
        },
        {
          "output_type": "execute_result",
          "data": {
            "text/plain": [
              "TPOTClassifier(config_dict={'sklearn.ensemble.RandomForestClassifier': {'criterion': ['entropy',\n",
              "                                                                                      'gini'],\n",
              "                                                                        'max_depth': [10,\n",
              "                                                                                      142,\n",
              "                                                                                      274,\n",
              "                                                                                      406,\n",
              "                                                                                      538,\n",
              "                                                                                      671,\n",
              "                                                                                      803,\n",
              "                                                                                      935,\n",
              "                                                                                      1067,\n",
              "                                                                                      1200,\n",
              "                                                                                      None],\n",
              "                                                                        'max_features': ['auto',\n",
              "                                                                                         'sqrt',\n",
              "                                                                                         'log2',\n",
              "                                                                                         None],\n",
              "                                                                        'min_samples_leaf': [4,\n",
              "                                                                                             12],\n",
              "                                                                        'min_samples_split': [5,\n",
              "                                                                                              10],\n",
              "                                                                        'n_estimators': [151,\n",
              "                                                                                         267,\n",
              "                                                                                         384,\n",
              "                                                                                         500,\n",
              "                                                                                         617,\n",
              "                                                                                         733,\n",
              "                                                                                         850,\n",
              "                                                                                         966,\n",
              "                                                                                         1083,\n",
              "                                                                                         1200]}},\n",
              "               crossover_rate=0.1, cv=4, disable_update_check=False,\n",
              "               early_stop=12, generations=5, max_eval_time_mins=5,\n",
              "               max_time_mins=None, memory=None, mutation_rate=0.9, n_jobs=1,\n",
              "               offspring_size=12, periodic_checkpoint_folder=None,\n",
              "               population_size=24, random_state=None, scoring='accuracy',\n",
              "               subsample=1.0, template=None, use_dask=False, verbosity=2,\n",
              "               warm_start=False)"
            ]
          },
          "metadata": {
            "tags": []
          },
          "execution_count": 24
        }
      ]
    },
    {
      "cell_type": "code",
      "metadata": {
        "id": "SoA8rmtM9Arg",
        "colab_type": "code",
        "outputId": "d42b9d23-3b2f-4dfe-f332-e4ad2b194143",
        "colab": {
          "base_uri": "https://localhost:8080/",
          "height": 34
        }
      },
      "source": [
        "acc6 = tpot_classifier.score(X_Test, Y_Test)\n",
        "print(acc6)"
      ],
      "execution_count": 25,
      "outputs": [
        {
          "output_type": "stream",
          "text": [
            "0.9375\n"
          ],
          "name": "stdout"
        }
      ]
    },
    {
      "cell_type": "code",
      "metadata": {
        "id": "Yv8G75Gj9WMq",
        "colab_type": "code",
        "colab": {}
      },
      "source": [
        "args = {}\n",
        "for arg in tpot_classifier._optimized_pipeline:\n",
        "    if type(arg) != Primitive:\n",
        "        try:\n",
        "            if arg.value.split('__')[1].split('=')[0] in ['criterion', 'max_depth', \n",
        "                                                          'max_features', 'min_samples_leaf', \n",
        "                                                          'min_samples_split',\n",
        "                                                          'n_estimators']:\n",
        "                args[arg.value.split('__')[1].split('=')[0]] = int(arg.value.split('__')[1].split('=')[1])\n",
        "            else:\n",
        "                args[arg.value.split('__')[1].split('=')[0]] = float(arg.value.split('__')[1].split('=')[1])\n",
        "        except:\n",
        "            pass\n",
        "params = args"
      ],
      "execution_count": 0,
      "outputs": []
    },
    {
      "cell_type": "code",
      "metadata": {
        "id": "UCGyHm-j9zY4",
        "colab_type": "code",
        "outputId": "14c3fe27-19f7-40ea-ac7f-369009eef883",
        "colab": {
          "base_uri": "https://localhost:8080/",
          "height": 218
        }
      },
      "source": [
        "model = RandomForestClassifier( max_depth = params['max_depth'],\n",
        "                             min_samples_leaf = params['min_samples_leaf'],\n",
        "                             min_samples_split = params['min_samples_split'],\n",
        "                             n_estimators = params['n_estimators'], \n",
        "                             )\n",
        "model.fit(X_Train,Y_Train)\n",
        "predictionforest = model.predict(X_Test)\n",
        "print(confusion_matrix(Y_Test,predictionforest))\n",
        "print(classification_report(Y_Test,predictionforest))\n",
        "accuracy_score(Y_Test,predictionforest)"
      ],
      "execution_count": 27,
      "outputs": [
        {
          "output_type": "stream",
          "text": [
            "[[115   1]\n",
            " [  8 116]]\n",
            "              precision    recall  f1-score   support\n",
            "\n",
            "           0       0.93      0.99      0.96       116\n",
            "           1       0.99      0.94      0.96       124\n",
            "\n",
            "    accuracy                           0.96       240\n",
            "   macro avg       0.96      0.96      0.96       240\n",
            "weighted avg       0.96      0.96      0.96       240\n",
            "\n"
          ],
          "name": "stdout"
        },
        {
          "output_type": "execute_result",
          "data": {
            "text/plain": [
              "0.9625"
            ]
          },
          "metadata": {
            "tags": []
          },
          "execution_count": 27
        }
      ]
    },
    {
      "cell_type": "code",
      "metadata": {
        "id": "Vj2P_RtL90t9",
        "colab_type": "code",
        "outputId": "4d88cff7-d606-488d-d259-18348a5e7425",
        "colab": {
          "base_uri": "https://localhost:8080/",
          "height": 1000
        }
      },
      "source": [
        "# Artificial Neural Network tuning:\n",
        "\n",
        "%tensorflow_version 1.x\n",
        "from keras.models import Sequential\n",
        "from keras.layers import Dense, Dropout\n",
        "from keras.wrappers.scikit_learn import KerasClassifier\n",
        "\n",
        "def DL_Model(activation= 'linear', neurons= 5, optimizer='Adam'):\n",
        "    model = Sequential()\n",
        "    model.add(Dense(neurons, input_dim= 4, activation= activation))\n",
        "    model.add(Dense(neurons, activation= activation))\n",
        "    model.add(Dropout(0.3))\n",
        "    model.add(Dense(1, activation='sigmoid'))\n",
        "    model.compile(loss='binary_crossentropy', optimizer= optimizer, metrics=['accuracy'])\n",
        "    return model\n",
        "\n",
        "# Definying grid parameters\n",
        "activation = ['softmax', 'relu', 'tanh', 'sigmoid', 'linear']\n",
        "neurons = [5, 10, 15, 25, 35, 50]\n",
        "optimizer = ['SGD', 'Adam', 'Adamax']\n",
        "param_grid = dict(activation = activation, neurons = neurons, optimizer = optimizer)\n",
        "\n",
        "clf = KerasClassifier(build_fn= DL_Model, epochs= 80, batch_size=40, verbose= 0)\n",
        "\n",
        "model = GridSearchCV(estimator= clf, param_grid=param_grid, n_jobs=-1)\n",
        "model.fit(X_Train,Y_Train)\n",
        "\n",
        "print(\"Max Accuracy Registred: {} using {}\".format(round(model.best_score_,3), model.best_params_))\n",
        "acc = model.cv_results_['mean_test_score']\n",
        "hyper = model.cv_results_['params']\n",
        "\n",
        "for mean, param in zip(acc, hyper):\n",
        "    print(\"Overall accuracy of {} % using: {}\".format(round(mean, 3), param))"
      ],
      "execution_count": 28,
      "outputs": [
        {
          "output_type": "stream",
          "text": [
            "TensorFlow 1.x selected.\n"
          ],
          "name": "stdout"
        },
        {
          "output_type": "stream",
          "text": [
            "Using TensorFlow backend.\n",
            "/usr/local/lib/python3.6/dist-packages/joblib/externals/loky/process_executor.py:706: UserWarning: A worker stopped while some jobs were given to the executor. This can be caused by a too short worker timeout or by a memory leak.\n",
            "  \"timeout or by a memory leak.\", UserWarning\n"
          ],
          "name": "stderr"
        },
        {
          "output_type": "stream",
          "text": [
            "WARNING:tensorflow:From /usr/local/lib/python3.6/dist-packages/keras/backend/tensorflow_backend.py:66: The name tf.get_default_graph is deprecated. Please use tf.compat.v1.get_default_graph instead.\n",
            "\n",
            "WARNING:tensorflow:From /usr/local/lib/python3.6/dist-packages/keras/backend/tensorflow_backend.py:541: The name tf.placeholder is deprecated. Please use tf.compat.v1.placeholder instead.\n",
            "\n",
            "WARNING:tensorflow:From /usr/local/lib/python3.6/dist-packages/keras/backend/tensorflow_backend.py:4432: The name tf.random_uniform is deprecated. Please use tf.random.uniform instead.\n",
            "\n",
            "WARNING:tensorflow:From /usr/local/lib/python3.6/dist-packages/keras/backend/tensorflow_backend.py:148: The name tf.placeholder_with_default is deprecated. Please use tf.compat.v1.placeholder_with_default instead.\n",
            "\n",
            "WARNING:tensorflow:From /usr/local/lib/python3.6/dist-packages/keras/backend/tensorflow_backend.py:3733: calling dropout (from tensorflow.python.ops.nn_ops) with keep_prob is deprecated and will be removed in a future version.\n",
            "Instructions for updating:\n",
            "Please use `rate` instead of `keep_prob`. Rate should be set to `rate = 1 - keep_prob`.\n",
            "WARNING:tensorflow:From /usr/local/lib/python3.6/dist-packages/keras/optimizers.py:793: The name tf.train.Optimizer is deprecated. Please use tf.compat.v1.train.Optimizer instead.\n",
            "\n",
            "WARNING:tensorflow:From /usr/local/lib/python3.6/dist-packages/keras/backend/tensorflow_backend.py:3657: The name tf.log is deprecated. Please use tf.math.log instead.\n",
            "\n",
            "WARNING:tensorflow:From /tensorflow-1.15.2/python3.6/tensorflow_core/python/ops/nn_impl.py:183: where (from tensorflow.python.ops.array_ops) is deprecated and will be removed in a future version.\n",
            "Instructions for updating:\n",
            "Use tf.where in 2.0, which has the same broadcast rule as np.where\n",
            "WARNING:tensorflow:From /usr/local/lib/python3.6/dist-packages/keras/backend/tensorflow_backend.py:1033: The name tf.assign_add is deprecated. Please use tf.compat.v1.assign_add instead.\n",
            "\n",
            "WARNING:tensorflow:From /usr/local/lib/python3.6/dist-packages/keras/backend/tensorflow_backend.py:1020: The name tf.assign is deprecated. Please use tf.compat.v1.assign instead.\n",
            "\n",
            "WARNING:tensorflow:From /usr/local/lib/python3.6/dist-packages/keras/backend/tensorflow_backend.py:3005: The name tf.Session is deprecated. Please use tf.compat.v1.Session instead.\n",
            "\n",
            "WARNING:tensorflow:From /usr/local/lib/python3.6/dist-packages/keras/backend/tensorflow_backend.py:190: The name tf.get_default_session is deprecated. Please use tf.compat.v1.get_default_session instead.\n",
            "\n",
            "WARNING:tensorflow:From /usr/local/lib/python3.6/dist-packages/keras/backend/tensorflow_backend.py:197: The name tf.ConfigProto is deprecated. Please use tf.compat.v1.ConfigProto instead.\n",
            "\n",
            "WARNING:tensorflow:From /usr/local/lib/python3.6/dist-packages/keras/backend/tensorflow_backend.py:207: The name tf.global_variables is deprecated. Please use tf.compat.v1.global_variables instead.\n",
            "\n",
            "WARNING:tensorflow:From /usr/local/lib/python3.6/dist-packages/keras/backend/tensorflow_backend.py:216: The name tf.is_variable_initialized is deprecated. Please use tf.compat.v1.is_variable_initialized instead.\n",
            "\n",
            "WARNING:tensorflow:From /usr/local/lib/python3.6/dist-packages/keras/backend/tensorflow_backend.py:223: The name tf.variables_initializer is deprecated. Please use tf.compat.v1.variables_initializer instead.\n",
            "\n",
            "Max Accuracy Registred: 0.93 using {'activation': 'linear', 'neurons': 25, 'optimizer': 'Adam'}\n",
            "Overall accuracy of 0.546 % using: {'activation': 'softmax', 'neurons': 5, 'optimizer': 'SGD'}\n",
            "Overall accuracy of 0.895 % using: {'activation': 'softmax', 'neurons': 5, 'optimizer': 'Adam'}\n",
            "Overall accuracy of 0.888 % using: {'activation': 'softmax', 'neurons': 5, 'optimizer': 'Adamax'}\n",
            "Overall accuracy of 0.537 % using: {'activation': 'softmax', 'neurons': 10, 'optimizer': 'SGD'}\n",
            "Overall accuracy of 0.898 % using: {'activation': 'softmax', 'neurons': 10, 'optimizer': 'Adam'}\n",
            "Overall accuracy of 0.88 % using: {'activation': 'softmax', 'neurons': 10, 'optimizer': 'Adamax'}\n",
            "Overall accuracy of 0.507 % using: {'activation': 'softmax', 'neurons': 15, 'optimizer': 'SGD'}\n",
            "Overall accuracy of 0.896 % using: {'activation': 'softmax', 'neurons': 15, 'optimizer': 'Adam'}\n",
            "Overall accuracy of 0.877 % using: {'activation': 'softmax', 'neurons': 15, 'optimizer': 'Adamax'}\n",
            "Overall accuracy of 0.405 % using: {'activation': 'softmax', 'neurons': 25, 'optimizer': 'SGD'}\n",
            "Overall accuracy of 0.895 % using: {'activation': 'softmax', 'neurons': 25, 'optimizer': 'Adam'}\n",
            "Overall accuracy of 0.88 % using: {'activation': 'softmax', 'neurons': 25, 'optimizer': 'Adamax'}\n",
            "Overall accuracy of 0.471 % using: {'activation': 'softmax', 'neurons': 35, 'optimizer': 'SGD'}\n",
            "Overall accuracy of 0.891 % using: {'activation': 'softmax', 'neurons': 35, 'optimizer': 'Adam'}\n",
            "Overall accuracy of 0.88 % using: {'activation': 'softmax', 'neurons': 35, 'optimizer': 'Adamax'}\n",
            "Overall accuracy of 0.486 % using: {'activation': 'softmax', 'neurons': 50, 'optimizer': 'SGD'}\n",
            "Overall accuracy of 0.891 % using: {'activation': 'softmax', 'neurons': 50, 'optimizer': 'Adam'}\n",
            "Overall accuracy of 0.879 % using: {'activation': 'softmax', 'neurons': 50, 'optimizer': 'Adamax'}\n",
            "Overall accuracy of 0.905 % using: {'activation': 'relu', 'neurons': 5, 'optimizer': 'SGD'}\n",
            "Overall accuracy of 0.918 % using: {'activation': 'relu', 'neurons': 5, 'optimizer': 'Adam'}\n",
            "Overall accuracy of 0.896 % using: {'activation': 'relu', 'neurons': 5, 'optimizer': 'Adamax'}\n",
            "Overall accuracy of 0.896 % using: {'activation': 'relu', 'neurons': 10, 'optimizer': 'SGD'}\n",
            "Overall accuracy of 0.927 % using: {'activation': 'relu', 'neurons': 10, 'optimizer': 'Adam'}\n",
            "Overall accuracy of 0.914 % using: {'activation': 'relu', 'neurons': 10, 'optimizer': 'Adamax'}\n",
            "Overall accuracy of 0.896 % using: {'activation': 'relu', 'neurons': 15, 'optimizer': 'SGD'}\n",
            "Overall accuracy of 0.923 % using: {'activation': 'relu', 'neurons': 15, 'optimizer': 'Adam'}\n",
            "Overall accuracy of 0.914 % using: {'activation': 'relu', 'neurons': 15, 'optimizer': 'Adamax'}\n",
            "Overall accuracy of 0.902 % using: {'activation': 'relu', 'neurons': 25, 'optimizer': 'SGD'}\n",
            "Overall accuracy of 0.929 % using: {'activation': 'relu', 'neurons': 25, 'optimizer': 'Adam'}\n",
            "Overall accuracy of 0.916 % using: {'activation': 'relu', 'neurons': 25, 'optimizer': 'Adamax'}\n",
            "Overall accuracy of 0.905 % using: {'activation': 'relu', 'neurons': 35, 'optimizer': 'SGD'}\n",
            "Overall accuracy of 0.929 % using: {'activation': 'relu', 'neurons': 35, 'optimizer': 'Adam'}\n",
            "Overall accuracy of 0.925 % using: {'activation': 'relu', 'neurons': 35, 'optimizer': 'Adamax'}\n",
            "Overall accuracy of 0.9 % using: {'activation': 'relu', 'neurons': 50, 'optimizer': 'SGD'}\n",
            "Overall accuracy of 0.93 % using: {'activation': 'relu', 'neurons': 50, 'optimizer': 'Adam'}\n",
            "Overall accuracy of 0.923 % using: {'activation': 'relu', 'neurons': 50, 'optimizer': 'Adamax'}\n",
            "Overall accuracy of 0.895 % using: {'activation': 'tanh', 'neurons': 5, 'optimizer': 'SGD'}\n",
            "Overall accuracy of 0.911 % using: {'activation': 'tanh', 'neurons': 5, 'optimizer': 'Adam'}\n",
            "Overall accuracy of 0.902 % using: {'activation': 'tanh', 'neurons': 5, 'optimizer': 'Adamax'}\n",
            "Overall accuracy of 0.905 % using: {'activation': 'tanh', 'neurons': 10, 'optimizer': 'SGD'}\n",
            "Overall accuracy of 0.925 % using: {'activation': 'tanh', 'neurons': 10, 'optimizer': 'Adam'}\n",
            "Overall accuracy of 0.918 % using: {'activation': 'tanh', 'neurons': 10, 'optimizer': 'Adamax'}\n",
            "Overall accuracy of 0.905 % using: {'activation': 'tanh', 'neurons': 15, 'optimizer': 'SGD'}\n",
            "Overall accuracy of 0.925 % using: {'activation': 'tanh', 'neurons': 15, 'optimizer': 'Adam'}\n",
            "Overall accuracy of 0.918 % using: {'activation': 'tanh', 'neurons': 15, 'optimizer': 'Adamax'}\n",
            "Overall accuracy of 0.905 % using: {'activation': 'tanh', 'neurons': 25, 'optimizer': 'SGD'}\n",
            "Overall accuracy of 0.923 % using: {'activation': 'tanh', 'neurons': 25, 'optimizer': 'Adam'}\n",
            "Overall accuracy of 0.925 % using: {'activation': 'tanh', 'neurons': 25, 'optimizer': 'Adamax'}\n",
            "Overall accuracy of 0.905 % using: {'activation': 'tanh', 'neurons': 35, 'optimizer': 'SGD'}\n",
            "Overall accuracy of 0.925 % using: {'activation': 'tanh', 'neurons': 35, 'optimizer': 'Adam'}\n",
            "Overall accuracy of 0.927 % using: {'activation': 'tanh', 'neurons': 35, 'optimizer': 'Adamax'}\n",
            "Overall accuracy of 0.907 % using: {'activation': 'tanh', 'neurons': 50, 'optimizer': 'SGD'}\n",
            "Overall accuracy of 0.925 % using: {'activation': 'tanh', 'neurons': 50, 'optimizer': 'Adam'}\n",
            "Overall accuracy of 0.923 % using: {'activation': 'tanh', 'neurons': 50, 'optimizer': 'Adamax'}\n",
            "Overall accuracy of 0.65 % using: {'activation': 'sigmoid', 'neurons': 5, 'optimizer': 'SGD'}\n",
            "Overall accuracy of 0.877 % using: {'activation': 'sigmoid', 'neurons': 5, 'optimizer': 'Adam'}\n",
            "Overall accuracy of 0.879 % using: {'activation': 'sigmoid', 'neurons': 5, 'optimizer': 'Adamax'}\n",
            "Overall accuracy of 0.759 % using: {'activation': 'sigmoid', 'neurons': 10, 'optimizer': 'SGD'}\n",
            "Overall accuracy of 0.895 % using: {'activation': 'sigmoid', 'neurons': 10, 'optimizer': 'Adam'}\n",
            "Overall accuracy of 0.893 % using: {'activation': 'sigmoid', 'neurons': 10, 'optimizer': 'Adamax'}\n",
            "Overall accuracy of 0.782 % using: {'activation': 'sigmoid', 'neurons': 15, 'optimizer': 'SGD'}\n",
            "Overall accuracy of 0.896 % using: {'activation': 'sigmoid', 'neurons': 15, 'optimizer': 'Adam'}\n",
            "Overall accuracy of 0.896 % using: {'activation': 'sigmoid', 'neurons': 15, 'optimizer': 'Adamax'}\n",
            "Overall accuracy of 0.823 % using: {'activation': 'sigmoid', 'neurons': 25, 'optimizer': 'SGD'}\n",
            "Overall accuracy of 0.898 % using: {'activation': 'sigmoid', 'neurons': 25, 'optimizer': 'Adam'}\n",
            "Overall accuracy of 0.9 % using: {'activation': 'sigmoid', 'neurons': 25, 'optimizer': 'Adamax'}\n",
            "Overall accuracy of 0.8 % using: {'activation': 'sigmoid', 'neurons': 35, 'optimizer': 'SGD'}\n",
            "Overall accuracy of 0.904 % using: {'activation': 'sigmoid', 'neurons': 35, 'optimizer': 'Adam'}\n",
            "Overall accuracy of 0.898 % using: {'activation': 'sigmoid', 'neurons': 35, 'optimizer': 'Adamax'}\n",
            "Overall accuracy of 0.823 % using: {'activation': 'sigmoid', 'neurons': 50, 'optimizer': 'SGD'}\n",
            "Overall accuracy of 0.907 % using: {'activation': 'sigmoid', 'neurons': 50, 'optimizer': 'Adam'}\n",
            "Overall accuracy of 0.896 % using: {'activation': 'sigmoid', 'neurons': 50, 'optimizer': 'Adamax'}\n",
            "Overall accuracy of 0.909 % using: {'activation': 'linear', 'neurons': 5, 'optimizer': 'SGD'}\n",
            "Overall accuracy of 0.902 % using: {'activation': 'linear', 'neurons': 5, 'optimizer': 'Adam'}\n",
            "Overall accuracy of 0.902 % using: {'activation': 'linear', 'neurons': 5, 'optimizer': 'Adamax'}\n",
            "Overall accuracy of 0.904 % using: {'activation': 'linear', 'neurons': 10, 'optimizer': 'SGD'}\n",
            "Overall accuracy of 0.921 % using: {'activation': 'linear', 'neurons': 10, 'optimizer': 'Adam'}\n",
            "Overall accuracy of 0.912 % using: {'activation': 'linear', 'neurons': 10, 'optimizer': 'Adamax'}\n",
            "Overall accuracy of 0.911 % using: {'activation': 'linear', 'neurons': 15, 'optimizer': 'SGD'}\n",
            "Overall accuracy of 0.925 % using: {'activation': 'linear', 'neurons': 15, 'optimizer': 'Adam'}\n",
            "Overall accuracy of 0.916 % using: {'activation': 'linear', 'neurons': 15, 'optimizer': 'Adamax'}\n",
            "Overall accuracy of 0.912 % using: {'activation': 'linear', 'neurons': 25, 'optimizer': 'SGD'}\n",
            "Overall accuracy of 0.93 % using: {'activation': 'linear', 'neurons': 25, 'optimizer': 'Adam'}\n",
            "Overall accuracy of 0.927 % using: {'activation': 'linear', 'neurons': 25, 'optimizer': 'Adamax'}\n",
            "Overall accuracy of 0.916 % using: {'activation': 'linear', 'neurons': 35, 'optimizer': 'SGD'}\n",
            "Overall accuracy of 0.927 % using: {'activation': 'linear', 'neurons': 35, 'optimizer': 'Adam'}\n",
            "Overall accuracy of 0.923 % using: {'activation': 'linear', 'neurons': 35, 'optimizer': 'Adamax'}\n",
            "Overall accuracy of 0.911 % using: {'activation': 'linear', 'neurons': 50, 'optimizer': 'SGD'}\n",
            "Overall accuracy of 0.923 % using: {'activation': 'linear', 'neurons': 50, 'optimizer': 'Adam'}\n",
            "Overall accuracy of 0.927 % using: {'activation': 'linear', 'neurons': 50, 'optimizer': 'Adamax'}\n"
          ],
          "name": "stdout"
        }
      ]
    },
    {
      "cell_type": "code",
      "metadata": {
        "id": "lW-YF56D-Ggx",
        "colab_type": "code",
        "colab": {
          "base_uri": "https://localhost:8080/",
          "height": 202
        },
        "outputId": "d8dae895-7e0e-47fe-be65-a9d71f9dd701"
      },
      "source": [
        "predictionforest = model.predict(X_Test)\n",
        "print(confusion_matrix(Y_Test,predictionforest))\n",
        "print(classification_report(Y_Test,predictionforest))\n",
        "acc7 = accuracy_score(Y_Test,predictionforest)"
      ],
      "execution_count": 29,
      "outputs": [
        {
          "output_type": "stream",
          "text": [
            "[[114   2]\n",
            " [ 11 113]]\n",
            "              precision    recall  f1-score   support\n",
            "\n",
            "           0       0.91      0.98      0.95       116\n",
            "           1       0.98      0.91      0.95       124\n",
            "\n",
            "    accuracy                           0.95       240\n",
            "   macro avg       0.95      0.95      0.95       240\n",
            "weighted avg       0.95      0.95      0.95       240\n",
            "\n"
          ],
          "name": "stdout"
        }
      ]
    },
    {
      "cell_type": "code",
      "metadata": {
        "id": "HBz27mtd-MAn",
        "colab_type": "code",
        "outputId": "c1ddb631-c050-4e06-8e96-63d60fab7ff1",
        "colab": {
          "base_uri": "https://localhost:8080/",
          "height": 118
        }
      },
      "source": [
        "print('Base Accuracy vs Manual Search {:0.4f}%.'.format( 100 * (acc2 - acc1) / acc1))\n",
        "print('Base Accuracy vs Random Search {:0.4f}%.'.format( 100 * (acc3 - acc1) / acc1))\n",
        "print('Base Accuracy vs Grid Search {:0.4f}%.'.format( 100 * (acc4 - acc1) / acc1))\n",
        "print('Base Accuracy vs Bayesian Optimization Accuracy {:0.4f}%.'.format( 100 * (acc5 - acc1) / acc1))\n",
        "print('Base Accuracy vs Evolutionary Algorithms {:0.4f}%.'.format( 100 * (acc6 - acc1) / acc1))\n",
        "print('Base Accuracy vs Optimized ANN {:0.4f}%.'.format( 100 * (acc7 - acc1) / acc1))"
      ],
      "execution_count": 31,
      "outputs": [
        {
          "output_type": "stream",
          "text": [
            "Base Accuracy vs Manual Search -2.1459%.\n",
            "Base Accuracy vs Random Search -0.4292%.\n",
            "Base Accuracy vs Grid Search 0.0000%.\n",
            "Base Accuracy vs Bayesian Optimization Accuracy -1.2876%.\n",
            "Base Accuracy vs Evolutionary Algorithms -3.4335%.\n",
            "Base Accuracy vs Optimized ANN -2.5751%.\n"
          ],
          "name": "stdout"
        }
      ]
    },
    {
      "cell_type": "code",
      "metadata": {
        "id": "Weq_Rpuf-P1v",
        "colab_type": "code",
        "colab": {}
      },
      "source": [
        ""
      ],
      "execution_count": 0,
      "outputs": []
    }
  ]
}