{
  "nbformat": 4,
  "nbformat_minor": 0,
  "metadata": {
    "colab": {
      "name": "DecisionTreeClassifier_Medium.ipynb",
      "provenance": [],
      "toc_visible": true,
      "mount_file_id": "1EXhV6dwBWi7zYQizNdobukiW1wMdwp1Z",
      "authorship_tag": "ABX9TyNRqHkdlvGl5aLWQYAicA0x",
      "include_colab_link": true
    },
    "kernelspec": {
      "name": "python3",
      "display_name": "Python 3"
    }
  },
  "cells": [
    {
      "cell_type": "markdown",
      "metadata": {
        "id": "view-in-github",
        "colab_type": "text"
      },
      "source": [
        "<a href=\"https://colab.research.google.com/github/HarshaV05/rand.stuff.imp/blob/B1/DecisionTreeClassifier_Medium.ipynb\" target=\"_parent\"><img src=\"https://colab.research.google.com/assets/colab-badge.svg\" alt=\"Open In Colab\"/></a>"
      ]
    },
    {
      "cell_type": "markdown",
      "metadata": {
        "id": "dYwVpQ9RTCR8",
        "colab_type": "text"
      },
      "source": [
        "**Link:** https://medium.com/machine-learning-101/chapter-3-decision-trees-theory-e7398adac567"
      ]
    },
    {
      "cell_type": "code",
      "metadata": {
        "id": "t6niMcTBP7Ex",
        "colab_type": "code",
        "colab": {}
      },
      "source": [
        "import os\n",
        "import numpy as np\n",
        "from collections import Counter\n",
        "from sklearn.metrics import accuracy_score"
      ],
      "execution_count": 0,
      "outputs": []
    },
    {
      "cell_type": "code",
      "metadata": {
        "id": "Kl7fj9IIS9w-",
        "colab_type": "code",
        "colab": {}
      },
      "source": [
        "def make_Dictionary(root_dir):\n",
        "    all_words = []\n",
        "    emails = [os.path.join(root_dir,f) for f in os.listdir(root_dir)]\n",
        "    for mail in emails:\n",
        "        with open(mail) as m:\n",
        "            for line in m:\n",
        "                words = line.split()\n",
        "                all_words += words\n",
        "    dictionary = Counter(all_words)\n",
        "    #list_to_remove = dictionary.keys()\n",
        "\n",
        "    for item in list(dictionary):\n",
        "        if item.isalpha() == False:\n",
        "            del dictionary[item]\n",
        "        elif len(item) == 1:\n",
        "            del dictionary[item]\n",
        "    dictionary = dictionary.most_common(3000)\n",
        "\n",
        "    return dictionary"
      ],
      "execution_count": 0,
      "outputs": []
    },
    {
      "cell_type": "code",
      "metadata": {
        "id": "j9rttSpKTTve",
        "colab_type": "code",
        "colab": {}
      },
      "source": [
        "def extract_features(mail_dir):\n",
        "    files = [os.path.join(mail_dir,fi) for fi in os.listdir(mail_dir)]\n",
        "    features_matrix = np.zeros((len(files),3000))\n",
        "    train_labels = np.zeros(len(files))\n",
        "    count = 0;\n",
        "    docID = 0;\n",
        "    for fil in files:\n",
        "      with open(fil) as fi:\n",
        "        for i,line in enumerate(fi):\n",
        "          if i == 2:\n",
        "            words = line.split()\n",
        "            for word in words:\n",
        "              wordID = 0\n",
        "              for i,d in enumerate(dictionary):\n",
        "                if d[0] == word:\n",
        "                  wordID = i\n",
        "                  features_matrix[docID,wordID] = words.count(word)\n",
        "        train_labels[docID] = 0;\n",
        "        filepathTokens = fil.split('/')\n",
        "        lastToken = filepathTokens[len(filepathTokens) - 1]\n",
        "        if lastToken.startswith(\"spmsg\"):\n",
        "            train_labels[docID] = 1;\n",
        "            count = count + 1\n",
        "        docID = docID + 1\n",
        "    return features_matrix, train_labels"
      ],
      "execution_count": 0,
      "outputs": []
    },
    {
      "cell_type": "code",
      "metadata": {
        "id": "0jOxo_W_TXtP",
        "colab_type": "code",
        "colab": {}
      },
      "source": [
        "from sklearn import tree\n",
        "\n",
        "TRAIN_DIR = \"drive/My Drive/chapter3/train-mails\"\n",
        "TEST_DIR = \"drive/My Drive/chapter3/test-mails\""
      ],
      "execution_count": 0,
      "outputs": []
    },
    {
      "cell_type": "code",
      "metadata": {
        "id": "G8Fzw74tTqCk",
        "colab_type": "code",
        "outputId": "b695e255-0857-4482-d587-d0473666f87e",
        "colab": {
          "base_uri": "https://localhost:8080/",
          "height": 84
        }
      },
      "source": [
        "dictionary = make_Dictionary(TRAIN_DIR)\n",
        "\n",
        "print(\"reading and processing emails from file.\")\n",
        "\n",
        "features_matrix, labels = extract_features(TRAIN_DIR)\n",
        "test_feature_matrix, test_labels = extract_features(TEST_DIR)\n",
        "\n",
        "model = tree.DecisionTreeClassifier(criterion=\"entropy\")\n",
        "\n",
        "print(\"Training model.\")\n",
        "#train model\n",
        "model.fit(features_matrix, labels)\n",
        "\n",
        "predicted_labels = model.predict(test_feature_matrix)\n",
        "\n",
        "print(\"FINISHED classifying. accuracy score : \")\n",
        "print(accuracy_score(test_labels, predicted_labels))"
      ],
      "execution_count": 0,
      "outputs": [
        {
          "output_type": "stream",
          "text": [
            "reading and processing emails from file.\n",
            "Training model.\n",
            "FINISHED classifying. accuracy score : \n",
            "0.9192307692307692\n"
          ],
          "name": "stdout"
        }
      ]
    },
    {
      "cell_type": "code",
      "metadata": {
        "id": "lWl7xDftTxAm",
        "colab_type": "code",
        "colab": {}
      },
      "source": [
        ""
      ],
      "execution_count": 0,
      "outputs": []
    }
  ]
}