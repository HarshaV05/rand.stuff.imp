{
  "nbformat": 4,
  "nbformat_minor": 0,
  "metadata": {
    "colab": {
      "name": "Hyperparameter Tuning.ipynb",
      "provenance": [],
      "toc_visible": true,
      "mount_file_id": "1QPLvK5AuGOnJnjv500D1f7HKdrcA4ZX6",
      "authorship_tag": "ABX9TyNh+muPlweB4E1fXzZbiDDJ",
      "include_colab_link": true
    },
    "kernelspec": {
      "name": "python3",
      "display_name": "Python 3"
    },
    "accelerator": "TPU"
  },
  "cells": [
    {
      "cell_type": "markdown",
      "metadata": {
        "id": "view-in-github",
        "colab_type": "text"
      },
      "source": [
        "<a href=\"https://colab.research.google.com/github/HarshaV05/rand.stuff.imp/blob/B1/Hyperparameter_Tuning_V1.ipynb\" target=\"_parent\"><img src=\"https://colab.research.google.com/assets/colab-badge.svg\" alt=\"Open In Colab\"/></a>"
      ]
    },
    {
      "cell_type": "code",
      "metadata": {
        "id": "QXiaGuSNvrVg",
        "colab_type": "code",
        "colab": {}
      },
      "source": [
        "import pandas as pd"
      ],
      "execution_count": 0,
      "outputs": []
    },
    {
      "cell_type": "code",
      "metadata": {
        "id": "ZIytBYU7wzSu",
        "colab_type": "code",
        "colab": {}
      },
      "source": [
        "df = pd.read_excel('creditcard_minimised.xlsx')"
      ],
      "execution_count": 0,
      "outputs": []
    },
    {
      "cell_type": "code",
      "metadata": {
        "id": "hyajB6ZbC8GP",
        "colab_type": "code",
        "outputId": "e9d01344-c6a5-4a51-b4ae-ffa8186ec6bb",
        "colab": {
          "base_uri": "https://localhost:8080/",
          "height": 185
        }
      },
      "source": [
        "df.info()"
      ],
      "execution_count": 0,
      "outputs": [
        {
          "output_type": "stream",
          "text": [
            "<class 'pandas.core.frame.DataFrame'>\n",
            "RangeIndex: 284807 entries, 0 to 284806\n",
            "Data columns (total 5 columns):\n",
            "V6       284807 non-null float64\n",
            "V9       284807 non-null float64\n",
            "V12      284807 non-null float64\n",
            "V17      284807 non-null float64\n",
            "Class    284807 non-null int64\n",
            "dtypes: float64(4), int64(1)\n",
            "memory usage: 10.9 MB\n"
          ],
          "name": "stdout"
        }
      ]
    },
    {
      "cell_type": "code",
      "metadata": {
        "id": "7xvU3fWNC9km",
        "colab_type": "code",
        "outputId": "2a759168-dfaa-4b6f-8653-08d4be240c8b",
        "colab": {
          "base_uri": "https://localhost:8080/",
          "height": 284
        }
      },
      "source": [
        "df.describe()"
      ],
      "execution_count": 0,
      "outputs": [
        {
          "output_type": "execute_result",
          "data": {
            "text/html": [
              "<div>\n",
              "<style scoped>\n",
              "    .dataframe tbody tr th:only-of-type {\n",
              "        vertical-align: middle;\n",
              "    }\n",
              "\n",
              "    .dataframe tbody tr th {\n",
              "        vertical-align: top;\n",
              "    }\n",
              "\n",
              "    .dataframe thead th {\n",
              "        text-align: right;\n",
              "    }\n",
              "</style>\n",
              "<table border=\"1\" class=\"dataframe\">\n",
              "  <thead>\n",
              "    <tr style=\"text-align: right;\">\n",
              "      <th></th>\n",
              "      <th>V6</th>\n",
              "      <th>V9</th>\n",
              "      <th>V12</th>\n",
              "      <th>V17</th>\n",
              "      <th>Class</th>\n",
              "    </tr>\n",
              "  </thead>\n",
              "  <tbody>\n",
              "    <tr>\n",
              "      <th>count</th>\n",
              "      <td>2.848070e+05</td>\n",
              "      <td>2.848070e+05</td>\n",
              "      <td>2.848070e+05</td>\n",
              "      <td>2.848070e+05</td>\n",
              "      <td>284807.000000</td>\n",
              "    </tr>\n",
              "    <tr>\n",
              "      <th>mean</th>\n",
              "      <td>2.040130e-15</td>\n",
              "      <td>-3.147640e-15</td>\n",
              "      <td>-1.803266e-15</td>\n",
              "      <td>-7.466538e-16</td>\n",
              "      <td>0.001727</td>\n",
              "    </tr>\n",
              "    <tr>\n",
              "      <th>std</th>\n",
              "      <td>1.332271e+00</td>\n",
              "      <td>1.098632e+00</td>\n",
              "      <td>9.992014e-01</td>\n",
              "      <td>8.493371e-01</td>\n",
              "      <td>0.041527</td>\n",
              "    </tr>\n",
              "    <tr>\n",
              "      <th>min</th>\n",
              "      <td>-2.616051e+01</td>\n",
              "      <td>-1.343407e+01</td>\n",
              "      <td>-1.868371e+01</td>\n",
              "      <td>-2.516280e+01</td>\n",
              "      <td>0.000000</td>\n",
              "    </tr>\n",
              "    <tr>\n",
              "      <th>25%</th>\n",
              "      <td>-7.682956e-01</td>\n",
              "      <td>-6.430976e-01</td>\n",
              "      <td>-4.055715e-01</td>\n",
              "      <td>-4.837483e-01</td>\n",
              "      <td>0.000000</td>\n",
              "    </tr>\n",
              "    <tr>\n",
              "      <th>50%</th>\n",
              "      <td>-2.741871e-01</td>\n",
              "      <td>-5.142873e-02</td>\n",
              "      <td>1.400326e-01</td>\n",
              "      <td>-6.567575e-02</td>\n",
              "      <td>0.000000</td>\n",
              "    </tr>\n",
              "    <tr>\n",
              "      <th>75%</th>\n",
              "      <td>3.985649e-01</td>\n",
              "      <td>5.971390e-01</td>\n",
              "      <td>6.182380e-01</td>\n",
              "      <td>3.996750e-01</td>\n",
              "      <td>0.000000</td>\n",
              "    </tr>\n",
              "    <tr>\n",
              "      <th>max</th>\n",
              "      <td>7.330163e+01</td>\n",
              "      <td>1.559499e+01</td>\n",
              "      <td>7.848392e+00</td>\n",
              "      <td>9.253526e+00</td>\n",
              "      <td>1.000000</td>\n",
              "    </tr>\n",
              "  </tbody>\n",
              "</table>\n",
              "</div>"
            ],
            "text/plain": [
              "                 V6            V9           V12           V17          Class\n",
              "count  2.848070e+05  2.848070e+05  2.848070e+05  2.848070e+05  284807.000000\n",
              "mean   2.040130e-15 -3.147640e-15 -1.803266e-15 -7.466538e-16       0.001727\n",
              "std    1.332271e+00  1.098632e+00  9.992014e-01  8.493371e-01       0.041527\n",
              "min   -2.616051e+01 -1.343407e+01 -1.868371e+01 -2.516280e+01       0.000000\n",
              "25%   -7.682956e-01 -6.430976e-01 -4.055715e-01 -4.837483e-01       0.000000\n",
              "50%   -2.741871e-01 -5.142873e-02  1.400326e-01 -6.567575e-02       0.000000\n",
              "75%    3.985649e-01  5.971390e-01  6.182380e-01  3.996750e-01       0.000000\n",
              "max    7.330163e+01  1.559499e+01  7.848392e+00  9.253526e+00       1.000000"
            ]
          },
          "metadata": {
            "tags": []
          },
          "execution_count": 11
        }
      ]
    },
    {
      "cell_type": "code",
      "metadata": {
        "id": "rOOfuWKjDA80",
        "colab_type": "code",
        "outputId": "b414f0a3-fa4d-4406-b85c-9a5e0bcbcd90",
        "colab": {
          "base_uri": "https://localhost:8080/",
          "height": 195
        }
      },
      "source": [
        "df.head()"
      ],
      "execution_count": 0,
      "outputs": [
        {
          "output_type": "execute_result",
          "data": {
            "text/html": [
              "<div>\n",
              "<style scoped>\n",
              "    .dataframe tbody tr th:only-of-type {\n",
              "        vertical-align: middle;\n",
              "    }\n",
              "\n",
              "    .dataframe tbody tr th {\n",
              "        vertical-align: top;\n",
              "    }\n",
              "\n",
              "    .dataframe thead th {\n",
              "        text-align: right;\n",
              "    }\n",
              "</style>\n",
              "<table border=\"1\" class=\"dataframe\">\n",
              "  <thead>\n",
              "    <tr style=\"text-align: right;\">\n",
              "      <th></th>\n",
              "      <th>V6</th>\n",
              "      <th>V9</th>\n",
              "      <th>V12</th>\n",
              "      <th>V17</th>\n",
              "      <th>Class</th>\n",
              "    </tr>\n",
              "  </thead>\n",
              "  <tbody>\n",
              "    <tr>\n",
              "      <th>0</th>\n",
              "      <td>0.462388</td>\n",
              "      <td>0.363787</td>\n",
              "      <td>-0.617801</td>\n",
              "      <td>0.207971</td>\n",
              "      <td>0</td>\n",
              "    </tr>\n",
              "    <tr>\n",
              "      <th>1</th>\n",
              "      <td>-0.082361</td>\n",
              "      <td>-0.255425</td>\n",
              "      <td>1.065235</td>\n",
              "      <td>-0.114805</td>\n",
              "      <td>0</td>\n",
              "    </tr>\n",
              "    <tr>\n",
              "      <th>2</th>\n",
              "      <td>1.800499</td>\n",
              "      <td>-1.514654</td>\n",
              "      <td>0.066084</td>\n",
              "      <td>1.109969</td>\n",
              "      <td>0</td>\n",
              "    </tr>\n",
              "    <tr>\n",
              "      <th>3</th>\n",
              "      <td>1.247203</td>\n",
              "      <td>-1.387024</td>\n",
              "      <td>0.178228</td>\n",
              "      <td>-0.684093</td>\n",
              "      <td>0</td>\n",
              "    </tr>\n",
              "    <tr>\n",
              "      <th>4</th>\n",
              "      <td>0.095921</td>\n",
              "      <td>0.817739</td>\n",
              "      <td>0.538196</td>\n",
              "      <td>-0.237033</td>\n",
              "      <td>0</td>\n",
              "    </tr>\n",
              "  </tbody>\n",
              "</table>\n",
              "</div>"
            ],
            "text/plain": [
              "         V6        V9       V12       V17  Class\n",
              "0  0.462388  0.363787 -0.617801  0.207971      0\n",
              "1 -0.082361 -0.255425  1.065235 -0.114805      0\n",
              "2  1.800499 -1.514654  0.066084  1.109969      0\n",
              "3  1.247203 -1.387024  0.178228 -0.684093      0\n",
              "4  0.095921  0.817739  0.538196 -0.237033      0"
            ]
          },
          "metadata": {
            "tags": []
          },
          "execution_count": 12
        }
      ]
    },
    {
      "cell_type": "code",
      "metadata": {
        "id": "VuBicH5kDDGA",
        "colab_type": "code",
        "colab": {}
      },
      "source": [
        "X = df[['V17', 'V9', 'V6', 'V12']]\n",
        "y = df['Class']"
      ],
      "execution_count": 0,
      "outputs": []
    },
    {
      "cell_type": "code",
      "metadata": {
        "id": "b35JE7JwDWdO",
        "colab_type": "code",
        "colab": {}
      },
      "source": [
        "from sklearn.preprocessing import StandardScaler\n",
        "X = StandardScaler().fit_transform(X)"
      ],
      "execution_count": 0,
      "outputs": []
    },
    {
      "cell_type": "code",
      "metadata": {
        "id": "b1vNRo-9DqGB",
        "colab_type": "code",
        "colab": {}
      },
      "source": [
        "from sklearn.model_selection import train_test_split\n",
        "X_Train, X_Test, y_Train, y_Test = train_test_split(X,y, test_size = 0.3, random_state = 101)"
      ],
      "execution_count": 0,
      "outputs": []
    },
    {
      "cell_type": "code",
      "metadata": {
        "id": "Z6Fliw0SEMeX",
        "colab_type": "code",
        "colab": {}
      },
      "source": [
        ""
      ],
      "execution_count": 0,
      "outputs": []
    }
  ]
}