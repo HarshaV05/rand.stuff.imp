{
  "nbformat": 4,
  "nbformat_minor": 0,
  "metadata": {
    "kernelspec": {
      "name": "python3",
      "display_name": "Python 3"
    },
    "language_info": {
      "codemirror_mode": {
        "name": "ipython",
        "version": 3
      },
      "file_extension": ".py",
      "mimetype": "text/x-python",
      "name": "python",
      "nbconvert_exporter": "python",
      "pygments_lexer": "ipython3",
      "version": "3.7.1"
    },
    "colab": {
      "name": "7COM1074-Visualisation-CW1.ipynb",
      "provenance": [],
      "include_colab_link": true
    },
    "accelerator": "GPU"
  },
  "cells": [
    {
      "cell_type": "markdown",
      "metadata": {
        "id": "view-in-github",
        "colab_type": "text"
      },
      "source": [
        "<a href=\"https://colab.research.google.com/github/HarshaV05/rand.stuff.imp/blob/B1/7COM1074_Visualisation_CW1.ipynb\" target=\"_parent\"><img src=\"https://colab.research.google.com/assets/colab-badge.svg\" alt=\"Open In Colab\"/></a>"
      ]
    },
    {
      "cell_type": "markdown",
      "metadata": {
        "id": "TEraIw9DvulB",
        "colab_type": "text"
      },
      "source": [
        "# 7COM1074 Applied Data Science and Analytics\n",
        "# Coursework 1 - Visualisation\n",
        "\n",
        "Provided is this jupyter notebook. Contained are all instructions necessary to complete the assignment.\n",
        "\n",
        "This assignment is weighted with 20% of the total marks you can score in this module.\n",
        "\n",
        "\n",
        "## Marking criteria\n",
        "A total of 100 marks can be obtained.\n",
        "\n",
        "20 marks will be awarded to a notebook that is valid and free of coding errors. That is, it should load without error on a university machine, and all cells can be run without any errors. *Hint:* Check via \"Kernel\" -> \"Restart & Run All\" in the menu bar. \n",
        "\n",
        "The remaining 80 marks will awarded for solving the 9 tasks, and distibuted as indicated.\n",
        "\n",
        "\n",
        "## What to submit\n",
        "You will have to submit 5 files:\n",
        "1. This notebook, completed as instructed, in .ipynb file format;\n",
        "2. This notebook, completed as instucted, in .html format;\n",
        "3. 1 PCA scatter plot figure, PNG format;\n",
        "4. 1 PCA components figure, PNG format;\n",
        "5. 1 PCA scree plot figure, SVG format."
      ]
    },
    {
      "cell_type": "markdown",
      "metadata": {
        "id": "oq0b3MnFvulD",
        "colab_type": "text"
      },
      "source": [
        "### Task 1 - Load the data (No marks)\n",
        "Execute the provided code. It will load the data and create a data frame. \n",
        "\n",
        "Notice that it stores the `target` variable from the data set as `house_prices`. You will need that later."
      ]
    },
    {
      "cell_type": "code",
      "metadata": {
        "id": "lsiB9SqBvulE",
        "colab_type": "code",
        "outputId": "c39ab33b-f866-44ba-d939-c357294ff3b9",
        "colab": {
          "base_uri": "https://localhost:8080/",
          "height": 195
        }
      },
      "source": [
        "import pandas as pd\n",
        "import sklearn.datasets as data\n",
        "import matplotlib.pyplot as plt\n",
        "import numpy as np\n",
        "%matplotlib inline\n",
        "\n",
        "boston = data.load_boston()\n",
        "boston_df = pd.DataFrame(boston['data'], columns=boston['feature_names'])\n",
        "house_prices = boston['target']\n",
        "boston_df.head()"
      ],
      "execution_count": 0,
      "outputs": [
        {
          "output_type": "execute_result",
          "data": {
            "text/html": [
              "<div>\n",
              "<style scoped>\n",
              "    .dataframe tbody tr th:only-of-type {\n",
              "        vertical-align: middle;\n",
              "    }\n",
              "\n",
              "    .dataframe tbody tr th {\n",
              "        vertical-align: top;\n",
              "    }\n",
              "\n",
              "    .dataframe thead th {\n",
              "        text-align: right;\n",
              "    }\n",
              "</style>\n",
              "<table border=\"1\" class=\"dataframe\">\n",
              "  <thead>\n",
              "    <tr style=\"text-align: right;\">\n",
              "      <th></th>\n",
              "      <th>CRIM</th>\n",
              "      <th>ZN</th>\n",
              "      <th>INDUS</th>\n",
              "      <th>CHAS</th>\n",
              "      <th>NOX</th>\n",
              "      <th>RM</th>\n",
              "      <th>AGE</th>\n",
              "      <th>DIS</th>\n",
              "      <th>RAD</th>\n",
              "      <th>TAX</th>\n",
              "      <th>PTRATIO</th>\n",
              "      <th>B</th>\n",
              "      <th>LSTAT</th>\n",
              "    </tr>\n",
              "  </thead>\n",
              "  <tbody>\n",
              "    <tr>\n",
              "      <th>0</th>\n",
              "      <td>0.00632</td>\n",
              "      <td>18.0</td>\n",
              "      <td>2.31</td>\n",
              "      <td>0.0</td>\n",
              "      <td>0.538</td>\n",
              "      <td>6.575</td>\n",
              "      <td>65.2</td>\n",
              "      <td>4.0900</td>\n",
              "      <td>1.0</td>\n",
              "      <td>296.0</td>\n",
              "      <td>15.3</td>\n",
              "      <td>396.90</td>\n",
              "      <td>4.98</td>\n",
              "    </tr>\n",
              "    <tr>\n",
              "      <th>1</th>\n",
              "      <td>0.02731</td>\n",
              "      <td>0.0</td>\n",
              "      <td>7.07</td>\n",
              "      <td>0.0</td>\n",
              "      <td>0.469</td>\n",
              "      <td>6.421</td>\n",
              "      <td>78.9</td>\n",
              "      <td>4.9671</td>\n",
              "      <td>2.0</td>\n",
              "      <td>242.0</td>\n",
              "      <td>17.8</td>\n",
              "      <td>396.90</td>\n",
              "      <td>9.14</td>\n",
              "    </tr>\n",
              "    <tr>\n",
              "      <th>2</th>\n",
              "      <td>0.02729</td>\n",
              "      <td>0.0</td>\n",
              "      <td>7.07</td>\n",
              "      <td>0.0</td>\n",
              "      <td>0.469</td>\n",
              "      <td>7.185</td>\n",
              "      <td>61.1</td>\n",
              "      <td>4.9671</td>\n",
              "      <td>2.0</td>\n",
              "      <td>242.0</td>\n",
              "      <td>17.8</td>\n",
              "      <td>392.83</td>\n",
              "      <td>4.03</td>\n",
              "    </tr>\n",
              "    <tr>\n",
              "      <th>3</th>\n",
              "      <td>0.03237</td>\n",
              "      <td>0.0</td>\n",
              "      <td>2.18</td>\n",
              "      <td>0.0</td>\n",
              "      <td>0.458</td>\n",
              "      <td>6.998</td>\n",
              "      <td>45.8</td>\n",
              "      <td>6.0622</td>\n",
              "      <td>3.0</td>\n",
              "      <td>222.0</td>\n",
              "      <td>18.7</td>\n",
              "      <td>394.63</td>\n",
              "      <td>2.94</td>\n",
              "    </tr>\n",
              "    <tr>\n",
              "      <th>4</th>\n",
              "      <td>0.06905</td>\n",
              "      <td>0.0</td>\n",
              "      <td>2.18</td>\n",
              "      <td>0.0</td>\n",
              "      <td>0.458</td>\n",
              "      <td>7.147</td>\n",
              "      <td>54.2</td>\n",
              "      <td>6.0622</td>\n",
              "      <td>3.0</td>\n",
              "      <td>222.0</td>\n",
              "      <td>18.7</td>\n",
              "      <td>396.90</td>\n",
              "      <td>5.33</td>\n",
              "    </tr>\n",
              "  </tbody>\n",
              "</table>\n",
              "</div>"
            ],
            "text/plain": [
              "      CRIM    ZN  INDUS  CHAS    NOX  ...  RAD    TAX  PTRATIO       B  LSTAT\n",
              "0  0.00632  18.0   2.31   0.0  0.538  ...  1.0  296.0     15.3  396.90   4.98\n",
              "1  0.02731   0.0   7.07   0.0  0.469  ...  2.0  242.0     17.8  396.90   9.14\n",
              "2  0.02729   0.0   7.07   0.0  0.469  ...  2.0  242.0     17.8  392.83   4.03\n",
              "3  0.03237   0.0   2.18   0.0  0.458  ...  3.0  222.0     18.7  394.63   2.94\n",
              "4  0.06905   0.0   2.18   0.0  0.458  ...  3.0  222.0     18.7  396.90   5.33\n",
              "\n",
              "[5 rows x 13 columns]"
            ]
          },
          "metadata": {
            "tags": []
          },
          "execution_count": 1
        }
      ]
    },
    {
      "cell_type": "markdown",
      "metadata": {
        "id": "9RuJrGfSvulI",
        "colab_type": "text"
      },
      "source": [
        "### Task 2 - Identify categorical features (4 marks)\n",
        "The cell below prints the description of the data set. Read this description and identify the feature that is  categorical. In the text cell provided, specify the name of the categorical feature and justify why you decided it is categorical.\n",
        "\n",
        "**Remark**: The 'MEDV' feature is mentioned in the attribute information but it is not present in the features. The reason is that the 'MEDV' feature is the target variable. "
      ]
    },
    {
      "cell_type": "code",
      "metadata": {
        "id": "8KWkZipWvulJ",
        "colab_type": "code",
        "outputId": "2dc6e613-d188-456f-d9f1-b46cab7e2bc4",
        "colab": {
          "base_uri": "https://localhost:8080/",
          "height": 894
        }
      },
      "source": [
        "print(boston['DESCR'])"
      ],
      "execution_count": 0,
      "outputs": [
        {
          "output_type": "stream",
          "text": [
            ".. _boston_dataset:\n",
            "\n",
            "Boston house prices dataset\n",
            "---------------------------\n",
            "\n",
            "**Data Set Characteristics:**  \n",
            "\n",
            "    :Number of Instances: 506 \n",
            "\n",
            "    :Number of Attributes: 13 numeric/categorical predictive. Median Value (attribute 14) is usually the target.\n",
            "\n",
            "    :Attribute Information (in order):\n",
            "        - CRIM     per capita crime rate by town\n",
            "        - ZN       proportion of residential land zoned for lots over 25,000 sq.ft.\n",
            "        - INDUS    proportion of non-retail business acres per town\n",
            "        - CHAS     Charles River dummy variable (= 1 if tract bounds river; 0 otherwise)\n",
            "        - NOX      nitric oxides concentration (parts per 10 million)\n",
            "        - RM       average number of rooms per dwelling\n",
            "        - AGE      proportion of owner-occupied units built prior to 1940\n",
            "        - DIS      weighted distances to five Boston employment centres\n",
            "        - RAD      index of accessibility to radial highways\n",
            "        - TAX      full-value property-tax rate per $10,000\n",
            "        - PTRATIO  pupil-teacher ratio by town\n",
            "        - B        1000(Bk - 0.63)^2 where Bk is the proportion of blacks by town\n",
            "        - LSTAT    % lower status of the population\n",
            "        - MEDV     Median value of owner-occupied homes in $1000's\n",
            "\n",
            "    :Missing Attribute Values: None\n",
            "\n",
            "    :Creator: Harrison, D. and Rubinfeld, D.L.\n",
            "\n",
            "This is a copy of UCI ML housing dataset.\n",
            "https://archive.ics.uci.edu/ml/machine-learning-databases/housing/\n",
            "\n",
            "\n",
            "This dataset was taken from the StatLib library which is maintained at Carnegie Mellon University.\n",
            "\n",
            "The Boston house-price data of Harrison, D. and Rubinfeld, D.L. 'Hedonic\n",
            "prices and the demand for clean air', J. Environ. Economics & Management,\n",
            "vol.5, 81-102, 1978.   Used in Belsley, Kuh & Welsch, 'Regression diagnostics\n",
            "...', Wiley, 1980.   N.B. Various transformations are used in the table on\n",
            "pages 244-261 of the latter.\n",
            "\n",
            "The Boston house-price data has been used in many machine learning papers that address regression\n",
            "problems.   \n",
            "     \n",
            ".. topic:: References\n",
            "\n",
            "   - Belsley, Kuh & Welsch, 'Regression diagnostics: Identifying Influential Data and Sources of Collinearity', Wiley, 1980. 244-261.\n",
            "   - Quinlan,R. (1993). Combining Instance-Based and Model-Based Learning. In Proceedings on the Tenth International Conference of Machine Learning, 236-243, University of Massachusetts, Amherst. Morgan Kaufmann.\n",
            "\n"
          ],
          "name": "stdout"
        }
      ]
    },
    {
      "cell_type": "code",
      "metadata": {
        "id": "fUV0hme5NnL9",
        "colab_type": "code",
        "outputId": "e0c8bf35-e8b1-4ffe-abcd-db8fd1a4185b",
        "colab": {
          "base_uri": "https://localhost:8080/",
          "height": 34
        }
      },
      "source": [
        "print(boston_df.shape"
      ],
      "execution_count": 0,
      "outputs": [
        {
          "output_type": "execute_result",
          "data": {
            "text/plain": [
              "(506, 13)"
            ]
          },
          "metadata": {
            "tags": []
          },
          "execution_count": 14
        }
      ]
    },
    {
      "cell_type": "code",
      "metadata": {
        "id": "NoNhqqtNNm5n",
        "colab_type": "code",
        "outputId": "b05bdc71-ba34-4d1a-85c6-c9ea0327e35f",
        "colab": {
          "base_uri": "https://localhost:8080/",
          "height": 304
        }
      },
      "source": [
        "boston_df.describe()"
      ],
      "execution_count": 0,
      "outputs": [
        {
          "output_type": "execute_result",
          "data": {
            "text/html": [
              "<div>\n",
              "<style scoped>\n",
              "    .dataframe tbody tr th:only-of-type {\n",
              "        vertical-align: middle;\n",
              "    }\n",
              "\n",
              "    .dataframe tbody tr th {\n",
              "        vertical-align: top;\n",
              "    }\n",
              "\n",
              "    .dataframe thead th {\n",
              "        text-align: right;\n",
              "    }\n",
              "</style>\n",
              "<table border=\"1\" class=\"dataframe\">\n",
              "  <thead>\n",
              "    <tr style=\"text-align: right;\">\n",
              "      <th></th>\n",
              "      <th>CRIM</th>\n",
              "      <th>ZN</th>\n",
              "      <th>INDUS</th>\n",
              "      <th>CHAS</th>\n",
              "      <th>NOX</th>\n",
              "      <th>RM</th>\n",
              "      <th>AGE</th>\n",
              "      <th>DIS</th>\n",
              "      <th>RAD</th>\n",
              "      <th>TAX</th>\n",
              "      <th>PTRATIO</th>\n",
              "      <th>B</th>\n",
              "      <th>LSTAT</th>\n",
              "    </tr>\n",
              "  </thead>\n",
              "  <tbody>\n",
              "    <tr>\n",
              "      <th>count</th>\n",
              "      <td>506.000000</td>\n",
              "      <td>506.000000</td>\n",
              "      <td>506.000000</td>\n",
              "      <td>506.000000</td>\n",
              "      <td>506.000000</td>\n",
              "      <td>506.000000</td>\n",
              "      <td>506.000000</td>\n",
              "      <td>506.000000</td>\n",
              "      <td>506.000000</td>\n",
              "      <td>506.000000</td>\n",
              "      <td>506.000000</td>\n",
              "      <td>506.000000</td>\n",
              "      <td>506.000000</td>\n",
              "    </tr>\n",
              "    <tr>\n",
              "      <th>mean</th>\n",
              "      <td>3.613524</td>\n",
              "      <td>11.363636</td>\n",
              "      <td>11.136779</td>\n",
              "      <td>0.069170</td>\n",
              "      <td>0.554695</td>\n",
              "      <td>6.284634</td>\n",
              "      <td>68.574901</td>\n",
              "      <td>3.795043</td>\n",
              "      <td>9.549407</td>\n",
              "      <td>408.237154</td>\n",
              "      <td>18.455534</td>\n",
              "      <td>356.674032</td>\n",
              "      <td>12.653063</td>\n",
              "    </tr>\n",
              "    <tr>\n",
              "      <th>std</th>\n",
              "      <td>8.601545</td>\n",
              "      <td>23.322453</td>\n",
              "      <td>6.860353</td>\n",
              "      <td>0.253994</td>\n",
              "      <td>0.115878</td>\n",
              "      <td>0.702617</td>\n",
              "      <td>28.148861</td>\n",
              "      <td>2.105710</td>\n",
              "      <td>8.707259</td>\n",
              "      <td>168.537116</td>\n",
              "      <td>2.164946</td>\n",
              "      <td>91.294864</td>\n",
              "      <td>7.141062</td>\n",
              "    </tr>\n",
              "    <tr>\n",
              "      <th>min</th>\n",
              "      <td>0.006320</td>\n",
              "      <td>0.000000</td>\n",
              "      <td>0.460000</td>\n",
              "      <td>0.000000</td>\n",
              "      <td>0.385000</td>\n",
              "      <td>3.561000</td>\n",
              "      <td>2.900000</td>\n",
              "      <td>1.129600</td>\n",
              "      <td>1.000000</td>\n",
              "      <td>187.000000</td>\n",
              "      <td>12.600000</td>\n",
              "      <td>0.320000</td>\n",
              "      <td>1.730000</td>\n",
              "    </tr>\n",
              "    <tr>\n",
              "      <th>25%</th>\n",
              "      <td>0.082045</td>\n",
              "      <td>0.000000</td>\n",
              "      <td>5.190000</td>\n",
              "      <td>0.000000</td>\n",
              "      <td>0.449000</td>\n",
              "      <td>5.885500</td>\n",
              "      <td>45.025000</td>\n",
              "      <td>2.100175</td>\n",
              "      <td>4.000000</td>\n",
              "      <td>279.000000</td>\n",
              "      <td>17.400000</td>\n",
              "      <td>375.377500</td>\n",
              "      <td>6.950000</td>\n",
              "    </tr>\n",
              "    <tr>\n",
              "      <th>50%</th>\n",
              "      <td>0.256510</td>\n",
              "      <td>0.000000</td>\n",
              "      <td>9.690000</td>\n",
              "      <td>0.000000</td>\n",
              "      <td>0.538000</td>\n",
              "      <td>6.208500</td>\n",
              "      <td>77.500000</td>\n",
              "      <td>3.207450</td>\n",
              "      <td>5.000000</td>\n",
              "      <td>330.000000</td>\n",
              "      <td>19.050000</td>\n",
              "      <td>391.440000</td>\n",
              "      <td>11.360000</td>\n",
              "    </tr>\n",
              "    <tr>\n",
              "      <th>75%</th>\n",
              "      <td>3.677083</td>\n",
              "      <td>12.500000</td>\n",
              "      <td>18.100000</td>\n",
              "      <td>0.000000</td>\n",
              "      <td>0.624000</td>\n",
              "      <td>6.623500</td>\n",
              "      <td>94.075000</td>\n",
              "      <td>5.188425</td>\n",
              "      <td>24.000000</td>\n",
              "      <td>666.000000</td>\n",
              "      <td>20.200000</td>\n",
              "      <td>396.225000</td>\n",
              "      <td>16.955000</td>\n",
              "    </tr>\n",
              "    <tr>\n",
              "      <th>max</th>\n",
              "      <td>88.976200</td>\n",
              "      <td>100.000000</td>\n",
              "      <td>27.740000</td>\n",
              "      <td>1.000000</td>\n",
              "      <td>0.871000</td>\n",
              "      <td>8.780000</td>\n",
              "      <td>100.000000</td>\n",
              "      <td>12.126500</td>\n",
              "      <td>24.000000</td>\n",
              "      <td>711.000000</td>\n",
              "      <td>22.000000</td>\n",
              "      <td>396.900000</td>\n",
              "      <td>37.970000</td>\n",
              "    </tr>\n",
              "  </tbody>\n",
              "</table>\n",
              "</div>"
            ],
            "text/plain": [
              "             CRIM          ZN       INDUS  ...     PTRATIO           B       LSTAT\n",
              "count  506.000000  506.000000  506.000000  ...  506.000000  506.000000  506.000000\n",
              "mean     3.613524   11.363636   11.136779  ...   18.455534  356.674032   12.653063\n",
              "std      8.601545   23.322453    6.860353  ...    2.164946   91.294864    7.141062\n",
              "min      0.006320    0.000000    0.460000  ...   12.600000    0.320000    1.730000\n",
              "25%      0.082045    0.000000    5.190000  ...   17.400000  375.377500    6.950000\n",
              "50%      0.256510    0.000000    9.690000  ...   19.050000  391.440000   11.360000\n",
              "75%      3.677083   12.500000   18.100000  ...   20.200000  396.225000   16.955000\n",
              "max     88.976200  100.000000   27.740000  ...   22.000000  396.900000   37.970000\n",
              "\n",
              "[8 rows x 13 columns]"
            ]
          },
          "metadata": {
            "tags": []
          },
          "execution_count": 15
        }
      ]
    },
    {
      "cell_type": "code",
      "metadata": {
        "id": "YvA-Zp-0NnWl",
        "colab_type": "code",
        "outputId": "c4d45170-c3bd-460e-9f8d-665ca21943ae",
        "colab": {
          "base_uri": "https://localhost:8080/",
          "height": 319
        }
      },
      "source": [
        "boston_df.info()"
      ],
      "execution_count": 0,
      "outputs": [
        {
          "output_type": "stream",
          "text": [
            "<class 'pandas.core.frame.DataFrame'>\n",
            "RangeIndex: 506 entries, 0 to 505\n",
            "Data columns (total 13 columns):\n",
            "CRIM       506 non-null float64\n",
            "ZN         506 non-null float64\n",
            "INDUS      506 non-null float64\n",
            "CHAS       506 non-null float64\n",
            "NOX        506 non-null float64\n",
            "RM         506 non-null float64\n",
            "AGE        506 non-null float64\n",
            "DIS        506 non-null float64\n",
            "RAD        506 non-null float64\n",
            "TAX        506 non-null float64\n",
            "PTRATIO    506 non-null float64\n",
            "B          506 non-null float64\n",
            "LSTAT      506 non-null float64\n",
            "dtypes: float64(13)\n",
            "memory usage: 51.5 KB\n"
          ],
          "name": "stdout"
        }
      ]
    },
    {
      "cell_type": "code",
      "metadata": {
        "id": "_K97nzKQt6sZ",
        "colab_type": "code",
        "outputId": "09b5a0b0-f198-46bf-99b8-fdc87fe27237",
        "colab": {
          "base_uri": "https://localhost:8080/",
          "height": 106
        }
      },
      "source": [
        "boston_df.agg(['count','nunique'])"
      ],
      "execution_count": 0,
      "outputs": [
        {
          "output_type": "execute_result",
          "data": {
            "text/html": [
              "<div>\n",
              "<style scoped>\n",
              "    .dataframe tbody tr th:only-of-type {\n",
              "        vertical-align: middle;\n",
              "    }\n",
              "\n",
              "    .dataframe tbody tr th {\n",
              "        vertical-align: top;\n",
              "    }\n",
              "\n",
              "    .dataframe thead th {\n",
              "        text-align: right;\n",
              "    }\n",
              "</style>\n",
              "<table border=\"1\" class=\"dataframe\">\n",
              "  <thead>\n",
              "    <tr style=\"text-align: right;\">\n",
              "      <th></th>\n",
              "      <th>CRIM</th>\n",
              "      <th>ZN</th>\n",
              "      <th>INDUS</th>\n",
              "      <th>CHAS</th>\n",
              "      <th>NOX</th>\n",
              "      <th>RM</th>\n",
              "      <th>AGE</th>\n",
              "      <th>DIS</th>\n",
              "      <th>RAD</th>\n",
              "      <th>TAX</th>\n",
              "      <th>PTRATIO</th>\n",
              "      <th>B</th>\n",
              "      <th>LSTAT</th>\n",
              "    </tr>\n",
              "  </thead>\n",
              "  <tbody>\n",
              "    <tr>\n",
              "      <th>count</th>\n",
              "      <td>506</td>\n",
              "      <td>506</td>\n",
              "      <td>506</td>\n",
              "      <td>506</td>\n",
              "      <td>506</td>\n",
              "      <td>506</td>\n",
              "      <td>506</td>\n",
              "      <td>506</td>\n",
              "      <td>506</td>\n",
              "      <td>506</td>\n",
              "      <td>506</td>\n",
              "      <td>506</td>\n",
              "      <td>506</td>\n",
              "    </tr>\n",
              "    <tr>\n",
              "      <th>nunique</th>\n",
              "      <td>504</td>\n",
              "      <td>26</td>\n",
              "      <td>76</td>\n",
              "      <td>2</td>\n",
              "      <td>81</td>\n",
              "      <td>446</td>\n",
              "      <td>356</td>\n",
              "      <td>412</td>\n",
              "      <td>9</td>\n",
              "      <td>66</td>\n",
              "      <td>46</td>\n",
              "      <td>357</td>\n",
              "      <td>455</td>\n",
              "    </tr>\n",
              "  </tbody>\n",
              "</table>\n",
              "</div>"
            ],
            "text/plain": [
              "         CRIM   ZN  INDUS  CHAS  NOX   RM  ...  DIS  RAD  TAX  PTRATIO    B  LSTAT\n",
              "count     506  506    506   506  506  506  ...  506  506  506      506  506    506\n",
              "nunique   504   26     76     2   81  446  ...  412    9   66       46  357    455\n",
              "\n",
              "[2 rows x 13 columns]"
            ]
          },
          "metadata": {
            "tags": []
          },
          "execution_count": 17
        }
      ]
    },
    {
      "cell_type": "code",
      "metadata": {
        "id": "jqtQPPxgeYDh",
        "colab_type": "code",
        "outputId": "9acb59cf-5ab5-4248-8ee6-1080abb110e3",
        "colab": {
          "base_uri": "https://localhost:8080/",
          "height": 252
        }
      },
      "source": [
        "boston_df.nunique(axis = 0)"
      ],
      "execution_count": 0,
      "outputs": [
        {
          "output_type": "execute_result",
          "data": {
            "text/plain": [
              "CRIM       504\n",
              "ZN          26\n",
              "INDUS       76\n",
              "CHAS         2\n",
              "NOX         81\n",
              "RM         446\n",
              "AGE        356\n",
              "DIS        412\n",
              "RAD          9\n",
              "TAX         66\n",
              "PTRATIO     46\n",
              "B          357\n",
              "LSTAT      455\n",
              "dtype: int64"
            ]
          },
          "metadata": {
            "tags": []
          },
          "execution_count": 18
        }
      ]
    },
    {
      "cell_type": "code",
      "metadata": {
        "id": "lO9RCrZwgIFW",
        "colab_type": "code",
        "outputId": "ecd7204a-2247-48d2-8140-531a3e0a52c2",
        "colab": {
          "base_uri": "https://localhost:8080/",
          "height": 185
        }
      },
      "source": [
        "boston_df['RAD'].value_counts()"
      ],
      "execution_count": 0,
      "outputs": [
        {
          "output_type": "execute_result",
          "data": {
            "text/plain": [
              "24.0    132\n",
              "5.0     115\n",
              "4.0     110\n",
              "3.0      38\n",
              "6.0      26\n",
              "8.0      24\n",
              "2.0      24\n",
              "1.0      20\n",
              "7.0      17\n",
              "Name: RAD, dtype: int64"
            ]
          },
          "metadata": {
            "tags": []
          },
          "execution_count": 19
        }
      ]
    },
    {
      "cell_type": "markdown",
      "metadata": {
        "id": "HXrXFIkvvulM",
        "colab_type": "text"
      },
      "source": [
        "**Answer task 2:** The feature **CHAS** is a categorical(Nominal level) variable with values 1 and 0 based on the tract bounded by Charles river or not.  The feature ***RAD*** is a categorical(Ordinal level) variable with index values based on accessibility to radial highways. The rest 11 features are non-categorical/numerical type.\n"
      ]
    },
    {
      "cell_type": "markdown",
      "metadata": {
        "id": "LLIiywVqvulN",
        "colab_type": "text"
      },
      "source": [
        "### Task 3 - remove categorical feature - (4 marks)\n",
        "Use the `drop` function to remove the categorical feature from the DataFrame."
      ]
    },
    {
      "cell_type": "code",
      "metadata": {
        "id": "47X5n4uxvulO",
        "colab_type": "code",
        "colab": {}
      },
      "source": [
        "boston_df.drop(['CHAS', 'RAD'], inplace = True, axis = 1)"
      ],
      "execution_count": 0,
      "outputs": []
    },
    {
      "cell_type": "code",
      "metadata": {
        "id": "-ociFyqM_66p",
        "colab_type": "code",
        "outputId": "1b0e37f9-4cf9-4a2f-b7e8-b9ff39302c46",
        "colab": {
          "base_uri": "https://localhost:8080/",
          "height": 34
        }
      },
      "source": [
        "boston_df.shape"
      ],
      "execution_count": 0,
      "outputs": [
        {
          "output_type": "execute_result",
          "data": {
            "text/plain": [
              "(506, 11)"
            ]
          },
          "metadata": {
            "tags": []
          },
          "execution_count": 29
        }
      ]
    },
    {
      "cell_type": "markdown",
      "metadata": {
        "id": "-Wsk5iFfvulR",
        "colab_type": "text"
      },
      "source": [
        "### Task 4 - Scaling the data (6 marks)\n",
        "Scale the features to zero mean and unit variance using `sklearn.preprocessing.StandardScaler`."
      ]
    },
    {
      "cell_type": "code",
      "metadata": {
        "id": "rnvxknpiux5H",
        "colab_type": "code",
        "outputId": "e7e3de2e-92fe-4698-e24b-ee587c759b59",
        "colab": {
          "base_uri": "https://localhost:8080/",
          "height": 218
        }
      },
      "source": [
        "boston_df.mean()"
      ],
      "execution_count": 0,
      "outputs": [
        {
          "output_type": "execute_result",
          "data": {
            "text/plain": [
              "CRIM         3.613524\n",
              "ZN          11.363636\n",
              "INDUS       11.136779\n",
              "NOX          0.554695\n",
              "RM           6.284634\n",
              "AGE         68.574901\n",
              "DIS          3.795043\n",
              "TAX        408.237154\n",
              "PTRATIO     18.455534\n",
              "B          356.674032\n",
              "LSTAT       12.653063\n",
              "dtype: float64"
            ]
          },
          "metadata": {
            "tags": []
          },
          "execution_count": 30
        }
      ]
    },
    {
      "cell_type": "code",
      "metadata": {
        "id": "A0wYVc_Ju4Na",
        "colab_type": "code",
        "outputId": "3ea232d0-6c66-4ca7-8823-cfba4052113e",
        "colab": {
          "base_uri": "https://localhost:8080/",
          "height": 218
        }
      },
      "source": [
        "boston_df.std()"
      ],
      "execution_count": 0,
      "outputs": [
        {
          "output_type": "execute_result",
          "data": {
            "text/plain": [
              "CRIM         8.601545\n",
              "ZN          23.322453\n",
              "INDUS        6.860353\n",
              "NOX          0.115878\n",
              "RM           0.702617\n",
              "AGE         28.148861\n",
              "DIS          2.105710\n",
              "TAX        168.537116\n",
              "PTRATIO      2.164946\n",
              "B           91.294864\n",
              "LSTAT        7.141062\n",
              "dtype: float64"
            ]
          },
          "metadata": {
            "tags": []
          },
          "execution_count": 31
        }
      ]
    },
    {
      "cell_type": "code",
      "metadata": {
        "id": "1wNOp-JtvulS",
        "colab_type": "code",
        "colab": {}
      },
      "source": [
        "from sklearn.preprocessing import StandardScaler \n",
        "ss = StandardScaler() #instantiate the StandardScaler\n",
        "ss.fit(boston_df)\n",
        "boston_norm = ss.transform(boston_df)"
      ],
      "execution_count": 0,
      "outputs": []
    },
    {
      "cell_type": "code",
      "metadata": {
        "id": "cOshJP4sPGA7",
        "colab_type": "code",
        "outputId": "b7a98a0f-c143-4207-f060-46b3d877beb4",
        "colab": {
          "base_uri": "https://localhost:8080/",
          "height": 67
        }
      },
      "source": [
        "boston_norm.mean(axis = 0)"
      ],
      "execution_count": 0,
      "outputs": [
        {
          "output_type": "execute_result",
          "data": {
            "text/plain": [
              "array([-8.78743718e-17, -6.34319123e-16, -2.68291099e-15,  2.49032240e-15,\n",
              "       -1.14523016e-14, -1.40785495e-15,  9.21090169e-16, -8.86861950e-16,\n",
              "       -9.20563581e-15,  8.16310129e-15, -3.37016317e-16])"
            ]
          },
          "metadata": {
            "tags": []
          },
          "execution_count": 33
        }
      ]
    },
    {
      "cell_type": "markdown",
      "metadata": {
        "id": "FuNbcd4xvulV",
        "colab_type": "text"
      },
      "source": [
        "### Task 5 - Principal component analysis (PCA) (6 marks)\n",
        "Perform a PCA of the scaled data set using `sklearn.decomposition.PCA`. "
      ]
    },
    {
      "cell_type": "code",
      "metadata": {
        "id": "yOtbAHaXvulW",
        "colab_type": "code",
        "colab": {}
      },
      "source": [
        "from sklearn.decomposition import PCA\n",
        "pca = PCA()\n",
        "pca.fit(boston_norm)\n",
        "boston_pca = pca.transform(boston_norm)"
      ],
      "execution_count": 0,
      "outputs": []
    },
    {
      "cell_type": "markdown",
      "metadata": {
        "id": "3gqO3v5rvulZ",
        "colab_type": "text"
      },
      "source": [
        "### Task 6 - Scatter plot (24 marks)\n",
        "**6.1.** Make a scatter plot of the first 2 principal components in a figure. The figure should be 6 inches wide, 4.5 inches tall (4 marks). \n",
        "\n",
        "**6.2** Set appropriate labels for the x- and y-axis (4 marks).\n",
        "\n",
        "**6.3** Use the `house_prices` variable to color the scatter plot dots by house price. Choose a suitable color map. Add a colorbar() to the figure. Set the label of the colorbar according to the variable it maps (4 marks).\n",
        "\n",
        "**6.4** Justify your choice of colormap in the provided text cell (1-2 sentences, 4 marks).\n",
        "\n",
        "**6.5** Save scatter plot as PNG with 150 dpi (4 marks).\n",
        "\n",
        "**6.6** Verify that the saved file has the correct size (6 x 4.5 inches) and upload it as part of your submission (4 marks)."
      ]
    },
    {
      "cell_type": "code",
      "metadata": {
        "id": "mkLaW_qQP90f",
        "colab_type": "code",
        "outputId": "5c1ddc94-8e90-49c7-86b6-f172eab2a0b5",
        "colab": {
          "base_uri": "https://localhost:8080/",
          "height": 311
        }
      },
      "source": [
        "f = plt.figure(figsize=(6,4.5))\n",
        "ax = f.gca()\n",
        "prices = ax.scatter(boston_pca[:,0],boston_pca[:,1], c = house_prices, cmap = 'YlOrBr', marker = '.' )\n",
        "plt.colorbar(prices, label = 'Median value of owner-occupied homes in $1000')\n",
        "ax.set_xlabel('PC 1')\n",
        "ax.set_ylabel('PC 2')\n",
        "#plt.savefig(\"drive/My Drive/AppliedDS/PCA.png\", dpi = 150)\n",
        "plt.show()"
      ],
      "execution_count": 0,
      "outputs": [
        {
          "output_type": "display_data",
          "data": {
            "image/png": "[encoded data removed]",
            "text/plain": [
              "<Figure size 432x324 with 2 Axes>"
            ]
          },
          "metadata": {
            "tags": []
          }
        }
      ]
    },
    {
      "cell_type": "code",
      "metadata": {
        "id": "Fergob5Vg5Df",
        "colab_type": "code",
        "outputId": "61fd8697-5d3f-47e3-a21c-c9c8bc619e34",
        "colab": {
          "base_uri": "https://localhost:8080/",
          "height": 311
        }
      },
      "source": [
        "f = plt.figure(figsize=(6,4.5))\n",
        "ax = f.gca()\n",
        "prices = ax.scatter(boston_pca[:,0],boston_pca[:,1], c = house_prices, cmap = 'Reds' )\n",
        "plt.colorbar(prices, label = 'Median value of owner-occupied homes in $1000')\n",
        "ax.set_xlabel('PC 1')\n",
        "ax.set_ylabel('PC 2')\n",
        "#plt.savefig(\"drive/My Drive/AppliedDS/PCA.png\", dpi = 150)\n",
        "plt.show()"
      ],
      "execution_count": 0,
      "outputs": [
        {
          "output_type": "display_data",
          "data": {
            "image/png": "[encoded data removed]",
            "text/plain": [
              "<Figure size 432x324 with 2 Axes>"
            ]
          },
          "metadata": {
            "tags": []
          }
        }
      ]
    },
    {
      "cell_type": "code",
      "metadata": {
        "id": "2f-gcIDQhDi7",
        "colab_type": "code",
        "outputId": "3d415289-905f-410b-8d28-408bed55590b",
        "colab": {
          "base_uri": "https://localhost:8080/",
          "height": 311
        }
      },
      "source": [
        "f = plt.figure(figsize=(6,4.5))\n",
        "ax = f.gca()\n",
        "prices = ax.scatter(boston_pca[:,0],boston_pca[:,1], c = house_prices, cmap = 'Greens' )\n",
        "plt.colorbar(prices, label = 'Median value of owner-occupied homes in $1000')\n",
        "ax.set_xlabel('PC 1')\n",
        "ax.set_ylabel('PC 2')\n",
        "#plt.savefig(\"drive/My Drive/AppliedDS/PCA.png\", dpi = 150)\n",
        "plt.show()"
      ],
      "execution_count": 0,
      "outputs": [
        {
          "output_type": "display_data",
          "data": {
            "image/png": "[encoded data removed]",
            "text/plain": [
              "<Figure size 432x324 with 2 Axes>"
            ]
          },
          "metadata": {
            "tags": []
          }
        }
      ]
    },
    {
      "cell_type": "markdown",
      "metadata": {
        "id": "b9iSWTU4vulc",
        "colab_type": "text"
      },
      "source": [
        "**Answer to 6.4**: type here."
      ]
    },
    {
      "cell_type": "markdown",
      "metadata": {
        "id": "aGNYfJYIvuld",
        "colab_type": "text"
      },
      "source": [
        "### Task 7 - PCA components (24 marks)\n",
        "**7.1** Plot PCA components matrix as image, size 7 inches wide, 5 inches tall (4 marks). \n",
        "\n",
        "**7.2** Choose a suitable colormap, add a colorbar to the figure, add a suitable label to the colorbar (4 marks).\n",
        "\n",
        "**7.3** Justify your choice of colormap in the provided text cell (1-2 sentences, 4 marks).\n",
        "\n",
        "**7.4** Use the dataset's feature names as x-tick-labels, rotated by 90 degrees (4 marks).\n",
        "\n",
        "**7.5** Save as PNG with 75 dpi (4 marks).\n",
        "\n",
        "**7.6** Verify that the saved file has the correct size (7 x 5 inches) and upload it as part of your submission (4 marks)."
      ]
    },
    {
      "cell_type": "code",
      "metadata": {
        "id": "r9eFiETxjw79",
        "colab_type": "code",
        "outputId": "c7d5d559-1aa8-47b1-f28d-b0f105036091",
        "colab": {
          "base_uri": "https://localhost:8080/",
          "height": 34
        }
      },
      "source": [
        "components = pca.components_\n",
        "components.shape"
      ],
      "execution_count": 0,
      "outputs": [
        {
          "output_type": "execute_result",
          "data": {
            "text/plain": [
              "(11, 11)"
            ]
          },
          "metadata": {
            "tags": []
          },
          "execution_count": 36
        }
      ]
    },
    {
      "cell_type": "code",
      "metadata": {
        "id": "lpzjN1dDkVNY",
        "colab_type": "code",
        "outputId": "b3e7298f-4a6e-4441-9bb5-7dac7d2e3881",
        "colab": {
          "base_uri": "https://localhost:8080/",
          "height": 756
        }
      },
      "source": [
        "components"
      ],
      "execution_count": 0,
      "outputs": [
        {
          "output_type": "execute_result",
          "data": {
            "text/plain": [
              "array([[ 2.51649538e-01, -2.82517029e-01,  3.68095886e-01,\n",
              "         3.62943836e-01, -2.09578526e-01,  3.39491644e-01,\n",
              "        -3.46156334e-01,  3.36541020e-01,  2.09605488e-01,\n",
              "        -2.07565854e-01,  3.32195701e-01],\n",
              "       [-2.84570943e-01, -2.58499393e-01,  7.33274179e-02,\n",
              "         2.55100547e-01,  4.53099809e-01,  3.16467604e-01,\n",
              "        -3.95776310e-01, -1.77827749e-01, -4.43171918e-01,\n",
              "         1.89680174e-01, -2.35905803e-01],\n",
              "       [ 4.08896923e-01,  3.92087862e-01, -1.00302455e-02,\n",
              "         1.05463691e-01,  4.64427883e-01, -5.84945908e-02,\n",
              "         2.12950306e-02,  2.70246902e-01, -2.83063217e-01,\n",
              "        -5.27424675e-01, -1.30168753e-01],\n",
              "       [-7.70796207e-02,  2.77691652e-01, -8.36913032e-03,\n",
              "         1.73184513e-01, -4.79493436e-01,  5.69485290e-02,\n",
              "         6.22739189e-02, -1.75006938e-01, -6.82276359e-01,\n",
              "        -6.35409851e-02,  3.86887728e-01],\n",
              "       [ 4.22627708e-01,  3.26137240e-01,  8.92014521e-02,\n",
              "         9.27387890e-02,  4.49935102e-02,  4.77832787e-02,\n",
              "        -1.33657169e-02,  2.58669373e-01, -6.44339639e-02,\n",
              "         7.89229877e-01, -5.59112956e-03],\n",
              "       [ 6.53010783e-01, -3.77701041e-01, -4.16368569e-01,\n",
              "        -2.05990271e-01, -8.26625862e-04,  1.14283904e-01,\n",
              "        -1.11126710e-01, -4.07106499e-01, -1.05646839e-01,\n",
              "        -5.48901668e-03,  1.13076694e-01],\n",
              "       [ 1.78084592e-01, -3.48650668e-01,  2.47828047e-01,\n",
              "         9.19268894e-02, -3.09319869e-01, -6.14728961e-01,\n",
              "        -1.22642607e-01,  1.16416662e-01, -2.71017425e-01,\n",
              "        -7.85227307e-04, -4.48601951e-01],\n",
              "       [ 4.70645359e-02,  3.20022245e-01, -2.65909572e-01,\n",
              "         1.96589675e-01, -4.28543450e-01,  3.59225068e-01,\n",
              "        -2.09060620e-01, -1.05460319e-01,  1.79994292e-01,\n",
              "        -1.06429247e-01, -6.12184451e-01],\n",
              "       [ 1.06993019e-01,  3.36163230e-01,  5.79865360e-01,\n",
              "        -3.51849641e-01,  2.36698664e-02, -7.11260875e-02,\n",
              "        -3.89884220e-01, -4.91656015e-01,  1.13294663e-01,\n",
              "        -5.35085568e-02,  2.12462060e-02],\n",
              "       [-1.21303418e-01,  1.90698706e-01, -4.32162278e-01,\n",
              "         2.62203589e-01,  7.17344090e-02, -4.77872670e-01,\n",
              "        -5.91639949e-01, -3.21939701e-03,  1.74699149e-01,\n",
              "         3.63079015e-02,  2.79302995e-01],\n",
              "       [ 1.32005482e-01,  1.22406189e-02,  1.50011550e-01,\n",
              "         6.86586191e-01,  1.34576124e-01, -1.49095009e-01,\n",
              "         3.81945691e-01, -5.02394617e-01,  2.22534316e-01,\n",
              "         1.73333488e-02,  8.70479395e-03]])"
            ]
          },
          "metadata": {
            "tags": []
          },
          "execution_count": 37
        }
      ]
    },
    {
      "cell_type": "code",
      "metadata": {
        "id": "tVKUR6Gavule",
        "colab_type": "code",
        "outputId": "92ab5438-be39-4858-d2cd-2a77267f27d9",
        "colab": {
          "base_uri": "https://localhost:8080/",
          "height": 352
        }
      },
      "source": [
        "f = plt.figure(figsize = (7,5))\n",
        "ax = f.gca()\n",
        "img = ax.imshow(components, cmap = 'seismic')\n",
        "plt.colorbar(img )\n",
        "ax.set_xticks(range(0,12))\n",
        "t = ax.set_xticklabels(boston_df.columns, rotation = 90)"
      ],
      "execution_count": 0,
      "outputs": [
        {
          "output_type": "display_data",
          "data": {
            "image/png": "[encoded data removed]",
            "text/plain": [
              "<Figure size 504x360 with 2 Axes>"
            ]
          },
          "metadata": {
            "tags": []
          }
        }
      ]
    },
    {
      "cell_type": "code",
      "metadata": {
        "id": "iVqPSikJwpaU",
        "colab_type": "code",
        "outputId": "6a0a3b85-5378-45ff-9fea-c1b59849f34f",
        "colab": {
          "base_uri": "https://localhost:8080/",
          "height": 34
        }
      },
      "source": [
        "pca.components_.shape"
      ],
      "execution_count": 0,
      "outputs": [
        {
          "output_type": "execute_result",
          "data": {
            "text/plain": [
              "(11, 11)"
            ]
          },
          "metadata": {
            "tags": []
          },
          "execution_count": 39
        }
      ]
    },
    {
      "cell_type": "markdown",
      "metadata": {
        "id": "7cxQ_QKevulh",
        "colab_type": "text"
      },
      "source": [
        "**Answer to 7.3:** type here."
      ]
    },
    {
      "cell_type": "markdown",
      "metadata": {
        "id": "hejpnB4tvuli",
        "colab_type": "text"
      },
      "source": [
        "### Task 8 - Scree plot (12 marks)\n",
        "**8.1** Make scree plot with grey dashed lines and black round markers, 5 inches wide, 4 inches tall. Label the axes appropriately. (4 marks).\n",
        "\n",
        "**8.2** Save scree plot as svg (4 marks).\n",
        "\n",
        "**8.3** Verify that the saved file has the correct size (5x4 inches) and upload it as part of your submission (4 marks)."
      ]
    },
    {
      "cell_type": "code",
      "metadata": {
        "id": "FQYy_g3xIe-o",
        "colab_type": "code",
        "outputId": "215b72dd-14cb-492c-cabb-c92b74a3ac94",
        "colab": {
          "base_uri": "https://localhost:8080/",
          "height": 279
        }
      },
      "source": [
        "f = plt.figure(figsize = (5,4))\n",
        "ax = f.gca()\n",
        "ax.plot(pca.explained_variance_, linestyle='--', color = 'grey')\n",
        "ax.scatter(range(0,11), pca.explained_variance_, marker='o', color = 'black')\n",
        "\n",
        "ax.set_xlabel('PC no.')\n",
        "ax.set_ylabel('explained var.')\n",
        "ax.set_xticks(range(0,12))\n",
        "ax.set_xticklabels(range(1,12))\n",
        "plt.show()"
      ],
      "execution_count": 0,
      "outputs": [
        {
          "output_type": "display_data",
          "data": {
            "image/png": "[encoded data removed]",
            "text/plain": [
              "<Figure size 360x288 with 1 Axes>"
            ]
          },
          "metadata": {
            "tags": []
          }
        }
      ]
    },
    {
      "cell_type": "code",
      "metadata": {
        "id": "Lus0SfScUY5B",
        "colab_type": "code",
        "colab": {}
      },
      "source": [
        ""
      ],
      "execution_count": 0,
      "outputs": []
    }
  ]
}