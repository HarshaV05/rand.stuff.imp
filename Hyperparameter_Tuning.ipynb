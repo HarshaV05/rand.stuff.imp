{
  "nbformat": 4,
  "nbformat_minor": 0,
  "metadata": {
    "colab": {
      "name": "Hyperparameter Tuning.ipynb",
      "provenance": [],
      "toc_visible": true,
      "authorship_tag": "ABX9TyMMy0HtJ4IAjEDM/CAXwejJ",
      "include_colab_link": true
    },
    "kernelspec": {
      "name": "python3",
      "display_name": "Python 3"
    },
    "accelerator": "TPU"
  },
  "cells": [
    {
      "cell_type": "markdown",
      "metadata": {
        "id": "view-in-github",
        "colab_type": "text"
      },
      "source": [
        "<a href=\"https://colab.research.google.com/github/HarshaV05/rand.stuff.imp/blob/B1/Hyperparameter_Tuning.ipynb\" target=\"_parent\"><img src=\"https://colab.research.google.com/assets/colab-badge.svg\" alt=\"Open In Colab\"/></a>"
      ]
    },
    {
      "cell_type": "code",
      "metadata": {
        "id": "QXiaGuSNvrVg",
        "colab_type": "code",
        "colab": {}
      },
      "source": [
        "import pandas as pd"
      ],
      "execution_count": 0,
      "outputs": []
    },
    {
      "cell_type": "code",
      "metadata": {
        "id": "ZIytBYU7wzSu",
        "colab_type": "code",
        "colab": {}
      },
      "source": [
        "df = pd.read_excel('drive/My Drive/creditcard_minimised.xlsx')"
      ],
      "execution_count": 0,
      "outputs": []
    },
    {
      "cell_type": "code",
      "metadata": {
        "id": "i7QkHPBWipyh",
        "colab_type": "code",
        "colab": {
          "base_uri": "https://localhost:8080/",
          "height": 195
        },
        "outputId": "c5e4a2ee-e330-449b-8655-14636b15d817"
      },
      "source": [
        "df.head()"
      ],
      "execution_count": 103,
      "outputs": [
        {
          "output_type": "execute_result",
          "data": {
            "text/html": [
              "<div>\n",
              "<style scoped>\n",
              "    .dataframe tbody tr th:only-of-type {\n",
              "        vertical-align: middle;\n",
              "    }\n",
              "\n",
              "    .dataframe tbody tr th {\n",
              "        vertical-align: top;\n",
              "    }\n",
              "\n",
              "    .dataframe thead th {\n",
              "        text-align: right;\n",
              "    }\n",
              "</style>\n",
              "<table border=\"1\" class=\"dataframe\">\n",
              "  <thead>\n",
              "    <tr style=\"text-align: right;\">\n",
              "      <th></th>\n",
              "      <th>V6</th>\n",
              "      <th>V9</th>\n",
              "      <th>V12</th>\n",
              "      <th>V17</th>\n",
              "      <th>Class</th>\n",
              "    </tr>\n",
              "  </thead>\n",
              "  <tbody>\n",
              "    <tr>\n",
              "      <th>0</th>\n",
              "      <td>0.462388</td>\n",
              "      <td>0.363787</td>\n",
              "      <td>-0.617801</td>\n",
              "      <td>0.207971</td>\n",
              "      <td>0</td>\n",
              "    </tr>\n",
              "    <tr>\n",
              "      <th>1</th>\n",
              "      <td>-0.082361</td>\n",
              "      <td>-0.255425</td>\n",
              "      <td>1.065235</td>\n",
              "      <td>-0.114805</td>\n",
              "      <td>0</td>\n",
              "    </tr>\n",
              "    <tr>\n",
              "      <th>2</th>\n",
              "      <td>1.800499</td>\n",
              "      <td>-1.514654</td>\n",
              "      <td>0.066084</td>\n",
              "      <td>1.109969</td>\n",
              "      <td>0</td>\n",
              "    </tr>\n",
              "    <tr>\n",
              "      <th>3</th>\n",
              "      <td>1.247203</td>\n",
              "      <td>-1.387024</td>\n",
              "      <td>0.178228</td>\n",
              "      <td>-0.684093</td>\n",
              "      <td>0</td>\n",
              "    </tr>\n",
              "    <tr>\n",
              "      <th>4</th>\n",
              "      <td>0.095921</td>\n",
              "      <td>0.817739</td>\n",
              "      <td>0.538196</td>\n",
              "      <td>-0.237033</td>\n",
              "      <td>0</td>\n",
              "    </tr>\n",
              "  </tbody>\n",
              "</table>\n",
              "</div>"
            ],
            "text/plain": [
              "         V6        V9       V12       V17  Class\n",
              "0  0.462388  0.363787 -0.617801  0.207971      0\n",
              "1 -0.082361 -0.255425  1.065235 -0.114805      0\n",
              "2  1.800499 -1.514654  0.066084  1.109969      0\n",
              "3  1.247203 -1.387024  0.178228 -0.684093      0\n",
              "4  0.095921  0.817739  0.538196 -0.237033      0"
            ]
          },
          "metadata": {
            "tags": []
          },
          "execution_count": 103
        }
      ]
    },
    {
      "cell_type": "code",
      "metadata": {
        "id": "25Hg2RbHdm_L",
        "colab_type": "code",
        "colab": {
          "base_uri": "https://localhost:8080/",
          "height": 67
        },
        "outputId": "c5701d01-ad99-481e-c205-0655947de658"
      },
      "source": [
        "df['Class'].value_counts()"
      ],
      "execution_count": 104,
      "outputs": [
        {
          "output_type": "execute_result",
          "data": {
            "text/plain": [
              "0    284315\n",
              "1       492\n",
              "Name: Class, dtype: int64"
            ]
          },
          "metadata": {
            "tags": []
          },
          "execution_count": 104
        }
      ]
    },
    {
      "cell_type": "code",
      "metadata": {
        "id": "j4dDp_N4eRSb",
        "colab_type": "code",
        "colab": {}
      },
      "source": [
        "df_0 = df[df['Class'] == 0]"
      ],
      "execution_count": 0,
      "outputs": []
    },
    {
      "cell_type": "code",
      "metadata": {
        "id": "IsYKRD4fitCW",
        "colab_type": "code",
        "colab": {
          "base_uri": "https://localhost:8080/",
          "height": 195
        },
        "outputId": "abd2a7ce-f22a-415b-ff09-40244779b3c1"
      },
      "source": [
        "df_0.head()"
      ],
      "execution_count": 106,
      "outputs": [
        {
          "output_type": "execute_result",
          "data": {
            "text/html": [
              "<div>\n",
              "<style scoped>\n",
              "    .dataframe tbody tr th:only-of-type {\n",
              "        vertical-align: middle;\n",
              "    }\n",
              "\n",
              "    .dataframe tbody tr th {\n",
              "        vertical-align: top;\n",
              "    }\n",
              "\n",
              "    .dataframe thead th {\n",
              "        text-align: right;\n",
              "    }\n",
              "</style>\n",
              "<table border=\"1\" class=\"dataframe\">\n",
              "  <thead>\n",
              "    <tr style=\"text-align: right;\">\n",
              "      <th></th>\n",
              "      <th>V6</th>\n",
              "      <th>V9</th>\n",
              "      <th>V12</th>\n",
              "      <th>V17</th>\n",
              "      <th>Class</th>\n",
              "    </tr>\n",
              "  </thead>\n",
              "  <tbody>\n",
              "    <tr>\n",
              "      <th>0</th>\n",
              "      <td>0.462388</td>\n",
              "      <td>0.363787</td>\n",
              "      <td>-0.617801</td>\n",
              "      <td>0.207971</td>\n",
              "      <td>0</td>\n",
              "    </tr>\n",
              "    <tr>\n",
              "      <th>1</th>\n",
              "      <td>-0.082361</td>\n",
              "      <td>-0.255425</td>\n",
              "      <td>1.065235</td>\n",
              "      <td>-0.114805</td>\n",
              "      <td>0</td>\n",
              "    </tr>\n",
              "    <tr>\n",
              "      <th>2</th>\n",
              "      <td>1.800499</td>\n",
              "      <td>-1.514654</td>\n",
              "      <td>0.066084</td>\n",
              "      <td>1.109969</td>\n",
              "      <td>0</td>\n",
              "    </tr>\n",
              "    <tr>\n",
              "      <th>3</th>\n",
              "      <td>1.247203</td>\n",
              "      <td>-1.387024</td>\n",
              "      <td>0.178228</td>\n",
              "      <td>-0.684093</td>\n",
              "      <td>0</td>\n",
              "    </tr>\n",
              "    <tr>\n",
              "      <th>4</th>\n",
              "      <td>0.095921</td>\n",
              "      <td>0.817739</td>\n",
              "      <td>0.538196</td>\n",
              "      <td>-0.237033</td>\n",
              "      <td>0</td>\n",
              "    </tr>\n",
              "  </tbody>\n",
              "</table>\n",
              "</div>"
            ],
            "text/plain": [
              "         V6        V9       V12       V17  Class\n",
              "0  0.462388  0.363787 -0.617801  0.207971      0\n",
              "1 -0.082361 -0.255425  1.065235 -0.114805      0\n",
              "2  1.800499 -1.514654  0.066084  1.109969      0\n",
              "3  1.247203 -1.387024  0.178228 -0.684093      0\n",
              "4  0.095921  0.817739  0.538196 -0.237033      0"
            ]
          },
          "metadata": {
            "tags": []
          },
          "execution_count": 106
        }
      ]
    },
    {
      "cell_type": "code",
      "metadata": {
        "id": "oJ_ULFaKivj-",
        "colab_type": "code",
        "colab": {}
      },
      "source": [
        "df_0 = df_0.reset_index()"
      ],
      "execution_count": 0,
      "outputs": []
    },
    {
      "cell_type": "code",
      "metadata": {
        "id": "d5MNgtwilBG2",
        "colab_type": "code",
        "colab": {
          "base_uri": "https://localhost:8080/",
          "height": 195
        },
        "outputId": "22ca18fd-21f4-4b3b-fb45-0218526b0923"
      },
      "source": [
        "df_0.tail()"
      ],
      "execution_count": 108,
      "outputs": [
        {
          "output_type": "execute_result",
          "data": {
            "text/html": [
              "<div>\n",
              "<style scoped>\n",
              "    .dataframe tbody tr th:only-of-type {\n",
              "        vertical-align: middle;\n",
              "    }\n",
              "\n",
              "    .dataframe tbody tr th {\n",
              "        vertical-align: top;\n",
              "    }\n",
              "\n",
              "    .dataframe thead th {\n",
              "        text-align: right;\n",
              "    }\n",
              "</style>\n",
              "<table border=\"1\" class=\"dataframe\">\n",
              "  <thead>\n",
              "    <tr style=\"text-align: right;\">\n",
              "      <th></th>\n",
              "      <th>index</th>\n",
              "      <th>V6</th>\n",
              "      <th>V9</th>\n",
              "      <th>V12</th>\n",
              "      <th>V17</th>\n",
              "      <th>Class</th>\n",
              "    </tr>\n",
              "  </thead>\n",
              "  <tbody>\n",
              "    <tr>\n",
              "      <th>284310</th>\n",
              "      <td>284802</td>\n",
              "      <td>-2.606837</td>\n",
              "      <td>1.914428</td>\n",
              "      <td>2.711941</td>\n",
              "      <td>1.991691</td>\n",
              "      <td>0</td>\n",
              "    </tr>\n",
              "    <tr>\n",
              "      <th>284311</th>\n",
              "      <td>284803</td>\n",
              "      <td>1.058415</td>\n",
              "      <td>0.584800</td>\n",
              "      <td>0.915802</td>\n",
              "      <td>-0.025693</td>\n",
              "      <td>0</td>\n",
              "    </tr>\n",
              "    <tr>\n",
              "      <th>284312</th>\n",
              "      <td>284804</td>\n",
              "      <td>3.031260</td>\n",
              "      <td>0.432454</td>\n",
              "      <td>0.063119</td>\n",
              "      <td>0.313502</td>\n",
              "      <td>0</td>\n",
              "    </tr>\n",
              "    <tr>\n",
              "      <th>284313</th>\n",
              "      <td>284805</td>\n",
              "      <td>0.623708</td>\n",
              "      <td>0.392087</td>\n",
              "      <td>-0.962886</td>\n",
              "      <td>0.509928</td>\n",
              "      <td>0</td>\n",
              "    </tr>\n",
              "    <tr>\n",
              "      <th>284314</th>\n",
              "      <td>284806</td>\n",
              "      <td>-0.649617</td>\n",
              "      <td>0.486180</td>\n",
              "      <td>-0.031513</td>\n",
              "      <td>-0.660377</td>\n",
              "      <td>0</td>\n",
              "    </tr>\n",
              "  </tbody>\n",
              "</table>\n",
              "</div>"
            ],
            "text/plain": [
              "         index        V6        V9       V12       V17  Class\n",
              "284310  284802 -2.606837  1.914428  2.711941  1.991691      0\n",
              "284311  284803  1.058415  0.584800  0.915802 -0.025693      0\n",
              "284312  284804  3.031260  0.432454  0.063119  0.313502      0\n",
              "284313  284805  0.623708  0.392087 -0.962886  0.509928      0\n",
              "284314  284806 -0.649617  0.486180 -0.031513 -0.660377      0"
            ]
          },
          "metadata": {
            "tags": []
          },
          "execution_count": 108
        }
      ]
    },
    {
      "cell_type": "code",
      "metadata": {
        "id": "aLaOKISIjFBZ",
        "colab_type": "code",
        "colab": {
          "base_uri": "https://localhost:8080/",
          "height": 34
        },
        "outputId": "31c2ef24-0d0f-4a95-9b7c-f34bd22a9258"
      },
      "source": [
        "df_0.columns"
      ],
      "execution_count": 109,
      "outputs": [
        {
          "output_type": "execute_result",
          "data": {
            "text/plain": [
              "Index(['index', 'V6', 'V9', 'V12', 'V17', 'Class'], dtype='object')"
            ]
          },
          "metadata": {
            "tags": []
          },
          "execution_count": 109
        }
      ]
    },
    {
      "cell_type": "code",
      "metadata": {
        "id": "6xPh4tYeh5w5",
        "colab_type": "code",
        "colab": {}
      },
      "source": [
        "df_1 = df[df['Class'] == 1 ]"
      ],
      "execution_count": 0,
      "outputs": []
    },
    {
      "cell_type": "code",
      "metadata": {
        "id": "3-R4tRcViBvf",
        "colab_type": "code",
        "colab": {}
      },
      "source": [
        "df_1 = df_1.reset_index()\n",
        "# df_1.drop(['index'])"
      ],
      "execution_count": 0,
      "outputs": []
    },
    {
      "cell_type": "code",
      "metadata": {
        "id": "tCd-nCPmlHO3",
        "colab_type": "code",
        "colab": {
          "base_uri": "https://localhost:8080/",
          "height": 195
        },
        "outputId": "d78e816f-d5af-4d54-d584-dbc13e556747"
      },
      "source": [
        "df_1.head()"
      ],
      "execution_count": 112,
      "outputs": [
        {
          "output_type": "execute_result",
          "data": {
            "text/html": [
              "<div>\n",
              "<style scoped>\n",
              "    .dataframe tbody tr th:only-of-type {\n",
              "        vertical-align: middle;\n",
              "    }\n",
              "\n",
              "    .dataframe tbody tr th {\n",
              "        vertical-align: top;\n",
              "    }\n",
              "\n",
              "    .dataframe thead th {\n",
              "        text-align: right;\n",
              "    }\n",
              "</style>\n",
              "<table border=\"1\" class=\"dataframe\">\n",
              "  <thead>\n",
              "    <tr style=\"text-align: right;\">\n",
              "      <th></th>\n",
              "      <th>index</th>\n",
              "      <th>V6</th>\n",
              "      <th>V9</th>\n",
              "      <th>V12</th>\n",
              "      <th>V17</th>\n",
              "      <th>Class</th>\n",
              "    </tr>\n",
              "  </thead>\n",
              "  <tbody>\n",
              "    <tr>\n",
              "      <th>0</th>\n",
              "      <td>541</td>\n",
              "      <td>-1.426545</td>\n",
              "      <td>-2.770089</td>\n",
              "      <td>-2.899907</td>\n",
              "      <td>-2.830056</td>\n",
              "      <td>1</td>\n",
              "    </tr>\n",
              "    <tr>\n",
              "      <th>1</th>\n",
              "      <td>623</td>\n",
              "      <td>-1.064823</td>\n",
              "      <td>-0.270953</td>\n",
              "      <td>-0.503141</td>\n",
              "      <td>0.599717</td>\n",
              "      <td>1</td>\n",
              "    </tr>\n",
              "    <tr>\n",
              "      <th>2</th>\n",
              "      <td>4920</td>\n",
              "      <td>-0.075788</td>\n",
              "      <td>-0.238253</td>\n",
              "      <td>-6.560124</td>\n",
              "      <td>-4.781831</td>\n",
              "      <td>1</td>\n",
              "    </tr>\n",
              "    <tr>\n",
              "      <th>3</th>\n",
              "      <td>6108</td>\n",
              "      <td>-1.706536</td>\n",
              "      <td>-0.247768</td>\n",
              "      <td>-10.912819</td>\n",
              "      <td>-12.598419</td>\n",
              "      <td>1</td>\n",
              "    </tr>\n",
              "    <tr>\n",
              "      <th>4</th>\n",
              "      <td>6329</td>\n",
              "      <td>-1.357746</td>\n",
              "      <td>-1.282858</td>\n",
              "      <td>-4.609628</td>\n",
              "      <td>6.739384</td>\n",
              "      <td>1</td>\n",
              "    </tr>\n",
              "  </tbody>\n",
              "</table>\n",
              "</div>"
            ],
            "text/plain": [
              "   index        V6        V9        V12        V17  Class\n",
              "0    541 -1.426545 -2.770089  -2.899907  -2.830056      1\n",
              "1    623 -1.064823 -0.270953  -0.503141   0.599717      1\n",
              "2   4920 -0.075788 -0.238253  -6.560124  -4.781831      1\n",
              "3   6108 -1.706536 -0.247768 -10.912819 -12.598419      1\n",
              "4   6329 -1.357746 -1.282858  -4.609628   6.739384      1"
            ]
          },
          "metadata": {
            "tags": []
          },
          "execution_count": 112
        }
      ]
    },
    {
      "cell_type": "code",
      "metadata": {
        "id": "hyajB6ZbC8GP",
        "colab_type": "code",
        "colab": {}
      },
      "source": [
        "df_0_sample = df_0.sample(750)\n",
        "df_1_sample = df_1.sample(50)"
      ],
      "execution_count": 0,
      "outputs": []
    },
    {
      "cell_type": "code",
      "metadata": {
        "id": "kxgBbeoKjp8S",
        "colab_type": "code",
        "colab": {}
      },
      "source": [
        "df_new = df_0_sample.append(df_1_sample)"
      ],
      "execution_count": 0,
      "outputs": []
    },
    {
      "cell_type": "code",
      "metadata": {
        "id": "o9K9kjYSj1KU",
        "colab_type": "code",
        "colab": {}
      },
      "source": [
        "df_new = df_new.reset_index()"
      ],
      "execution_count": 0,
      "outputs": []
    },
    {
      "cell_type": "code",
      "metadata": {
        "id": "lBodk4_bk1rK",
        "colab_type": "code",
        "colab": {
          "base_uri": "https://localhost:8080/",
          "height": 67
        },
        "outputId": "572eca60-0b78-4ed4-830e-1698026e9ab5"
      },
      "source": [
        "df_new['Class'].value_counts()"
      ],
      "execution_count": 153,
      "outputs": [
        {
          "output_type": "execute_result",
          "data": {
            "text/plain": [
              "0    750\n",
              "1     50\n",
              "Name: Class, dtype: int64"
            ]
          },
          "metadata": {
            "tags": []
          },
          "execution_count": 153
        }
      ]
    },
    {
      "cell_type": "code",
      "metadata": {
        "id": "VuBicH5kDDGA",
        "colab_type": "code",
        "colab": {}
      },
      "source": [
        "X = df_new[['V17', 'V9', 'V6', 'V12']]\n",
        "y = df_new['Class']"
      ],
      "execution_count": 0,
      "outputs": []
    },
    {
      "cell_type": "code",
      "metadata": {
        "id": "b35JE7JwDWdO",
        "colab_type": "code",
        "colab": {}
      },
      "source": [
        "from sklearn.preprocessing import StandardScaler\n",
        "X = StandardScaler().fit_transform(X)"
      ],
      "execution_count": 0,
      "outputs": []
    },
    {
      "cell_type": "code",
      "metadata": {
        "id": "b1vNRo-9DqGB",
        "colab_type": "code",
        "colab": {}
      },
      "source": [
        "from sklearn.model_selection import train_test_split\n",
        "X_Train, X_Test, y_Train, y_Test = train_test_split(X,y, test_size = 0.3, random_state = 1001)"
      ],
      "execution_count": 0,
      "outputs": []
    },
    {
      "cell_type": "code",
      "metadata": {
        "id": "Z6Fliw0SEMeX",
        "colab_type": "code",
        "colab": {}
      },
      "source": [
        "from sklearn.metrics import confusion_matrix, classification_report\n",
        "from sklearn.ensemble import RandomForestClassifier\n",
        "from sklearn.metrics import accuracy_score"
      ],
      "execution_count": 0,
      "outputs": []
    },
    {
      "cell_type": "code",
      "metadata": {
        "id": "alJneSVkThUm",
        "colab_type": "code",
        "colab": {}
      },
      "source": [
        "rfc = RandomForestClassifier(random_state=101)\n",
        "rfc.fit(X_Train,y_Train)\n",
        "y_Pred = rfc.predict(X_Test)"
      ],
      "execution_count": 0,
      "outputs": []
    },
    {
      "cell_type": "code",
      "metadata": {
        "id": "3MnQ6wVRcby2",
        "colab_type": "code",
        "colab": {
          "base_uri": "https://localhost:8080/",
          "height": 50
        },
        "outputId": "38a6f4b4-9022-4942-c52e-b8386922b929"
      },
      "source": [
        "print(confusion_matrix(y_Test, y_Pred))"
      ],
      "execution_count": 159,
      "outputs": [
        {
          "output_type": "stream",
          "text": [
            "[[226   0]\n",
            " [  3  11]]\n"
          ],
          "name": "stdout"
        }
      ]
    },
    {
      "cell_type": "code",
      "metadata": {
        "id": "q-avQ2MWc0S3",
        "colab_type": "code",
        "colab": {
          "base_uri": "https://localhost:8080/",
          "height": 168
        },
        "outputId": "88673557-3eff-4c19-c41d-6e478b2c8982"
      },
      "source": [
        "print(classification_report(y_Test, y_Pred))"
      ],
      "execution_count": 160,
      "outputs": [
        {
          "output_type": "stream",
          "text": [
            "              precision    recall  f1-score   support\n",
            "\n",
            "           0       0.99      1.00      0.99       226\n",
            "           1       1.00      0.79      0.88        14\n",
            "\n",
            "    accuracy                           0.99       240\n",
            "   macro avg       0.99      0.89      0.94       240\n",
            "weighted avg       0.99      0.99      0.99       240\n",
            "\n"
          ],
          "name": "stdout"
        }
      ]
    },
    {
      "cell_type": "code",
      "metadata": {
        "id": "YVhFkDyQc6zN",
        "colab_type": "code",
        "colab": {
          "base_uri": "https://localhost:8080/",
          "height": 34
        },
        "outputId": "93f184ba-e735-44e1-b648-de9ac6c9c236"
      },
      "source": [
        "print(accuracy_score(y_Test, y_Pred))"
      ],
      "execution_count": 161,
      "outputs": [
        {
          "output_type": "stream",
          "text": [
            "0.9875\n"
          ],
          "name": "stdout"
        }
      ]
    },
    {
      "cell_type": "code",
      "metadata": {
        "id": "EgoSQkGYdFga",
        "colab_type": "code",
        "colab": {}
      },
      "source": [
        ""
      ],
      "execution_count": 0,
      "outputs": []
    }
  ]
}