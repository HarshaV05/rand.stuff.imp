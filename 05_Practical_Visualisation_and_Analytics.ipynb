{
  "nbformat": 4,
  "nbformat_minor": 0,
  "metadata": {
    "kernelspec": {
      "display_name": "Python 3",
      "language": "python",
      "name": "python3"
    },
    "language_info": {
      "codemirror_mode": {
        "name": "ipython",
        "version": 3
      },
      "file_extension": ".py",
      "mimetype": "text/x-python",
      "name": "python",
      "nbconvert_exporter": "python",
      "pygments_lexer": "ipython3",
      "version": "3.7.1"
    },
    "colab": {
      "name": "05 - Practical Visualisation and Analytics.ipynb",
      "provenance": [],
      "include_colab_link": true
    }
  },
  "cells": [
    {
      "cell_type": "markdown",
      "metadata": {
        "id": "view-in-github",
        "colab_type": "text"
      },
      "source": [
        "<a href=\"https://colab.research.google.com/github/HarshaV05/rand.stuff.imp/blob/master/05_Practical_Visualisation_and_Analytics.ipynb\" target=\"_parent\"><img src=\"https://colab.research.google.com/assets/colab-badge.svg\" alt=\"Open In Colab\"/></a>"
      ]
    },
    {
      "cell_type": "markdown",
      "metadata": {
        "id": "paNP2uPEqDxG",
        "colab_type": "text"
      },
      "source": [
        "# Unit 5 - practical visualisation"
      ]
    },
    {
      "cell_type": "markdown",
      "metadata": {
        "id": "rR-gyCj4qDxJ",
        "colab_type": "text"
      },
      "source": [
        "## Saving Jupyter notebooks\n",
        "There are two practical ways to save a Jupyter notebook:\n",
        "1. as ipynb\n",
        " * either just hit ctrl-S, or via menu File -> Save As...\n",
        "2. as HTML\n",
        " * via menu File -> Download as -> HTML (.html)\n",
        " \n",
        "**For the assignment you'll need to use both!**\n"
      ]
    },
    {
      "cell_type": "markdown",
      "metadata": {
        "id": "2uBL6FFZqDxK",
        "colab_type": "text"
      },
      "source": [
        "## New idioms\n",
        "### preliminaries - load iris "
      ]
    },
    {
      "cell_type": "code",
      "metadata": {
        "id": "TJJFdpWTqDxL",
        "colab_type": "code",
        "colab": {}
      },
      "source": [
        "import matplotlib.pyplot as plt\n",
        "import pandas as pd\n",
        "import sklearn.datasets as data\n",
        "import numpy as np\n",
        "%matplotlib inline\n",
        "iris = data.load_iris()\n",
        "iris.keys()"
      ],
      "execution_count": 0,
      "outputs": []
    },
    {
      "cell_type": "code",
      "metadata": {
        "id": "Exk1ORzuqDxO",
        "colab_type": "code",
        "colab": {}
      },
      "source": [
        "irisdf = pd.DataFrame(data=iris['data'], columns=iris['feature_names'])\n",
        "irisdf['target'] = iris['target']\n",
        "target_dict = dict(zip(range(3),iris['target_names']))\n",
        "irisdf['species'] = [target_dict[int(t)] for t in iris['target']]\n",
        "target_dict"
      ],
      "execution_count": 0,
      "outputs": []
    },
    {
      "cell_type": "code",
      "metadata": {
        "id": "jWsfEJtkqDxR",
        "colab_type": "code",
        "colab": {}
      },
      "source": [
        "irisdf"
      ],
      "execution_count": 0,
      "outputs": []
    },
    {
      "cell_type": "markdown",
      "metadata": {
        "id": "bZtM0JfRqDxU",
        "colab_type": "text"
      },
      "source": [
        "### make figure of specific size, decorate with axis labels of specific font"
      ]
    },
    {
      "cell_type": "code",
      "metadata": {
        "id": "eVU1B0GkqDxV",
        "colab_type": "code",
        "colab": {}
      },
      "source": [
        "f = plt.figure(figsize=(7,5)) # makes a figure 7 inches wide, 5 inches high\n",
        "ax = f.gca() # instead of plt.gca()\n",
        "xvar = 'petal length (cm)'\n",
        "yvar = 'sepal length (cm)'\n",
        "ax.scatter(irisdf[xvar], irisdf[yvar])\n",
        "ax.set_xlabel(xvar, size=17, family='serif')\n",
        "ax.set_ylabel(yvar, size=8, family='sans serif')"
      ],
      "execution_count": 0,
      "outputs": []
    },
    {
      "cell_type": "markdown",
      "metadata": {
        "id": "LqT14oiuqDxY",
        "colab_type": "text"
      },
      "source": [
        "#### Task\n",
        "* Set both axis labels to 10 pt sans-serif font.\n",
        "* change figure size to 5 inches wide, 3 inches tall. "
      ]
    },
    {
      "cell_type": "markdown",
      "metadata": {
        "id": "3wKM2H_vqDxZ",
        "colab_type": "text"
      },
      "source": [
        "### Colormaps"
      ]
    },
    {
      "cell_type": "markdown",
      "metadata": {
        "id": "5mk3wuTyqDxa",
        "colab_type": "text"
      },
      "source": [
        "We have previously seen colormaps for matrices:"
      ]
    },
    {
      "cell_type": "code",
      "metadata": {
        "id": "AO5C4Gt3qDxb",
        "colab_type": "code",
        "colab": {}
      },
      "source": [
        "mat = np.random.randn(10,15)\n",
        "f = plt.figure()\n",
        "ax = f.gca()\n",
        "img = ax.imshow(mat, cmap='seismic') # diverging colormaps, since randn varries around mean zero\n",
        "plt.colorbar(img)"
      ],
      "execution_count": 0,
      "outputs": []
    },
    {
      "cell_type": "markdown",
      "metadata": {
        "id": "w5kVA4MQqDxe",
        "colab_type": "text"
      },
      "source": [
        "Colormaps can also be applied to scatter plots. \n",
        "\n",
        "The example below uses a sequential colormap to indicate the value of the 'sepal width (cm)' feature.\n",
        "\n",
        "Note that adding a colorbar requires storing the return value of the `scatter(...)` command."
      ]
    },
    {
      "cell_type": "code",
      "metadata": {
        "id": "Er3sT3fXqDxf",
        "colab_type": "code",
        "colab": {}
      },
      "source": [
        "f = plt.figure(figsize=(7,5))\n",
        "ax = f.gca() # instead of plt.gca()\n",
        "dots = ax.scatter(irisdf['petal length (cm)'], irisdf['sepal length (cm)'],\n",
        "           c=irisdf['sepal width (cm)'],    # the 'c' parameter specifies the feature to use for coloring\n",
        "           cmap='PiYG')                     # the cmap parameter specifies the colormap\n",
        "# adding colorbar\n",
        "plt.colorbar(dots, label='sepal width (cm)')"
      ],
      "execution_count": 0,
      "outputs": []
    },
    {
      "cell_type": "markdown",
      "metadata": {
        "id": "fWU4IXi8qDxi",
        "colab_type": "text"
      },
      "source": [
        "Similarly, we can use a diverging colormap, e.g. to indicate the target value. "
      ]
    },
    {
      "cell_type": "code",
      "metadata": {
        "id": "domMmMa2qDxi",
        "colab_type": "code",
        "colab": {}
      },
      "source": [
        "f = plt.figure(figsize=(7,5))\n",
        "ax = f.gca() # instead of plt.gca()\n",
        "dots = ax.scatter(irisdf['petal length (cm)'], irisdf['sepal length (cm)'],\n",
        "           c=irisdf['target'],    # the 'c' parameter specifies the feature to use for coloring\n",
        "           cmap='jet')                     # the cmap parameter specifies the colormap\n",
        "# adding colorbar\n",
        "plt.colorbar(dots, label='target')"
      ],
      "execution_count": 0,
      "outputs": []
    },
    {
      "cell_type": "markdown",
      "metadata": {
        "id": "hTY3SrEZqDxl",
        "colab_type": "text"
      },
      "source": [
        "Obviously, the colorbar makes little sense here. The example was mainly added for the sake of completeness. \n",
        "\n",
        "Instead, we should to use a legend. The matplotlib `legend` command is quite smart and can infer all required information from a plot. However, we need to make three tweaks:\n",
        "1. add \"label\" information to the plotted dots.\n",
        "2. use the `plot` command instead of `scatter`, since the latter doesn't support the \"label\" parameter.\n",
        "3. add the different species separately since only one label can be specified per plot command."
      ]
    },
    {
      "cell_type": "code",
      "metadata": {
        "id": "RASUeSJKqDxm",
        "colab_type": "code",
        "colab": {}
      },
      "source": [
        "f = plt.figure(figsize=(7,5))\n",
        "ax = f.gca() # instead of plt.gca()\n",
        "for lab,c in zip(iris['target_names'], ['red', 'green', 'blue']): #loop over species\n",
        "    ax.plot(irisdf['petal length (cm)'][irisdf['species']==lab], \n",
        "            irisdf['sepal length (cm)'][irisdf['species']==lab],\n",
        "            color=c,    # specifies the color\n",
        "            marker='o', # specifies the marker\n",
        "            linestyle='', # orevents drawing a line\n",
        "            label=lab) # adds label information to the dots\n",
        "ax.legend()"
      ],
      "execution_count": 0,
      "outputs": []
    },
    {
      "cell_type": "markdown",
      "metadata": {
        "id": "lTCvhbUtqDxp",
        "colab_type": "text"
      },
      "source": [
        "## Brain networks\n",
        "\n",
        "The \"Brain Networks\" dataset contains the activity of 62 brain regions of 920 time points. We will analyse the correlation between those time series. The dataset is available on Canvas (\"brain_networks.csv\").\n",
        "\n",
        "First we load the data set.\n",
        "\n",
        "This dataset has three header rows (0, 1 and 2) and one index column.\n",
        "\n",
        "The highest level is the brain network, the middle level the brain node, and the lowest level is the hemishpese (left or right hemisphere)."
      ]
    },
    {
      "cell_type": "code",
      "metadata": {
        "id": "_9iqk7DFqDxq",
        "colab_type": "code",
        "colab": {}
      },
      "source": [
        "import pandas as pd\n",
        "\n",
        "# Load the brain networks example dataset\n",
        "df = pd.read_csv('brain_networks.csv', header=[0, 1, 2], index_col=0)\n",
        "df\n"
      ],
      "execution_count": 0,
      "outputs": []
    },
    {
      "cell_type": "markdown",
      "metadata": {
        "id": "TEt1aTaXqDxs",
        "colab_type": "text"
      },
      "source": [
        "Let's calculate the correlation between brain networks. Correlation is similar to covariance, except that it also takes the series' standard deviation into account.\n",
        "\n",
        "Remember the equation for covariance:\n",
        "\n",
        "\\begin{equation*}\n",
        "cov(\\mathbf{x},\\mathbf{y}) = \\frac{\\sum_i \\left(x_i-\\langle x\\rangle \\right) \\left(y_i-\\langle y\\rangle \\right)}{n} \n",
        "\\end{equation*}\n",
        "\n",
        "with $\\langle x \\rangle$ denoting the mean of $x$.\n",
        "\n",
        "Correlation is the covariance divided by the product of the two standard deviations:\n",
        "\n",
        "\\begin{equation*}\n",
        "cov(\\mathbf{x},\\mathbf{y}) = \\frac{\\sum_i \\left(x_i-\\langle x\\rangle \\right) \\left(y_i-\\langle y\\rangle \\right)}\n",
        "{n \\cdot \\sigma_x \\cdot \\sigma_y} \n",
        "\\end{equation*}\n",
        "\n",
        "Note that in case of unit variance, like after normalisation of the variables using `sklearn.StandardScaler`, both standard deviations will be one and therefore correlation will be equal to covariance. \n",
        "\n",
        "We can compute the correlation matrix of a dataframe using the following:"
      ]
    },
    {
      "cell_type": "code",
      "metadata": {
        "id": "_6HBp619qDxt",
        "colab_type": "code",
        "colab": {}
      },
      "source": [
        "corrmat = df.corr()\n",
        "corrmat"
      ],
      "execution_count": 0,
      "outputs": []
    },
    {
      "cell_type": "markdown",
      "metadata": {
        "id": "1Qu302OvqDxw",
        "colab_type": "text"
      },
      "source": [
        "The correlation matrix is a square matrix and the values range from -1 to 1.\n",
        "\n",
        "A correlation of 1 means that two series are fully correlated, that is, series $/mathbf{x}$ is the same as $/mathbf{y}$, except for potential scaling and translation (i.e., multiplication and/or addition of a constant).\n",
        "\n",
        "A correlation of -1 means that two series are exactly the \"opposite\" of each other. They are \"anticorrelated\".\n",
        "\n",
        "Both correlation of -1 and 1 mean that the two series are fully predictable.\n",
        "\n",
        "A correlation of 0 means that the two values are uncorrelated., that is, series $/mathbf{x}$ is not linearly  predictable from series $/mathbf{y}$.\n",
        "\n",
        "#### Correlation matrix\n",
        "Now, let's plot the correlation matrix. It's a square matrix with possible values between -1 and 1."
      ]
    },
    {
      "cell_type": "code",
      "metadata": {
        "id": "BX4WrwnnqDxw",
        "colab_type": "code",
        "colab": {}
      },
      "source": [
        "f = plt.figure(figsize=(4,6))\n",
        "ax = f.gca()\n",
        "ax.imshow(corrmat.values)"
      ],
      "execution_count": 0,
      "outputs": []
    },
    {
      "cell_type": "markdown",
      "metadata": {
        "id": "HaUAJdHgqDxz",
        "colab_type": "text"
      },
      "source": [
        "### Task\n",
        "1. Add a colorbar to the figure.\n",
        "2. make the figure 7 inch large and square.\n",
        "2. go to the [matplotlib colormap tutorial](https://matplotlib.org/3.1.0/tutorials/colors/colormaps.html), have a look at the available colormaps and choose a diverging colormap of your liking.\n",
        "3. use the documentation of the `imshow` command to find out how to change the colormap. Hint: use `plt.imshow?` to display the documentation for `imshow`.\n",
        "4. Scale the colormap such that the minimum value it reports is -1 and the maximum is 1. The mean will be zero. Hint: Look at the `vmin` and `vmax` parameters in the documentation.\n",
        "5. Save the figure in PNG format with 150 dpi. \n",
        "6. Verify that the saved figure has the dimensions 7x7 inch. Hint: Open Word, create a new document, insert the figure, right click -> \"Size and Position\", check \"Original Size\". You may have to convert centimeters to inches."
      ]
    },
    {
      "cell_type": "code",
      "metadata": {
        "id": "ASU9yzDoqDx0",
        "colab_type": "code",
        "colab": {}
      },
      "source": [
        "# add your code here."
      ],
      "execution_count": 0,
      "outputs": []
    },
    {
      "cell_type": "markdown",
      "metadata": {
        "id": "uBb4GMOYqDx3",
        "colab_type": "text"
      },
      "source": [
        "## Coronavirus campaign continued — Explorative analysis\n",
        "1. Download the newest version of th coronavirus dataset from https://www.kaggle.com/sudalairajkumar/novel-corona-virus-2019-dataset .\n",
        "\n",
        "2. Plot the ...\n",
        " * number of cases in Hubei over time\n",
        " * number of deaths in Hubei over time\n",
        " * infection rate over time (new cases per existing cases)\n",
        " * mortality rate in Hubei over time (deaths per cases)\n",
        " * recovery rate in Hubei over time (recoveries per cases)\n",
        " \n",
        "3. Plot a bar chart that shows the number of cases in Mainland China vs. all other countries listed. Sort bars in decreasing order. Hint: Look at `matplotlib.pyplot.hist` for how to make a bar histogram."
      ]
    },
    {
      "cell_type": "code",
      "metadata": {
        "id": "07_wzri5qDx4",
        "colab_type": "code",
        "colab": {}
      },
      "source": [
        "# add your code here"
      ],
      "execution_count": 0,
      "outputs": []
    },
    {
      "cell_type": "markdown",
      "metadata": {
        "id": "OMFChDiLqDx9",
        "colab_type": "text"
      },
      "source": [
        "## Advanced data campaign 1 - data cleaning\n",
        "1. Standardise the column 'Country' (i.e. 'China' vs. 'Mainland China')\n",
        "2. Standardise the format of the date strings in 'Date' and 'Last Update'. Consult the documentation for `pandas.to_datetime`."
      ]
    },
    {
      "cell_type": "code",
      "metadata": {
        "id": "7f63nlEYqDx-",
        "colab_type": "code",
        "colab": {}
      },
      "source": [
        "# add your code here"
      ],
      "execution_count": 0,
      "outputs": []
    },
    {
      "cell_type": "markdown",
      "metadata": {
        "id": "xfGopBbtqDyB",
        "colab_type": "text"
      },
      "source": [
        "## Advanced data campaign 2 - explorative\n",
        "* plot the number of cases in Hubei and number of recoveries\n",
        "* Can you estimate the recovery lag, i.e. how long is the average duration between recording of a case and recovery?\n",
        "* Can you apply the estimated lag to the calculation of the mortality rate (i.e. calculate mortality rate with appropriate lag)?"
      ]
    },
    {
      "cell_type": "code",
      "metadata": {
        "id": "ZQHrELaFqDyC",
        "colab_type": "code",
        "colab": {}
      },
      "source": [
        "# add your code here."
      ],
      "execution_count": 0,
      "outputs": []
    }
  ]
}