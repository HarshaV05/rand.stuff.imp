{
  "nbformat": 4,
  "nbformat_minor": 0,
  "metadata": {
    "colab": {
      "name": "TimeSeries_AnalyticsVidhya.ipynb",
      "provenance": [],
      "mount_file_id": "1Qa_pCBlFNgIH2WMoInhUlJACJMLkiw0b",
      "authorship_tag": "ABX9TyMXcnQld72o556p+lwzjBev",
      "include_colab_link": true
    },
    "kernelspec": {
      "name": "python3",
      "display_name": "Python 3"
    },
    "accelerator": "GPU"
  },
  "cells": [
    {
      "cell_type": "markdown",
      "metadata": {
        "id": "view-in-github",
        "colab_type": "text"
      },
      "source": [
        "<a href=\"https://colab.research.google.com/github/HarshaV05/rand.stuff.imp/blob/master/TimeSeries_AnalyticsVidhya.ipynb\" target=\"_parent\"><img src=\"https://colab.research.google.com/assets/colab-badge.svg\" alt=\"Open In Colab\"/></a>"
      ]
    },
    {
      "cell_type": "code",
      "metadata": {
        "id": "5XyKOqz6dU-1",
        "colab_type": "code",
        "colab": {}
      },
      "source": [
        "import pandas as pd\n",
        "import numpy as np\n",
        "from pandas import Series \n",
        "from datetime import datetime\n",
        "import matplotlib.pyplot as plt\n",
        "import warnings\n",
        "%matplotlib inline"
      ],
      "execution_count": 0,
      "outputs": []
    },
    {
      "cell_type": "code",
      "metadata": {
        "id": "QGT-kKTceMwj",
        "colab_type": "code",
        "colab": {}
      },
      "source": [
        "train = pd.read_csv('drive/My Drive/TS_AV/Train_SU63ISt.csv')\n",
        "test = pd.read_csv('drive/My Drive/TS_AV/Test_0qrQsBZ.csv')"
      ],
      "execution_count": 0,
      "outputs": []
    },
    {
      "cell_type": "code",
      "metadata": {
        "id": "AlJ-kMCcekrh",
        "colab_type": "code",
        "colab": {}
      },
      "source": [
        "train_original = train.copy()\n",
        "test_original = test.copy()"
      ],
      "execution_count": 0,
      "outputs": []
    },
    {
      "cell_type": "code",
      "metadata": {
        "id": "SqOIoJ69e5lF",
        "colab_type": "code",
        "outputId": "90b07991-2023-40b7-9889-b75c2d5c2521",
        "colab": {
          "base_uri": "https://localhost:8080/",
          "height": 402
        }
      },
      "source": [
        "train"
      ],
      "execution_count": 0,
      "outputs": [
        {
          "output_type": "execute_result",
          "data": {
            "text/html": [
              "<div>\n",
              "<style scoped>\n",
              "    .dataframe tbody tr th:only-of-type {\n",
              "        vertical-align: middle;\n",
              "    }\n",
              "\n",
              "    .dataframe tbody tr th {\n",
              "        vertical-align: top;\n",
              "    }\n",
              "\n",
              "    .dataframe thead th {\n",
              "        text-align: right;\n",
              "    }\n",
              "</style>\n",
              "<table border=\"1\" class=\"dataframe\">\n",
              "  <thead>\n",
              "    <tr style=\"text-align: right;\">\n",
              "      <th></th>\n",
              "      <th>ID</th>\n",
              "      <th>Datetime</th>\n",
              "      <th>Count</th>\n",
              "    </tr>\n",
              "  </thead>\n",
              "  <tbody>\n",
              "    <tr>\n",
              "      <th>0</th>\n",
              "      <td>0</td>\n",
              "      <td>25-08-2012 00:00</td>\n",
              "      <td>8</td>\n",
              "    </tr>\n",
              "    <tr>\n",
              "      <th>1</th>\n",
              "      <td>1</td>\n",
              "      <td>25-08-2012 01:00</td>\n",
              "      <td>2</td>\n",
              "    </tr>\n",
              "    <tr>\n",
              "      <th>2</th>\n",
              "      <td>2</td>\n",
              "      <td>25-08-2012 02:00</td>\n",
              "      <td>6</td>\n",
              "    </tr>\n",
              "    <tr>\n",
              "      <th>3</th>\n",
              "      <td>3</td>\n",
              "      <td>25-08-2012 03:00</td>\n",
              "      <td>2</td>\n",
              "    </tr>\n",
              "    <tr>\n",
              "      <th>4</th>\n",
              "      <td>4</td>\n",
              "      <td>25-08-2012 04:00</td>\n",
              "      <td>2</td>\n",
              "    </tr>\n",
              "    <tr>\n",
              "      <th>...</th>\n",
              "      <td>...</td>\n",
              "      <td>...</td>\n",
              "      <td>...</td>\n",
              "    </tr>\n",
              "    <tr>\n",
              "      <th>18283</th>\n",
              "      <td>18283</td>\n",
              "      <td>25-09-2014 19:00</td>\n",
              "      <td>868</td>\n",
              "    </tr>\n",
              "    <tr>\n",
              "      <th>18284</th>\n",
              "      <td>18284</td>\n",
              "      <td>25-09-2014 20:00</td>\n",
              "      <td>732</td>\n",
              "    </tr>\n",
              "    <tr>\n",
              "      <th>18285</th>\n",
              "      <td>18285</td>\n",
              "      <td>25-09-2014 21:00</td>\n",
              "      <td>702</td>\n",
              "    </tr>\n",
              "    <tr>\n",
              "      <th>18286</th>\n",
              "      <td>18286</td>\n",
              "      <td>25-09-2014 22:00</td>\n",
              "      <td>580</td>\n",
              "    </tr>\n",
              "    <tr>\n",
              "      <th>18287</th>\n",
              "      <td>18287</td>\n",
              "      <td>25-09-2014 23:00</td>\n",
              "      <td>534</td>\n",
              "    </tr>\n",
              "  </tbody>\n",
              "</table>\n",
              "<p>18288 rows × 3 columns</p>\n",
              "</div>"
            ],
            "text/plain": [
              "          ID          Datetime  Count\n",
              "0          0  25-08-2012 00:00      8\n",
              "1          1  25-08-2012 01:00      2\n",
              "2          2  25-08-2012 02:00      6\n",
              "3          3  25-08-2012 03:00      2\n",
              "4          4  25-08-2012 04:00      2\n",
              "...      ...               ...    ...\n",
              "18283  18283  25-09-2014 19:00    868\n",
              "18284  18284  25-09-2014 20:00    732\n",
              "18285  18285  25-09-2014 21:00    702\n",
              "18286  18286  25-09-2014 22:00    580\n",
              "18287  18287  25-09-2014 23:00    534\n",
              "\n",
              "[18288 rows x 3 columns]"
            ]
          },
          "metadata": {
            "tags": []
          },
          "execution_count": 5
        }
      ]
    },
    {
      "cell_type": "code",
      "metadata": {
        "id": "1zIocn-6fBJH",
        "colab_type": "code",
        "outputId": "13a67e0e-fac4-412c-a309-57ecc7d0bbb1",
        "colab": {
          "base_uri": "https://localhost:8080/",
          "height": 118
        }
      },
      "source": [
        "train.dtypes, test.dtypes"
      ],
      "execution_count": 0,
      "outputs": [
        {
          "output_type": "execute_result",
          "data": {
            "text/plain": [
              "(ID           int64\n",
              " Datetime    object\n",
              " Count        int64\n",
              " dtype: object, ID           int64\n",
              " Datetime    object\n",
              " dtype: object)"
            ]
          },
          "metadata": {
            "tags": []
          },
          "execution_count": 6
        }
      ]
    },
    {
      "cell_type": "code",
      "metadata": {
        "id": "ovcXK0Bmh9Jb",
        "colab_type": "code",
        "colab": {}
      },
      "source": [
        "train['Datetime'] = pd.to_datetime(train['Datetime'], format= '%d-%m-%Y %H:%M')"
      ],
      "execution_count": 0,
      "outputs": []
    },
    {
      "cell_type": "code",
      "metadata": {
        "id": "y84kBGYpivfs",
        "colab_type": "code",
        "colab": {}
      },
      "source": [
        "test['Datetime'] = pd.to_datetime(test['Datetime'], format = '%d-%m-%Y %H:%M')\n",
        "train_original['Datetime'] = pd.to_datetime(train_original['Datetime'], format= '%d-%m-%Y %H:%M')\n",
        "test_original['Datetime'] = pd.to_datetime(test_original['Datetime'], format = '%d-%m-%Y %H:%M')"
      ],
      "execution_count": 0,
      "outputs": []
    },
    {
      "cell_type": "code",
      "metadata": {
        "id": "8qqhgozyihVb",
        "colab_type": "code",
        "outputId": "188f3b37-babb-4efa-9de5-0f36f165722a",
        "colab": {
          "base_uri": "https://localhost:8080/",
          "height": 195
        }
      },
      "source": [
        "train.head()"
      ],
      "execution_count": 0,
      "outputs": [
        {
          "output_type": "execute_result",
          "data": {
            "text/html": [
              "<div>\n",
              "<style scoped>\n",
              "    .dataframe tbody tr th:only-of-type {\n",
              "        vertical-align: middle;\n",
              "    }\n",
              "\n",
              "    .dataframe tbody tr th {\n",
              "        vertical-align: top;\n",
              "    }\n",
              "\n",
              "    .dataframe thead th {\n",
              "        text-align: right;\n",
              "    }\n",
              "</style>\n",
              "<table border=\"1\" class=\"dataframe\">\n",
              "  <thead>\n",
              "    <tr style=\"text-align: right;\">\n",
              "      <th></th>\n",
              "      <th>ID</th>\n",
              "      <th>Datetime</th>\n",
              "      <th>Count</th>\n",
              "    </tr>\n",
              "  </thead>\n",
              "  <tbody>\n",
              "    <tr>\n",
              "      <th>0</th>\n",
              "      <td>0</td>\n",
              "      <td>2012-08-25 00:00:00</td>\n",
              "      <td>8</td>\n",
              "    </tr>\n",
              "    <tr>\n",
              "      <th>1</th>\n",
              "      <td>1</td>\n",
              "      <td>2012-08-25 01:00:00</td>\n",
              "      <td>2</td>\n",
              "    </tr>\n",
              "    <tr>\n",
              "      <th>2</th>\n",
              "      <td>2</td>\n",
              "      <td>2012-08-25 02:00:00</td>\n",
              "      <td>6</td>\n",
              "    </tr>\n",
              "    <tr>\n",
              "      <th>3</th>\n",
              "      <td>3</td>\n",
              "      <td>2012-08-25 03:00:00</td>\n",
              "      <td>2</td>\n",
              "    </tr>\n",
              "    <tr>\n",
              "      <th>4</th>\n",
              "      <td>4</td>\n",
              "      <td>2012-08-25 04:00:00</td>\n",
              "      <td>2</td>\n",
              "    </tr>\n",
              "  </tbody>\n",
              "</table>\n",
              "</div>"
            ],
            "text/plain": [
              "   ID            Datetime  Count\n",
              "0   0 2012-08-25 00:00:00      8\n",
              "1   1 2012-08-25 01:00:00      2\n",
              "2   2 2012-08-25 02:00:00      6\n",
              "3   3 2012-08-25 03:00:00      2\n",
              "4   4 2012-08-25 04:00:00      2"
            ]
          },
          "metadata": {
            "tags": []
          },
          "execution_count": 12
        }
      ]
    },
    {
      "cell_type": "code",
      "metadata": {
        "id": "vU6d4AU6ijkp",
        "colab_type": "code",
        "outputId": "541b69d5-15fe-4691-ea6d-9fefebd11999",
        "colab": {
          "base_uri": "https://localhost:8080/",
          "height": 195
        }
      },
      "source": [
        "train_original.head()"
      ],
      "execution_count": 0,
      "outputs": [
        {
          "output_type": "execute_result",
          "data": {
            "text/html": [
              "<div>\n",
              "<style scoped>\n",
              "    .dataframe tbody tr th:only-of-type {\n",
              "        vertical-align: middle;\n",
              "    }\n",
              "\n",
              "    .dataframe tbody tr th {\n",
              "        vertical-align: top;\n",
              "    }\n",
              "\n",
              "    .dataframe thead th {\n",
              "        text-align: right;\n",
              "    }\n",
              "</style>\n",
              "<table border=\"1\" class=\"dataframe\">\n",
              "  <thead>\n",
              "    <tr style=\"text-align: right;\">\n",
              "      <th></th>\n",
              "      <th>ID</th>\n",
              "      <th>Datetime</th>\n",
              "      <th>Count</th>\n",
              "    </tr>\n",
              "  </thead>\n",
              "  <tbody>\n",
              "    <tr>\n",
              "      <th>0</th>\n",
              "      <td>0</td>\n",
              "      <td>2012-08-25 00:00:00</td>\n",
              "      <td>8</td>\n",
              "    </tr>\n",
              "    <tr>\n",
              "      <th>1</th>\n",
              "      <td>1</td>\n",
              "      <td>2012-08-25 01:00:00</td>\n",
              "      <td>2</td>\n",
              "    </tr>\n",
              "    <tr>\n",
              "      <th>2</th>\n",
              "      <td>2</td>\n",
              "      <td>2012-08-25 02:00:00</td>\n",
              "      <td>6</td>\n",
              "    </tr>\n",
              "    <tr>\n",
              "      <th>3</th>\n",
              "      <td>3</td>\n",
              "      <td>2012-08-25 03:00:00</td>\n",
              "      <td>2</td>\n",
              "    </tr>\n",
              "    <tr>\n",
              "      <th>4</th>\n",
              "      <td>4</td>\n",
              "      <td>2012-08-25 04:00:00</td>\n",
              "      <td>2</td>\n",
              "    </tr>\n",
              "  </tbody>\n",
              "</table>\n",
              "</div>"
            ],
            "text/plain": [
              "   ID            Datetime  Count\n",
              "0   0 2012-08-25 00:00:00      8\n",
              "1   1 2012-08-25 01:00:00      2\n",
              "2   2 2012-08-25 02:00:00      6\n",
              "3   3 2012-08-25 03:00:00      2\n",
              "4   4 2012-08-25 04:00:00      2"
            ]
          },
          "metadata": {
            "tags": []
          },
          "execution_count": 13
        }
      ]
    },
    {
      "cell_type": "code",
      "metadata": {
        "id": "kJHgEDv8ioYh",
        "colab_type": "code",
        "outputId": "01841d58-feca-40e5-d861-d76b8b1b6976",
        "colab": {
          "base_uri": "https://localhost:8080/",
          "height": 84
        }
      },
      "source": [
        "train.dtypes"
      ],
      "execution_count": 0,
      "outputs": [
        {
          "output_type": "execute_result",
          "data": {
            "text/plain": [
              "ID                   int64\n",
              "Datetime    datetime64[ns]\n",
              "Count                int64\n",
              "dtype: object"
            ]
          },
          "metadata": {
            "tags": []
          },
          "execution_count": 10
        }
      ]
    },
    {
      "cell_type": "code",
      "metadata": {
        "id": "7huRg_9lis0R",
        "colab_type": "code",
        "colab": {}
      },
      "source": [
        "for i in (train, test, train_original, test_original):\n",
        "  i['Hour'] = i['Datetime'].dt.hour \n",
        "  i['Day'] = i['Datetime'].dt.day\n",
        "  i['Month'] = i['Datetime'].dt.month \n",
        "  i['Year'] = i['Datetime'].dt.year "
      ],
      "execution_count": 0,
      "outputs": []
    },
    {
      "cell_type": "code",
      "metadata": {
        "id": "vCwnebsej7j4",
        "colab_type": "code",
        "outputId": "4edcb16b-d388-46a7-dd66-bc19bc7c6347",
        "colab": {
          "base_uri": "https://localhost:8080/",
          "height": 195
        }
      },
      "source": [
        "train.tail()"
      ],
      "execution_count": 0,
      "outputs": [
        {
          "output_type": "execute_result",
          "data": {
            "text/html": [
              "<div>\n",
              "<style scoped>\n",
              "    .dataframe tbody tr th:only-of-type {\n",
              "        vertical-align: middle;\n",
              "    }\n",
              "\n",
              "    .dataframe tbody tr th {\n",
              "        vertical-align: top;\n",
              "    }\n",
              "\n",
              "    .dataframe thead th {\n",
              "        text-align: right;\n",
              "    }\n",
              "</style>\n",
              "<table border=\"1\" class=\"dataframe\">\n",
              "  <thead>\n",
              "    <tr style=\"text-align: right;\">\n",
              "      <th></th>\n",
              "      <th>ID</th>\n",
              "      <th>Datetime</th>\n",
              "      <th>Count</th>\n",
              "      <th>Hour</th>\n",
              "      <th>Day</th>\n",
              "      <th>Month</th>\n",
              "      <th>Year</th>\n",
              "    </tr>\n",
              "  </thead>\n",
              "  <tbody>\n",
              "    <tr>\n",
              "      <th>18283</th>\n",
              "      <td>18283</td>\n",
              "      <td>2014-09-25 19:00:00</td>\n",
              "      <td>868</td>\n",
              "      <td>19</td>\n",
              "      <td>25</td>\n",
              "      <td>9</td>\n",
              "      <td>2014</td>\n",
              "    </tr>\n",
              "    <tr>\n",
              "      <th>18284</th>\n",
              "      <td>18284</td>\n",
              "      <td>2014-09-25 20:00:00</td>\n",
              "      <td>732</td>\n",
              "      <td>20</td>\n",
              "      <td>25</td>\n",
              "      <td>9</td>\n",
              "      <td>2014</td>\n",
              "    </tr>\n",
              "    <tr>\n",
              "      <th>18285</th>\n",
              "      <td>18285</td>\n",
              "      <td>2014-09-25 21:00:00</td>\n",
              "      <td>702</td>\n",
              "      <td>21</td>\n",
              "      <td>25</td>\n",
              "      <td>9</td>\n",
              "      <td>2014</td>\n",
              "    </tr>\n",
              "    <tr>\n",
              "      <th>18286</th>\n",
              "      <td>18286</td>\n",
              "      <td>2014-09-25 22:00:00</td>\n",
              "      <td>580</td>\n",
              "      <td>22</td>\n",
              "      <td>25</td>\n",
              "      <td>9</td>\n",
              "      <td>2014</td>\n",
              "    </tr>\n",
              "    <tr>\n",
              "      <th>18287</th>\n",
              "      <td>18287</td>\n",
              "      <td>2014-09-25 23:00:00</td>\n",
              "      <td>534</td>\n",
              "      <td>23</td>\n",
              "      <td>25</td>\n",
              "      <td>9</td>\n",
              "      <td>2014</td>\n",
              "    </tr>\n",
              "  </tbody>\n",
              "</table>\n",
              "</div>"
            ],
            "text/plain": [
              "          ID            Datetime  Count  Hour  Day  Month  Year\n",
              "18283  18283 2014-09-25 19:00:00    868    19   25      9  2014\n",
              "18284  18284 2014-09-25 20:00:00    732    20   25      9  2014\n",
              "18285  18285 2014-09-25 21:00:00    702    21   25      9  2014\n",
              "18286  18286 2014-09-25 22:00:00    580    22   25      9  2014\n",
              "18287  18287 2014-09-25 23:00:00    534    23   25      9  2014"
            ]
          },
          "metadata": {
            "tags": []
          },
          "execution_count": 16
        }
      ]
    },
    {
      "cell_type": "code",
      "metadata": {
        "id": "L4rIRB2yj893",
        "colab_type": "code",
        "colab": {}
      },
      "source": [
        "train['Day of week'] = train['Datetime'].dt.dayofweek"
      ],
      "execution_count": 0,
      "outputs": []
    },
    {
      "cell_type": "code",
      "metadata": {
        "id": "Vwqzp_krkh_4",
        "colab_type": "code",
        "outputId": "56e2f156-fa6c-4e4d-8163-b17f8031c5ea",
        "colab": {
          "base_uri": "https://localhost:8080/",
          "height": 195
        }
      },
      "source": [
        "train.head()"
      ],
      "execution_count": 0,
      "outputs": [
        {
          "output_type": "execute_result",
          "data": {
            "text/html": [
              "<div>\n",
              "<style scoped>\n",
              "    .dataframe tbody tr th:only-of-type {\n",
              "        vertical-align: middle;\n",
              "    }\n",
              "\n",
              "    .dataframe tbody tr th {\n",
              "        vertical-align: top;\n",
              "    }\n",
              "\n",
              "    .dataframe thead th {\n",
              "        text-align: right;\n",
              "    }\n",
              "</style>\n",
              "<table border=\"1\" class=\"dataframe\">\n",
              "  <thead>\n",
              "    <tr style=\"text-align: right;\">\n",
              "      <th></th>\n",
              "      <th>ID</th>\n",
              "      <th>Datetime</th>\n",
              "      <th>Count</th>\n",
              "      <th>Hour</th>\n",
              "      <th>Day</th>\n",
              "      <th>Month</th>\n",
              "      <th>Year</th>\n",
              "      <th>Day of week</th>\n",
              "    </tr>\n",
              "  </thead>\n",
              "  <tbody>\n",
              "    <tr>\n",
              "      <th>0</th>\n",
              "      <td>0</td>\n",
              "      <td>2012-08-25 00:00:00</td>\n",
              "      <td>8</td>\n",
              "      <td>0</td>\n",
              "      <td>25</td>\n",
              "      <td>8</td>\n",
              "      <td>2012</td>\n",
              "      <td>5</td>\n",
              "    </tr>\n",
              "    <tr>\n",
              "      <th>1</th>\n",
              "      <td>1</td>\n",
              "      <td>2012-08-25 01:00:00</td>\n",
              "      <td>2</td>\n",
              "      <td>1</td>\n",
              "      <td>25</td>\n",
              "      <td>8</td>\n",
              "      <td>2012</td>\n",
              "      <td>5</td>\n",
              "    </tr>\n",
              "    <tr>\n",
              "      <th>2</th>\n",
              "      <td>2</td>\n",
              "      <td>2012-08-25 02:00:00</td>\n",
              "      <td>6</td>\n",
              "      <td>2</td>\n",
              "      <td>25</td>\n",
              "      <td>8</td>\n",
              "      <td>2012</td>\n",
              "      <td>5</td>\n",
              "    </tr>\n",
              "    <tr>\n",
              "      <th>3</th>\n",
              "      <td>3</td>\n",
              "      <td>2012-08-25 03:00:00</td>\n",
              "      <td>2</td>\n",
              "      <td>3</td>\n",
              "      <td>25</td>\n",
              "      <td>8</td>\n",
              "      <td>2012</td>\n",
              "      <td>5</td>\n",
              "    </tr>\n",
              "    <tr>\n",
              "      <th>4</th>\n",
              "      <td>4</td>\n",
              "      <td>2012-08-25 04:00:00</td>\n",
              "      <td>2</td>\n",
              "      <td>4</td>\n",
              "      <td>25</td>\n",
              "      <td>8</td>\n",
              "      <td>2012</td>\n",
              "      <td>5</td>\n",
              "    </tr>\n",
              "  </tbody>\n",
              "</table>\n",
              "</div>"
            ],
            "text/plain": [
              "   ID            Datetime  Count  Hour  Day  Month  Year  Day of week\n",
              "0   0 2012-08-25 00:00:00      8     0   25      8  2012            5\n",
              "1   1 2012-08-25 01:00:00      2     1   25      8  2012            5\n",
              "2   2 2012-08-25 02:00:00      6     2   25      8  2012            5\n",
              "3   3 2012-08-25 03:00:00      2     3   25      8  2012            5\n",
              "4   4 2012-08-25 04:00:00      2     4   25      8  2012            5"
            ]
          },
          "metadata": {
            "tags": []
          },
          "execution_count": 18
        }
      ]
    },
    {
      "cell_type": "code",
      "metadata": {
        "id": "LtTPZlRKkjrw",
        "colab_type": "code",
        "colab": {}
      },
      "source": [
        "def applyer(row):\n",
        "  if row.dayofweek == 5 or row.dayofweek == 6 :\n",
        "    return 1\n",
        "  else:\n",
        "    return 0"
      ],
      "execution_count": 0,
      "outputs": []
    },
    {
      "cell_type": "code",
      "metadata": {
        "id": "ru4Q3PSYnK_M",
        "colab_type": "code",
        "colab": {}
      },
      "source": [
        "train['Weekend'] = train['Datetime'].apply(applyer)"
      ],
      "execution_count": 0,
      "outputs": []
    },
    {
      "cell_type": "code",
      "metadata": {
        "id": "Hf5DRiXvnUl7",
        "colab_type": "code",
        "outputId": "e90bc22a-6e60-477f-ff39-fa3dd1015ce0",
        "colab": {
          "base_uri": "https://localhost:8080/",
          "height": 195
        }
      },
      "source": [
        "train.head()"
      ],
      "execution_count": 0,
      "outputs": [
        {
          "output_type": "execute_result",
          "data": {
            "text/html": [
              "<div>\n",
              "<style scoped>\n",
              "    .dataframe tbody tr th:only-of-type {\n",
              "        vertical-align: middle;\n",
              "    }\n",
              "\n",
              "    .dataframe tbody tr th {\n",
              "        vertical-align: top;\n",
              "    }\n",
              "\n",
              "    .dataframe thead th {\n",
              "        text-align: right;\n",
              "    }\n",
              "</style>\n",
              "<table border=\"1\" class=\"dataframe\">\n",
              "  <thead>\n",
              "    <tr style=\"text-align: right;\">\n",
              "      <th></th>\n",
              "      <th>ID</th>\n",
              "      <th>Datetime</th>\n",
              "      <th>Count</th>\n",
              "      <th>Hour</th>\n",
              "      <th>Day</th>\n",
              "      <th>Month</th>\n",
              "      <th>Year</th>\n",
              "      <th>Day of week</th>\n",
              "      <th>Weekend</th>\n",
              "    </tr>\n",
              "  </thead>\n",
              "  <tbody>\n",
              "    <tr>\n",
              "      <th>0</th>\n",
              "      <td>0</td>\n",
              "      <td>2012-08-25 00:00:00</td>\n",
              "      <td>8</td>\n",
              "      <td>0</td>\n",
              "      <td>25</td>\n",
              "      <td>8</td>\n",
              "      <td>2012</td>\n",
              "      <td>5</td>\n",
              "      <td>1</td>\n",
              "    </tr>\n",
              "    <tr>\n",
              "      <th>1</th>\n",
              "      <td>1</td>\n",
              "      <td>2012-08-25 01:00:00</td>\n",
              "      <td>2</td>\n",
              "      <td>1</td>\n",
              "      <td>25</td>\n",
              "      <td>8</td>\n",
              "      <td>2012</td>\n",
              "      <td>5</td>\n",
              "      <td>1</td>\n",
              "    </tr>\n",
              "    <tr>\n",
              "      <th>2</th>\n",
              "      <td>2</td>\n",
              "      <td>2012-08-25 02:00:00</td>\n",
              "      <td>6</td>\n",
              "      <td>2</td>\n",
              "      <td>25</td>\n",
              "      <td>8</td>\n",
              "      <td>2012</td>\n",
              "      <td>5</td>\n",
              "      <td>1</td>\n",
              "    </tr>\n",
              "    <tr>\n",
              "      <th>3</th>\n",
              "      <td>3</td>\n",
              "      <td>2012-08-25 03:00:00</td>\n",
              "      <td>2</td>\n",
              "      <td>3</td>\n",
              "      <td>25</td>\n",
              "      <td>8</td>\n",
              "      <td>2012</td>\n",
              "      <td>5</td>\n",
              "      <td>1</td>\n",
              "    </tr>\n",
              "    <tr>\n",
              "      <th>4</th>\n",
              "      <td>4</td>\n",
              "      <td>2012-08-25 04:00:00</td>\n",
              "      <td>2</td>\n",
              "      <td>4</td>\n",
              "      <td>25</td>\n",
              "      <td>8</td>\n",
              "      <td>2012</td>\n",
              "      <td>5</td>\n",
              "      <td>1</td>\n",
              "    </tr>\n",
              "  </tbody>\n",
              "</table>\n",
              "</div>"
            ],
            "text/plain": [
              "   ID            Datetime  Count  Hour  Day  Month  Year  Day of week  Weekend\n",
              "0   0 2012-08-25 00:00:00      8     0   25      8  2012            5        1\n",
              "1   1 2012-08-25 01:00:00      2     1   25      8  2012            5        1\n",
              "2   2 2012-08-25 02:00:00      6     2   25      8  2012            5        1\n",
              "3   3 2012-08-25 03:00:00      2     3   25      8  2012            5        1\n",
              "4   4 2012-08-25 04:00:00      2     4   25      8  2012            5        1"
            ]
          },
          "metadata": {
            "tags": []
          },
          "execution_count": 23
        }
      ]
    },
    {
      "cell_type": "code",
      "metadata": {
        "id": "9uKq8z8_nWG1",
        "colab_type": "code",
        "colab": {}
      },
      "source": [
        "train.set_index('Datetime', inplace = True)"
      ],
      "execution_count": 0,
      "outputs": []
    },
    {
      "cell_type": "code",
      "metadata": {
        "id": "rBPi3erNn34I",
        "colab_type": "code",
        "outputId": "fe4fb3cd-a92d-4b50-c4a1-2544d512a70e",
        "colab": {
          "base_uri": "https://localhost:8080/",
          "height": 225
        }
      },
      "source": [
        "train.head()"
      ],
      "execution_count": 0,
      "outputs": [
        {
          "output_type": "execute_result",
          "data": {
            "text/html": [
              "<div>\n",
              "<style scoped>\n",
              "    .dataframe tbody tr th:only-of-type {\n",
              "        vertical-align: middle;\n",
              "    }\n",
              "\n",
              "    .dataframe tbody tr th {\n",
              "        vertical-align: top;\n",
              "    }\n",
              "\n",
              "    .dataframe thead th {\n",
              "        text-align: right;\n",
              "    }\n",
              "</style>\n",
              "<table border=\"1\" class=\"dataframe\">\n",
              "  <thead>\n",
              "    <tr style=\"text-align: right;\">\n",
              "      <th></th>\n",
              "      <th>ID</th>\n",
              "      <th>Count</th>\n",
              "      <th>Hour</th>\n",
              "      <th>Day</th>\n",
              "      <th>Month</th>\n",
              "      <th>Year</th>\n",
              "      <th>Day of week</th>\n",
              "      <th>Weekend</th>\n",
              "    </tr>\n",
              "    <tr>\n",
              "      <th>Datetime</th>\n",
              "      <th></th>\n",
              "      <th></th>\n",
              "      <th></th>\n",
              "      <th></th>\n",
              "      <th></th>\n",
              "      <th></th>\n",
              "      <th></th>\n",
              "      <th></th>\n",
              "    </tr>\n",
              "  </thead>\n",
              "  <tbody>\n",
              "    <tr>\n",
              "      <th>2012-08-25 00:00:00</th>\n",
              "      <td>0</td>\n",
              "      <td>8</td>\n",
              "      <td>0</td>\n",
              "      <td>25</td>\n",
              "      <td>8</td>\n",
              "      <td>2012</td>\n",
              "      <td>5</td>\n",
              "      <td>1</td>\n",
              "    </tr>\n",
              "    <tr>\n",
              "      <th>2012-08-25 01:00:00</th>\n",
              "      <td>1</td>\n",
              "      <td>2</td>\n",
              "      <td>1</td>\n",
              "      <td>25</td>\n",
              "      <td>8</td>\n",
              "      <td>2012</td>\n",
              "      <td>5</td>\n",
              "      <td>1</td>\n",
              "    </tr>\n",
              "    <tr>\n",
              "      <th>2012-08-25 02:00:00</th>\n",
              "      <td>2</td>\n",
              "      <td>6</td>\n",
              "      <td>2</td>\n",
              "      <td>25</td>\n",
              "      <td>8</td>\n",
              "      <td>2012</td>\n",
              "      <td>5</td>\n",
              "      <td>1</td>\n",
              "    </tr>\n",
              "    <tr>\n",
              "      <th>2012-08-25 03:00:00</th>\n",
              "      <td>3</td>\n",
              "      <td>2</td>\n",
              "      <td>3</td>\n",
              "      <td>25</td>\n",
              "      <td>8</td>\n",
              "      <td>2012</td>\n",
              "      <td>5</td>\n",
              "      <td>1</td>\n",
              "    </tr>\n",
              "    <tr>\n",
              "      <th>2012-08-25 04:00:00</th>\n",
              "      <td>4</td>\n",
              "      <td>2</td>\n",
              "      <td>4</td>\n",
              "      <td>25</td>\n",
              "      <td>8</td>\n",
              "      <td>2012</td>\n",
              "      <td>5</td>\n",
              "      <td>1</td>\n",
              "    </tr>\n",
              "  </tbody>\n",
              "</table>\n",
              "</div>"
            ],
            "text/plain": [
              "                     ID  Count  Hour  Day  Month  Year  Day of week  Weekend\n",
              "Datetime                                                                    \n",
              "2012-08-25 00:00:00   0      8     0   25      8  2012            5        1\n",
              "2012-08-25 01:00:00   1      2     1   25      8  2012            5        1\n",
              "2012-08-25 02:00:00   2      6     2   25      8  2012            5        1\n",
              "2012-08-25 03:00:00   3      2     3   25      8  2012            5        1\n",
              "2012-08-25 04:00:00   4      2     4   25      8  2012            5        1"
            ]
          },
          "metadata": {
            "tags": []
          },
          "execution_count": 25
        }
      ]
    },
    {
      "cell_type": "code",
      "metadata": {
        "id": "fcMoEREen5c-",
        "colab_type": "code",
        "colab": {}
      },
      "source": [
        "train.drop(['ID'], axis=1, inplace = True)"
      ],
      "execution_count": 0,
      "outputs": []
    },
    {
      "cell_type": "code",
      "metadata": {
        "id": "pdy1EhGUoALP",
        "colab_type": "code",
        "outputId": "baf0d542-c4c1-4525-d6e7-d3b381f355e6",
        "colab": {
          "base_uri": "https://localhost:8080/",
          "height": 225
        }
      },
      "source": [
        "train.head()"
      ],
      "execution_count": 0,
      "outputs": [
        {
          "output_type": "execute_result",
          "data": {
            "text/html": [
              "<div>\n",
              "<style scoped>\n",
              "    .dataframe tbody tr th:only-of-type {\n",
              "        vertical-align: middle;\n",
              "    }\n",
              "\n",
              "    .dataframe tbody tr th {\n",
              "        vertical-align: top;\n",
              "    }\n",
              "\n",
              "    .dataframe thead th {\n",
              "        text-align: right;\n",
              "    }\n",
              "</style>\n",
              "<table border=\"1\" class=\"dataframe\">\n",
              "  <thead>\n",
              "    <tr style=\"text-align: right;\">\n",
              "      <th></th>\n",
              "      <th>Count</th>\n",
              "      <th>Hour</th>\n",
              "      <th>Day</th>\n",
              "      <th>Month</th>\n",
              "      <th>Year</th>\n",
              "      <th>Day of week</th>\n",
              "      <th>Weekend</th>\n",
              "    </tr>\n",
              "    <tr>\n",
              "      <th>Datetime</th>\n",
              "      <th></th>\n",
              "      <th></th>\n",
              "      <th></th>\n",
              "      <th></th>\n",
              "      <th></th>\n",
              "      <th></th>\n",
              "      <th></th>\n",
              "    </tr>\n",
              "  </thead>\n",
              "  <tbody>\n",
              "    <tr>\n",
              "      <th>2012-08-25 00:00:00</th>\n",
              "      <td>8</td>\n",
              "      <td>0</td>\n",
              "      <td>25</td>\n",
              "      <td>8</td>\n",
              "      <td>2012</td>\n",
              "      <td>5</td>\n",
              "      <td>1</td>\n",
              "    </tr>\n",
              "    <tr>\n",
              "      <th>2012-08-25 01:00:00</th>\n",
              "      <td>2</td>\n",
              "      <td>1</td>\n",
              "      <td>25</td>\n",
              "      <td>8</td>\n",
              "      <td>2012</td>\n",
              "      <td>5</td>\n",
              "      <td>1</td>\n",
              "    </tr>\n",
              "    <tr>\n",
              "      <th>2012-08-25 02:00:00</th>\n",
              "      <td>6</td>\n",
              "      <td>2</td>\n",
              "      <td>25</td>\n",
              "      <td>8</td>\n",
              "      <td>2012</td>\n",
              "      <td>5</td>\n",
              "      <td>1</td>\n",
              "    </tr>\n",
              "    <tr>\n",
              "      <th>2012-08-25 03:00:00</th>\n",
              "      <td>2</td>\n",
              "      <td>3</td>\n",
              "      <td>25</td>\n",
              "      <td>8</td>\n",
              "      <td>2012</td>\n",
              "      <td>5</td>\n",
              "      <td>1</td>\n",
              "    </tr>\n",
              "    <tr>\n",
              "      <th>2012-08-25 04:00:00</th>\n",
              "      <td>2</td>\n",
              "      <td>4</td>\n",
              "      <td>25</td>\n",
              "      <td>8</td>\n",
              "      <td>2012</td>\n",
              "      <td>5</td>\n",
              "      <td>1</td>\n",
              "    </tr>\n",
              "  </tbody>\n",
              "</table>\n",
              "</div>"
            ],
            "text/plain": [
              "                     Count  Hour  Day  Month  Year  Day of week  Weekend\n",
              "Datetime                                                                \n",
              "2012-08-25 00:00:00      8     0   25      8  2012            5        1\n",
              "2012-08-25 01:00:00      2     1   25      8  2012            5        1\n",
              "2012-08-25 02:00:00      6     2   25      8  2012            5        1\n",
              "2012-08-25 03:00:00      2     3   25      8  2012            5        1\n",
              "2012-08-25 04:00:00      2     4   25      8  2012            5        1"
            ]
          },
          "metadata": {
            "tags": []
          },
          "execution_count": 27
        }
      ]
    },
    {
      "cell_type": "code",
      "metadata": {
        "id": "1VqEb29foBwG",
        "colab_type": "code",
        "outputId": "3dafa8de-5b8c-41ad-f28b-b5616215a6ae",
        "colab": {
          "base_uri": "https://localhost:8080/",
          "height": 514
        }
      },
      "source": [
        "plt.figure(figsize = (12,8))\n",
        "plt.plot(train['Count'], label = 'Passenger count')\n",
        "plt.xlabel(\"Time (year-month)\")\n",
        "plt.ylabel('Passengers count')\n",
        "plt.legend(loc = 'best')"
      ],
      "execution_count": 0,
      "outputs": [
        {
          "output_type": "execute_result",
          "data": {
            "text/plain": [
              "<matplotlib.legend.Legend at 0x7f3ff0aed0f0>"
            ]
          },
          "metadata": {
            "tags": []
          },
          "execution_count": 34
        },
        {
          "output_type": "display_data",
          "data": {
            "image/png": "[encoded data removed]",
            "text/plain": [
              "<Figure size 864x576 with 1 Axes>"
            ]
          },
          "metadata": {
            "tags": []
          }
        }
      ]
    },
    {
      "cell_type": "code",
      "metadata": {
        "id": "NJfTnZvxoYwh",
        "colab_type": "code",
        "colab": {}
      },
      "source": [
        ""
      ],
      "execution_count": 0,
      "outputs": []
    }
  ]
}