{
  "nbformat": 4,
  "nbformat_minor": 0,
  "metadata": {
    "colab": {
      "name": "Untitled7.ipynb",
      "provenance": [],
      "mount_file_id": "106bcvRPigJGWP8ssi9GuTAa5dSW-rgzC",
      "authorship_tag": "ABX9TyOWVkrF19nx2ep63smAqLGg"
    },
    "kernelspec": {
      "name": "python3",
      "display_name": "Python 3"
    }
  },
  "cells": [
    {
      "cell_type": "code",
      "metadata": {
        "id": "ywB5MwOgbMMu",
        "colab_type": "code",
        "colab": {}
      },
      "source": [
        "import pandas as pd"
      ],
      "execution_count": 0,
      "outputs": []
    },
    {
      "cell_type": "code",
      "metadata": {
        "id": "Pdk_Yi2Kb0v8",
        "colab_type": "code",
        "colab": {}
      },
      "source": [
        "df = pd.read_excel('drive/My Drive/creditcard_minimised.xlsx')"
      ],
      "execution_count": 0,
      "outputs": []
    },
    {
      "cell_type": "code",
      "metadata": {
        "id": "qP20rB9hb29z",
        "colab_type": "code",
        "colab": {
          "base_uri": "https://localhost:8080/",
          "height": 34
        },
        "outputId": "7cf75ea0-fc32-42ed-eac1-1afe6d6c8ae5"
      },
      "source": [
        "df_1 = df[df['Class']==1]\n",
        "df_1.shape"
      ],
      "execution_count": 4,
      "outputs": [
        {
          "output_type": "execute_result",
          "data": {
            "text/plain": [
              "(492, 5)"
            ]
          },
          "metadata": {
            "tags": []
          },
          "execution_count": 4
        }
      ]
    },
    {
      "cell_type": "code",
      "metadata": {
        "id": "lTBXGbcQcNkw",
        "colab_type": "code",
        "colab": {
          "base_uri": "https://localhost:8080/",
          "height": 34
        },
        "outputId": "26d5ea96-5827-4b59-c236-ebe092e4b17c"
      },
      "source": [
        "df_0 = df[df['Class']==0]\n",
        "df_0.shape"
      ],
      "execution_count": 5,
      "outputs": [
        {
          "output_type": "execute_result",
          "data": {
            "text/plain": [
              "(284315, 5)"
            ]
          },
          "metadata": {
            "tags": []
          },
          "execution_count": 5
        }
      ]
    },
    {
      "cell_type": "code",
      "metadata": {
        "id": "rXgTEYGzcQ_2",
        "colab_type": "code",
        "colab": {}
      },
      "source": [
        "df_1 = df_1[0:400]\n",
        "df_0 = df_1[0:400]"
      ],
      "execution_count": 0,
      "outputs": []
    },
    {
      "cell_type": "code",
      "metadata": {
        "id": "q1mZRLsgcYMW",
        "colab_type": "code",
        "colab": {}
      },
      "source": [
        "df = df_1.append(df_0, ignore_index=True)"
      ],
      "execution_count": 0,
      "outputs": []
    },
    {
      "cell_type": "code",
      "metadata": {
        "id": "swoZFzhGcdHV",
        "colab_type": "code",
        "colab": {
          "base_uri": "https://localhost:8080/",
          "height": 195
        },
        "outputId": "2bd57fff-5a7e-4b77-ffa5-a1dec3e3a413"
      },
      "source": [
        "df.head()"
      ],
      "execution_count": 8,
      "outputs": [
        {
          "output_type": "execute_result",
          "data": {
            "text/html": [
              "<div>\n",
              "<style scoped>\n",
              "    .dataframe tbody tr th:only-of-type {\n",
              "        vertical-align: middle;\n",
              "    }\n",
              "\n",
              "    .dataframe tbody tr th {\n",
              "        vertical-align: top;\n",
              "    }\n",
              "\n",
              "    .dataframe thead th {\n",
              "        text-align: right;\n",
              "    }\n",
              "</style>\n",
              "<table border=\"1\" class=\"dataframe\">\n",
              "  <thead>\n",
              "    <tr style=\"text-align: right;\">\n",
              "      <th></th>\n",
              "      <th>V6</th>\n",
              "      <th>V9</th>\n",
              "      <th>V12</th>\n",
              "      <th>V17</th>\n",
              "      <th>Class</th>\n",
              "    </tr>\n",
              "  </thead>\n",
              "  <tbody>\n",
              "    <tr>\n",
              "      <th>0</th>\n",
              "      <td>-1.426545</td>\n",
              "      <td>-2.770089</td>\n",
              "      <td>-2.899907</td>\n",
              "      <td>-2.830056</td>\n",
              "      <td>1</td>\n",
              "    </tr>\n",
              "    <tr>\n",
              "      <th>1</th>\n",
              "      <td>-1.064823</td>\n",
              "      <td>-0.270953</td>\n",
              "      <td>-0.503141</td>\n",
              "      <td>0.599717</td>\n",
              "      <td>1</td>\n",
              "    </tr>\n",
              "    <tr>\n",
              "      <th>2</th>\n",
              "      <td>-0.075788</td>\n",
              "      <td>-0.238253</td>\n",
              "      <td>-6.560124</td>\n",
              "      <td>-4.781831</td>\n",
              "      <td>1</td>\n",
              "    </tr>\n",
              "    <tr>\n",
              "      <th>3</th>\n",
              "      <td>-1.706536</td>\n",
              "      <td>-0.247768</td>\n",
              "      <td>-10.912819</td>\n",
              "      <td>-12.598419</td>\n",
              "      <td>1</td>\n",
              "    </tr>\n",
              "    <tr>\n",
              "      <th>4</th>\n",
              "      <td>-1.357746</td>\n",
              "      <td>-1.282858</td>\n",
              "      <td>-4.609628</td>\n",
              "      <td>6.739384</td>\n",
              "      <td>1</td>\n",
              "    </tr>\n",
              "  </tbody>\n",
              "</table>\n",
              "</div>"
            ],
            "text/plain": [
              "         V6        V9        V12        V17  Class\n",
              "0 -1.426545 -2.770089  -2.899907  -2.830056      1\n",
              "1 -1.064823 -0.270953  -0.503141   0.599717      1\n",
              "2 -0.075788 -0.238253  -6.560124  -4.781831      1\n",
              "3 -1.706536 -0.247768 -10.912819 -12.598419      1\n",
              "4 -1.357746 -1.282858  -4.609628   6.739384      1"
            ]
          },
          "metadata": {
            "tags": []
          },
          "execution_count": 8
        }
      ]
    },
    {
      "cell_type": "code",
      "metadata": {
        "id": "VVa-nWtScd-z",
        "colab_type": "code",
        "colab": {}
      },
      "source": [
        ""
      ],
      "execution_count": 0,
      "outputs": []
    }
  ]
}