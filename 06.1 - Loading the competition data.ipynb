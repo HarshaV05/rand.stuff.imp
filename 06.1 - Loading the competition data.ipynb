{
 "cells": [
  {
   "cell_type": "markdown",
   "metadata": {},
   "source": [
    "# How to load the competition dataset\n",
    "1. download the training data set from Canvas\n",
    "2. put it in the same folder as your notebook\n",
    "3. execute the code below\n",
    "4. The training data will be stored in the variable `X_train`, the targets in `y_train`."
   ]
  },
  {
   "cell_type": "code",
   "execution_count": null,
   "metadata": {},
   "outputs": [],
   "source": [
    "def load_competition_training_data():\n",
    "    train_df = pd.read_json('train_data.json')\n",
    "    y = train_df['targets']\n",
    "    train_df.drop('targets', axis=1, inplace=True)\n",
    "    X = train_df.values\n",
    "    return X,y\n",
    "\n",
    "X_train, y_train = load_competition_training_data()"
   ]
  },
  {
   "cell_type": "markdown",
   "metadata": {},
   "source": [
    "After the test data has been published, load the test dataset. Execute the code below. Test data will be in `X_test`, test targets will be in `y_test`."
   ]
  },
  {
   "cell_type": "code",
   "execution_count": null,
   "metadata": {},
   "outputs": [],
   "source": [
    "def load_competition_testing_data():\n",
    "    train_df = pd.read_json('test_data.json')\n",
    "    y = train_df['targets']\n",
    "    train_df.drop('targets', axis=1, inplace=True)\n",
    "    X = train_df.values\n",
    "    return X,y\n",
    "\n",
    "\n",
    "X_test, Y_test = load_competition_testing_data()"
   ]
  }
 ],
 "metadata": {
  "kernelspec": {
   "display_name": "Python 3",
   "language": "python",
   "name": "python3"
  },
  "language_info": {
   "codemirror_mode": {
    "name": "ipython",
    "version": 3
   },
   "file_extension": ".py",
   "mimetype": "text/x-python",
   "name": "python",
   "nbconvert_exporter": "python",
   "pygments_lexer": "ipython3",
   "version": "3.7.1"
  }
 },
 "nbformat": 4,
 "nbformat_minor": 2
}
